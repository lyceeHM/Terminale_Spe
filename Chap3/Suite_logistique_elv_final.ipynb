{
 "cells": [
  {
   "cell_type": "markdown",
   "metadata": {},
   "source": [
    "<img src=\"http://maths.bro.free.fr/python_lycee.png\">\n",
    "<div id=\"titre\">\n",
    "<h1 style=\"color:white;\n",
    "  font-family:Comic Sans MS;\n",
    "  font-size:3em;\n",
    "  background-color:black;\n",
    "  text-align:center;\n",
    "  padding:5px\">TP1 : Suite logistique</h1>\n",
    "<div style=\"font-family:Comic Sans MS; background-color:#888;box-shadow: 8px 8px 0px #aaa; text-align:center; width: 50%; color:white\">TSPE : Chapitre 3 - Suites</div>\n",
    "</div>"
   ]
  },
  {
   "cell_type": "markdown",
   "metadata": {},
   "source": [
    "<blockquote style=\"border-left: 3px solid black\">\n",
    "En Alsace, on dénombre dans une réserve naturelle, $270$\n",
    "pies bavardes sur $60\\,\\text{km}^{2}$. \n",
    "<br> Nous proposons deux modèles d'évolution de cette population\n",
    "à long terme.\n",
    "</blockquote>"
   ]
  },
  {
   "cell_type": "markdown",
   "metadata": {},
   "source": [
    "<div style=\"color:black;font-weight:bold\"> <span style=\"font-size:4em\">A </span> <span style=\"font-family:Comic Sans MS;font-size:2em;color:white;background-color:gray;text-align:center\"> Modèle de Malthus</span></div> "
   ]
  },
  {
   "cell_type": "markdown",
   "metadata": {},
   "source": [
    "<blockquote style=\"border-left: 3px solid black\">\n",
    "Thomas Robert <b>Malthus</b> (1766-1834) était un économiste britannique. Dans son modèle d'évolution de population, il suppose que le taux de variation entre deux mesures consécutives est constant.\n",
    "<br>\n",
    "<br> <b>Plus précisément</b>\n",
    "<blockquote style=\"border-left: 2px solid black;background-color:lightblue\">\n",
    "    On <b>modélise</b> ici que la population de pies bavardes augmente chaque année de $10\\,\\%$.\n",
    "</blockquote>\n",
    "</blockquote>"
   ]
  },
  {
   "cell_type": "markdown",
   "metadata": {},
   "source": [
    "<span style=\"font-size:2em;font-weight:bold\">1.</span>&nbsp; A partir de quelle année la population comptera-t-elle plus de $1\\,000$ pies\n",
    "?"
   ]
  },
  {
   "cell_type": "code",
   "execution_count": null,
   "metadata": {},
   "outputs": [],
   "source": [
    "p = 270\n",
    "n = 0\n",
    "while ... :\n",
    "    p = ...\n",
    "    n = ...\n",
    "n"
   ]
  },
  {
   "cell_type": "markdown",
   "metadata": {},
   "source": [
    "<span style=\"font-size:2em;font-weight:bold\">2.</span>&nbsp; Soit $p_n$ le nombre d’individus au bout de $n$ heures. \n",
    "<br> Donner l’expression de $p_n$ en fonction de $n$."
   ]
  },
  {
   "cell_type": "markdown",
   "metadata": {},
   "source": [
    "<span style=\"font-size:2em;font-weight:bold\">3.</span>&nbsp; Créer la fonction nommée <code style=\"background-color:white\">pie1</code> de paramètre <code style=\"background-color:white\">n</code> qui calcule et renvoie la liste des $n$ termes $\\left[p_0\\,;\\,p_1\\,;\\,\\ldots\\,;\\,p_{n-1}\\right]$"
   ]
  },
  {
   "cell_type": "code",
   "execution_count": null,
   "metadata": {},
   "outputs": [],
   "source": [
    "def pie1(n):\n",
    "    return [... for k in range(n)]"
   ]
  },
  {
   "cell_type": "markdown",
   "metadata": {},
   "source": [
    "<span style=\"font-size:2em;font-weight:bold\">4.</span>&nbsp; Quelle est la limite de la suite $\\left(p_n\\right)$ ?"
   ]
  },
  {
   "cell_type": "markdown",
   "metadata": {},
   "source": [
    "<div style=\"color:black;font-weight:bold\"> <span style=\"font-size:4em\">B </span> <span style=\"font-family:Comic Sans MS;font-size:2em;color:white;background-color:gray;text-align:center\"> Modèle de Verhulst</span></div> "
   ]
  },
  {
   "cell_type": "markdown",
   "metadata": {},
   "source": [
    "<b>Problème de Malthus</b>\n",
    "<blockquote style=\"border-left: 3px solid black\">\n",
    "        Si les prédictions du modèle de Malthus peuvent se révéler correctes sur un temps\n",
    "court, elles sont irréalistes sur un temps long, notamment en raison de l’insuffisance\n",
    "        des ressources disponibles.\n",
    "     </blockquote>\n",
    "   <b>Vers Verhulst</b>\n",
    "        <blockquote style=\"border-left: 3px solid black\">\n",
    "        Vers $1840$, le mathématicien belge <b>Verhulst</b> a créé un modèle d'étude des populations.\n",
    "<br> A l'instant $n$ la population est notée $p_{n}$.\n",
    "Le modèle choisi prend en compte la limitation des ressources de la\n",
    "population ainsi $p_{n}\\leqslant M$, quel que soit $n\\in\\mathbb{N}$.\n",
    "<br><br> L'idée de <b>Verhulst</b> est de considérer que le taux de variation entre deux mesures consécutives est proportionnel à               $$1-\\dfrac{p_{n}}{M}$$ \n",
    "    qui est le taux de non occupation de la population dans son milieu.\n",
    "   <br><br><b>Modèle choisi</b>\n",
    "        <blockquote style=\"border-left: 2px solid black;background-color:lightblue\">\n",
    "        <ul>\n",
    "            <li> <b>On suppose que</b> le nombre de pies n'excèdera pas $M=11\\,000$ individus.</li>\n",
    "            <li> Le nombre de pies à l'année  $n$ est noté $\\pi_n$ et $$\\pi_{n+1}=1,1\\times \\pi_n\\times\\left(1-\\dfrac{\\pi_n}{M}\\right)$$</li>\n",
    "        </ul>\n",
    "        </blockquote>\n",
    "    </blockquote>"
   ]
  },
  {
   "cell_type": "markdown",
   "metadata": {},
   "source": [
    "<span style=\"font-size:2em;font-weight:bold\">1.</span>&nbsp; Compléter la fonction <code style=\"background-color:white\">pie2</code> de paramètre <code style=\"background-color:white\">n</code> qui calcule et renvoie la liste des $n$ termes $\\left[\\pi_0\\,;\\,\\pi_1\\,;\\,\\ldots\\,;\\,\\pi_{n-1}\\right]$"
   ]
  },
  {
   "cell_type": "code",
   "execution_count": null,
   "metadata": {},
   "outputs": [],
   "source": [
    "def pie2(n):\n",
    "    pi = 270\n",
    "    L = [...]\n",
    "    for k in range(1, n):\n",
    "        pi = ...\n",
    "        L.append(pi)\n",
    "    return L"
   ]
  },
  {
   "cell_type": "markdown",
   "metadata": {},
   "source": [
    "<span style=\"font-size:2em;font-weight:bold\">2.</span>&nbsp; Représenter les 16 premiers termes de $\\left(p_n\\right)$ et les 40 premiers termes de $\\left(\\pi_n\\right)$ :"
   ]
  },
  {
   "cell_type": "code",
   "execution_count": null,
   "metadata": {},
   "outputs": [],
   "source": [
    "import pylab as pl\n",
    "pl.style.use('bmh')\n",
    "\n",
    "pl.plot(range(16), pie1(16), 'o-', color = 'red')\n",
    "pl.plot(range(40), pie2(40), 'x-', color = 'black')"
   ]
  },
  {
   "cell_type": "markdown",
   "metadata": {},
   "source": [
    "<span style=\"font-size:2em;font-weight:bold\">3.</span>&nbsp; <b>Convergence de $\\left(\\pi_n\\right)$</b>\n",
    "<blockquote style=\"border-left: 3px solid black\">\n",
    "    On note $\\pi_{n+1}=g\\left(\\pi_n\\right)$ avec $$g(x)=1,1 x\\left(1-\\dfrac{x}{M}\\right)$$ soit $$g(x)=1,1x-\\dfrac{1}{10\\,000}x^2$$\n",
    "</blockquote>"
   ]
  },
  {
   "cell_type": "markdown",
   "metadata": {},
   "source": [
    "<span style=\"font-size:1.5em;font-weight:bold\">a.</span>&nbsp; Dresser le tableau de variation de $g$ sur $\\left[0\\,;\\,M\\right]$."
   ]
  },
  {
   "cell_type": "markdown",
   "metadata": {},
   "source": [
    "<span style=\"font-size:1.5em;font-weight:bold\">b.</span>&nbsp; Démontrer par récurrence que pour tout $n\\in\\mathbb{N}$, on a : $0\\leqslant \\pi_{n}\\leqslant \\pi_{n+1}\\leqslant 1\\,000.$"
   ]
  },
  {
   "cell_type": "markdown",
   "metadata": {},
   "source": [
    "<span style=\"font-size:1.5em;font-weight:bold\">c.</span>&nbsp; Démontrer que  $\\left(\\pi_n\\right)$ est converge vers un réel $\\ell$ dont on précisera la limite."
   ]
  },
  {
   "cell_type": "markdown",
   "metadata": {},
   "source": [
    "<div style=\"color:black;font-weight:bold\"> <span style=\"font-size:4em\">C </span> <span style=\"font-family:Comic Sans MS;font-size:2em;color:white;background-color:gray;text-align:center\"> Suite logistique</span></div> "
   ]
  },
  {
   "cell_type": "markdown",
   "metadata": {},
   "source": [
    "<b>Proportion d'individus</b>\n",
    "<blockquote style=\"border-left: 3px solid black\">\n",
    "    La proportion d'individus dans la population de taille maximale $M$ est $$u_{n}=\\dfrac{p_{n}}{M}$$\n",
    "    On aboutit à la relation de récurrence : $$u_{n+1}=ku_{n}\\left(1-u_{n}\\right),\\text{ pour tout }n\\in\\mathbb{N}$$\n",
    "<br>On dit que $\\left(u_n\\right)$ est une suite <b>logistique</b>.\n",
    "    <br>\n",
    "    <blockquote style=\"border-left: 2px solid black;background-color:lightblue\">\n",
    "        On souhaite étudier le comportement de la suite $\\left(u_{n}\\right)_{n\\in\\mathbb{N}}$\n",
    "avec : \n",
    "<ul>\n",
    "    <li> $u_{0}\\in\\left]0\\,;\\,1\\right[$</li>\n",
    "    <li> $k\\in\\left]0\\,;\\,4\\right[$</li>\n",
    "</ul>\n",
    "        </blockquote>\n",
    "</blockquote>\n",
    "<b> Fonction logistique</b>\n",
    "<blockquote style=\"border-left: 3px solid black\">\n",
    "On appelle <b>fonction logistique</b> la fonction définie sur $\\left[0\\,;\\,1\\right]$\n",
    " par $$f(x)=kx\\left(1−x\\right),$$ où $k$ est un paramètre réel. \n",
    "<br> En général, on impose à $k$ d'être compris entre $0$ et $4$ afin que l'image de $f$ soit contenue dans le segment $\\left[0\\,;\\,1\\right]$.\n",
    "</blockquote>"
   ]
  },
  {
   "cell_type": "markdown",
   "metadata": {},
   "source": [
    "<span style=\"font-size:2em;font-weight:bold\">1.</span>&nbsp; Ecrire la fonction nommée <code style=\"background-color:white\">f</code> de paramètres :\n",
    "<blockquote style=\"border-left: 3px solid black\">\n",
    "<ul>\n",
    "    <li> <code style=\"background-color:white\">k</code> <i>(coefficient multiplicateur associé au modèle malthusien)</i> </li>\n",
    "    <li> <code style=\"background-color:white\">u0</code> <i>(la proportion d'individus dans la population)</i></li>\n",
    "    <li> <code style=\"background-color:white\">n</code> <i>(entier naturel)</i> </li>\n",
    "</ul>\n",
    "    </blockquote>\n",
    "Elle renvoie la liste des nombres $\\big[u_0\\,,\\,u_1\\,,\\,\\ldots\\,,\\,u_n\\big]$"
   ]
  },
  {
   "cell_type": "code",
   "execution_count": null,
   "metadata": {},
   "outputs": [],
   "source": [
    "def f(k, u0, n):\n",
    "    u = u0\n",
    "    L = [u]\n",
    "    ...\n",
    "    ...\n",
    "    ...\n",
    "    return L"
   ]
  },
  {
   "cell_type": "markdown",
   "metadata": {},
   "source": [
    "<span style=\"font-size:2em;font-weight:bold\">2.</span>&nbsp;<span style=\"font-size:1.5em;font-weight:bold\">a.</span>&nbsp; Que vaut $u_0$ dans le cas des pies bavardes où $M=11\\,000$ et $k=1,1$ ?"
   ]
  },
  {
   "cell_type": "code",
   "execution_count": null,
   "metadata": {},
   "outputs": [],
   "source": [
    "..."
   ]
  },
  {
   "cell_type": "markdown",
   "metadata": {},
   "source": [
    "<span style=\"font-size:1.5em;font-weight:bold\">b.</span>&nbsp; Représenter le nuage de points $\\left(n\\,;\\,u_n\\right)$ pour $n$ allant de $0$ à $60$."
   ]
  },
  {
   "cell_type": "code",
   "execution_count": null,
   "metadata": {},
   "outputs": [],
   "source": [
    "pl.plot(range(61), f(1.1, 270 / 11000, 60), 'o-', \n",
    "        markersize = 4, color = 'red', markerfacecolor = 'white')"
   ]
  },
  {
   "cell_type": "markdown",
   "metadata": {},
   "source": [
    "<span style=\"font-size:2em;font-weight:bold\">3.</span>&nbsp; On suppose que la population de pies double chaque année.\n",
    "<br> <span style=\"font-size:1.5em;font-weight:bold\">a.</span>&nbsp; Reprendre la question <span style=\"font-size:1em;font-weight:bold\">2.</span>&nbsp; pour $M=11\\,000$ et $k=2$."
   ]
  },
  {
   "cell_type": "code",
   "execution_count": null,
   "metadata": {},
   "outputs": [],
   "source": [
    "..."
   ]
  },
  {
   "cell_type": "markdown",
   "metadata": {},
   "source": [
    "<span style=\"font-size:1.5em;font-weight:bold\">b.</span>&nbsp; Conjeturer la convergence de $\\left(u_n\\right)$."
   ]
  },
  {
   "cell_type": "markdown",
   "metadata": {},
   "source": [
    "<span style=\"font-size:1.5em;font-weight:bold\">c.</span>&nbsp; Représenter les 2000 premiers termes de suite $\\left(u_n\\right)$ lorsque $k=3.95$. \n",
    "<br>Peut-on parler d'un comportement chaotique ?"
   ]
  },
  {
   "cell_type": "code",
   "execution_count": null,
   "metadata": {},
   "outputs": [],
   "source": [
    "..."
   ]
  },
  {
   "cell_type": "markdown",
   "metadata": {},
   "source": [
    "<span style=\"font-size:2em;font-weight:bold\">4.</span>&nbsp; <b>Preuve de la conjecture lorsque $k=2$</b> \n",
    "<blockquote style=\"border-left: 3px solid black\">\n",
    "Plaçons dans le cas où $$u_{n+1}=2u_n(1-u_n).$$\n",
    "<br>On pose $h_n=\\dfrac{1}{2}-u_n$.\n",
    "</blockquote>\n",
    "<span style=\"font-size:1.5em;font-weight:bold\">a.</span>&nbsp; Démontrer que $h_{n+1}=2h_n^2$\n",
    "<br><span style=\"font-size:1.5em;font-weight:bold\">b.</span>&nbsp; Démontrer que $h_{n}=\\dfrac{1}{2}\\times\\left(2h_{0}\\right)^{2^{n}}$\n",
    "<br><span style=\"font-size:1.5em;font-weight:bold\">c.</span>&nbsp; Démontrer que $\\left(u_n\\right)$ est convergente. <br>En déduire le nombre de pies sur le long terme."
   ]
  },
  {
   "cell_type": "markdown",
   "metadata": {},
   "source": [
    "<div style=\"color:black;font-weight:bold\"> <span style=\"font-size:4em\">D </span> <span style=\"font-family:Comic Sans MS;font-size:2em;color:white;background-color:gray;text-align:center\"> Comportement asymptotique de $\\left(u_n\\right)$</span></div> "
   ]
  },
  {
   "cell_type": "markdown",
   "metadata": {},
   "source": [
    "<span style=\"font-size:2em;font-weight:bold\">1.</span>&nbsp; <b>Comportement de $\\left(u_n\\right)$ selon $k$ et $u_0$</b>"
   ]
  },
  {
   "cell_type": "code",
   "execution_count": null,
   "metadata": {},
   "outputs": [],
   "source": [
    "%%html\n",
    "<iframe scrolling=\"no\" title=\"Suite_logistitique\" src=\"https://www.geogebra.org/material/iframe/id/dc9gc9he/width/891/height/610/border/888888/sfsb/true/smb/false/stb/false/stbh/false/ai/false/asb/false/sri/false/rc/false/ld/false/sdz/false/ctl/false\" width=\"891px\" height=\"500px\" style=\"border:0px;\"> </iframe>"
   ]
  },
  {
   "cell_type": "markdown",
   "metadata": {},
   "source": [
    "<span style=\"font-size:1.5em;font-weight:bold\">a.</span>&nbsp; Pour quelles valeurs de $k$, $\\left(u_n\\right)$ converge vers $0$ ?\n",
    "<br><span style=\"font-size:1.5em;font-weight:bold\">b.</span>&nbsp; Observer le point fixe ?\n",
    "<br><span style=\"font-size:1.5em;font-weight:bold\">c.</span>&nbsp; Pour quelles valeurs de $k$, $\\left(u_n\\right)$ n'est plus convergente ?"
   ]
  },
  {
   "cell_type": "markdown",
   "metadata": {},
   "source": [
    "<span style=\"font-size:2em;font-weight:bold\">2.</span>&nbsp; <b>Orbites de $\\left(u_n\\right)$ en fonction de $k$</b>"
   ]
  },
  {
   "cell_type": "markdown",
   "metadata": {},
   "source": [
    "<span style=\"font-size:1.5em;font-weight:bold\">a.</span>&nbsp; Construire la liste <code style='background-color:white'>K</code> des nombre de la forme $\\dfrac{i}{1\\,000}$ pour $i$ allant de $0$ à $4\\,000$."
   ]
  },
  {
   "cell_type": "code",
   "execution_count": null,
   "metadata": {},
   "outputs": [],
   "source": [
    "..."
   ]
  },
  {
   "cell_type": "markdown",
   "metadata": {},
   "source": [
    "<span style=\"font-size:1.5em;font-weight:bold\">b.</span>&nbsp; Représenter les points de coordonnées $\\left(k\\,;\\,u_i\\right)$ pour i allant de $150$ à $300$ et $k\\in$<code style='background-color:white'>K</code>."
   ]
  },
  {
   "cell_type": "code",
   "execution_count": null,
   "metadata": {},
   "outputs": [],
   "source": [
    "pl.figure(figsize = (12, 7))\n",
    "\n",
    "n = 300\n",
    "\n",
    "for k in K:\n",
    "    u = 0.5\n",
    "    X = []\n",
    "    Y = []\n",
    "    for i in range(n + 1):\n",
    "        u = ...\n",
    "        if i >= 150:\n",
    "            X.append(...)\n",
    "            Y.append(u)\n",
    "    pl.plot(X, Y, 'o', color = 'red', \n",
    "             markersize = 0.03)"
   ]
  },
  {
   "cell_type": "markdown",
   "metadata": {},
   "source": [
    "<span style=\"font-size:1.5em;font-weight:bold\">c.</span>&nbsp; Pour quelles valeurs de $k$, $\\left(u_n\\right)$ est-elle convergente ?"
   ]
  },
  {
   "cell_type": "markdown",
   "metadata": {},
   "source": [
    "<span style=\"font-size:1.5em;font-weight:bold\">d.</span>&nbsp; Existe-t-il des valeurs de $k$, où $\\left(u_n\\right)$ se comporte de façon chaotique ?"
   ]
  },
  {
   "cell_type": "markdown",
   "metadata": {},
   "source": [
    "<b> Un peu d’ordre dans le chaos</b>\n",
    "<blockquote style=\"border-left: 2px solid black;background-color:lightblue\">\n",
    "    Malgré le désordre ambiant, le diagramme de <b>bifurcation</b> possède plusieurs propriétés intrigantes.\n",
    "\n",
    "Zoomons par exemple autour de l’embranchement supérieur : on retrouve exactement la même structure que notre arbre de départ. Le graphe contient plusieurs versions miniatures de lui-même.\n",
    "<img src=\"https://raw.githubusercontent.com/lyceeHM/Terminale_Spe/master/Chap3/Logistique_chaos.png\">\n",
    "</blockquote>"
   ]
  },
  {
   "cell_type": "code",
   "execution_count": null,
   "metadata": {},
   "outputs": [],
   "source": []
  }
 ],
 "metadata": {
  "kernelspec": {
   "display_name": "Python 3",
   "language": "python",
   "name": "python3"
  },
  "language_info": {
   "codemirror_mode": {
    "name": "ipython",
    "version": 3
   },
   "file_extension": ".py",
   "mimetype": "text/x-python",
   "name": "python",
   "nbconvert_exporter": "python",
   "pygments_lexer": "ipython3",
   "version": "3.8.6"
  }
 },
 "nbformat": 4,
 "nbformat_minor": 4
}
