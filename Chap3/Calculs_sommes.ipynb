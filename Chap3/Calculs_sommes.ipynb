{
 "cells": [
  {
   "cell_type": "markdown",
   "metadata": {},
   "source": [
    "<h1 style=\"font-family:Comic Sans MS;color:white;background-color:black;text-align:center\"> Exercice 1</h1>"
   ]
  },
  {
   "cell_type": "markdown",
   "metadata": {},
   "source": [
    "On souhaite écrire une fonction qui calcule la somme $$S_n=\\sum_{k=0}^{n}\\dfrac{1}{2^k}$$"
   ]
  },
  {
   "cell_type": "code",
   "execution_count": 1,
   "metadata": {},
   "outputs": [],
   "source": [
    "def somme1(n):\n",
    "    S = 0\n",
    "    for k in range(n+1):\n",
    "        S = S + 1/2**k\n",
    "    return S"
   ]
  },
  {
   "cell_type": "code",
   "execution_count": 2,
   "metadata": {},
   "outputs": [
    {
     "data": {
      "text/plain": [
       "1.9375"
      ]
     },
     "execution_count": 2,
     "metadata": {},
     "output_type": "execute_result"
    }
   ],
   "source": [
    "somme1(4)"
   ]
  },
  {
   "cell_type": "markdown",
   "metadata": {},
   "source": [
    "> Le seule souci est que l'on ajoute à la variable <b>S</b> l'inverse d'une puissance de 2...\n",
    "<br>On effectue le calcule de $2^0$, puis $2^1$, puis $2^2$, puis $2^3$ etc.\n",
    "<br> On peut donc stocker en mémoire cette puissance dans une variable <b>p</b>"
   ]
  },
  {
   "cell_type": "code",
   "execution_count": 3,
   "metadata": {},
   "outputs": [],
   "source": [
    "def somme2(n):\n",
    "    S = 0\n",
    "    p = 1\n",
    "    for k in range(n+1):\n",
    "        S = S + 1/p\n",
    "        p = 2 * p\n",
    "    return S"
   ]
  },
  {
   "cell_type": "code",
   "execution_count": 4,
   "metadata": {},
   "outputs": [
    {
     "data": {
      "text/plain": [
       "1.9375"
      ]
     },
     "execution_count": 4,
     "metadata": {},
     "output_type": "execute_result"
    }
   ],
   "source": [
    "somme2(4)"
   ]
  },
  {
   "cell_type": "markdown",
   "metadata": {},
   "source": [
    "<h1 style=\"font-family:Comic Sans MS;color:white;background-color:black;text-align:center\"> Exercice 2</h1>"
   ]
  },
  {
   "cell_type": "markdown",
   "metadata": {},
   "source": [
    "On souhaite écrire une fonction qui calcule la somme $$S_n=\\sum_{k=0}^{n}\\dfrac{\\left(-1\\right)^k}{k!}=\\dfrac{\\left(-1\\right)^0}{0!}+\\dfrac{\\left(-1\\right)^1}{1!}+\\dfrac{\\left(-1\\right)^2}{2!}+\\cdots+\\dfrac{\\left(-1\\right)^n}{n!}$$"
   ]
  },
  {
   "cell_type": "markdown",
   "metadata": {},
   "source": [
    "<blockquote>\n",
    "C'est comme dans l'exercice précédent, il suffit de stocker dans une variable <b>f</b> le nombre $k!$\n",
    "<ul>\n",
    "    <li>Au départ <b>S</b>$=1$.</li>\n",
    "    <li>On répète l'instruction : $$S=S+\\dfrac{\\left(-3\\right)^k}{f}$$ avec $f$ prenant les valeurs $1!$, $2!$, $3!$, $4!$ etc.</li>\n",
    "</ul>\n",
    "</blockquote>"
   ]
  },
  {
   "cell_type": "code",
   "execution_count": 5,
   "metadata": {},
   "outputs": [],
   "source": [
    "def somme3(n):\n",
    "    S = 1\n",
    "    f = 1\n",
    "    for k in range(1, n+1):\n",
    "        f = f * k\n",
    "        S = S + (-3)**k/f\n",
    "    return S"
   ]
  },
  {
   "cell_type": "code",
   "execution_count": 6,
   "metadata": {},
   "outputs": [
    {
     "data": {
      "text/plain": [
       "0.049787068367863986"
      ]
     },
     "execution_count": 6,
     "metadata": {},
     "output_type": "execute_result"
    }
   ],
   "source": [
    "somme3(100)"
   ]
  },
  {
   "cell_type": "markdown",
   "metadata": {},
   "source": [
    "<blockquote>\n",
    "On peut améliorer l'algorithme précédent en stockant la puissance de $-3$ en mémoire dans une variable <b>a</b>.\n",
    "<ul>\n",
    "    <li>Au départ <b>S</b>$=1$.</li>\n",
    "    <li>On a deux variables :\n",
    "        <ul>\n",
    "            <li><b>a</b> qui contient les valeurs $\\left(-3\\right)^1$, $\\left(-3\\right)^2$, $\\left(-3\\right)^3$, $\\left(-3\\right)^4$ etc.</li>\n",
    "            <li><b>f</b> qui contient les valeurs $1!$, $2!$, $3!$, $4!$ etc.</li>\n",
    "        </ul>\n",
    "    </li>\n",
    "    <li>On répète l'instruction : $$S=S+\\dfrac{a}{f}$$</li>\n",
    "            \n",
    "</ul>\n",
    "</blockquote>"
   ]
  },
  {
   "cell_type": "code",
   "execution_count": 7,
   "metadata": {},
   "outputs": [],
   "source": [
    "def somme4(n):\n",
    "    S = 1\n",
    "    f = 1\n",
    "    a = 1\n",
    "    for k in range(1, n+1):\n",
    "        f = f * k\n",
    "        a = a * (-3)\n",
    "        S = S + a/f\n",
    "    return S"
   ]
  },
  {
   "cell_type": "code",
   "execution_count": 8,
   "metadata": {},
   "outputs": [
    {
     "data": {
      "text/plain": [
       "0.049787068367863986"
      ]
     },
     "execution_count": 8,
     "metadata": {},
     "output_type": "execute_result"
    }
   ],
   "source": [
    "somme4(100)"
   ]
  },
  {
   "cell_type": "code",
   "execution_count": null,
   "metadata": {},
   "outputs": [],
   "source": []
  }
 ],
 "metadata": {
  "kernelspec": {
   "display_name": "Python 3",
   "language": "python",
   "name": "python3"
  },
  "language_info": {
   "codemirror_mode": {
    "name": "ipython",
    "version": 3
   },
   "file_extension": ".py",
   "mimetype": "text/x-python",
   "name": "python",
   "nbconvert_exporter": "python",
   "pygments_lexer": "ipython3",
   "version": "3.7.6"
  }
 },
 "nbformat": 4,
 "nbformat_minor": 2
}
