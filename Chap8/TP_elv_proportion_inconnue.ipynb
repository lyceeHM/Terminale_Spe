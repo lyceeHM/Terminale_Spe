{
 "cells": [
  {
   "cell_type": "markdown",
   "metadata": {},
   "source": [
    "<img src=\"https://raw.githubusercontent.com/lyceeHM/Terminale_Spe/master/python_lycee.png\">\n",
    "<div id=\"titre\">\n",
    "<h1 style=\"color:white;\n",
    "  font-family:Comic Sans MS;\n",
    "  font-size:3em;\n",
    "  background-color:black;\n",
    "  text-align:center;\n",
    "  padding:5px\">Meilleur profil</h1>\n",
    "<div style=\"font-family:Comic Sans MS; background-color:#888;box-shadow: 8px 8px 0px #aaa; text-align:center; width: 50%; color:white\">TSPE : Chapitre 8 - Probabilité</div>\n",
    "</div>"
   ]
  },
  {
   "cell_type": "markdown",
   "metadata": {},
   "source": [
    "# Présentation du problème"
   ]
  },
  {
   "cell_type": "markdown",
   "metadata": {},
   "source": [
    "<div style='background-color:#AAA;padding:10px;border-left: 1rem solid'>\n",
    "Une urne contient des boules rouges et des boules noires.\n",
    "<ul>\n",
    "    <li>On note $p$ la proportion inconnue de boules rouges contenue dans cette urne. </li>\n",
    "    <li>On prélève $n=10$ boules choisies une à une et avec remise et on obtient 4 boules rouges.</li>\n",
    "    </ul>\n",
    "    <b>Objectif :</b> on cherche à estimer p à l'aide d'un intervalle $\\left[p_{1}\\,;\\,p_{2}\\right]$, avec une confiance de $95\\,\\%$.\n",
    "</div>"
   ]
  },
  {
   "cell_type": "markdown",
   "metadata": {
    "slideshow": {
     "slide_type": "slide"
    }
   },
   "source": [
    "# <span style=\"font-size:1.3em;font-weight:bold;padding-right: 30px;\"> A.</span>  Nombre de boules rouges"
   ]
  },
  {
   "cell_type": "markdown",
   "metadata": {},
   "source": [
    "<div style='background-color:#AAA;padding:10px;border-left: 1rem solid'>\n",
    "Le nombre de boules rouges obtenues après $n=10$ tirages est la variable aléatoire notée $X$.\n",
    "</div>"
   ]
  },
  {
   "cell_type": "markdown",
   "metadata": {},
   "source": [
    "Déterminer la loi de probabilité de $X$, en précisant ses éventuels paramètres."
   ]
  },
  {
   "cell_type": "markdown",
   "metadata": {
    "slideshow": {
     "slide_type": "slide"
    }
   },
   "source": [
    "# <span style=\"font-size:1.3em;font-weight:bold;padding-right: 30px;\"> B.</span>  Détermination de $p_1$"
   ]
  },
  {
   "cell_type": "markdown",
   "metadata": {},
   "source": [
    "<div style='background-color:#AAA;padding:10px;border-left: 1rem solid'>\n",
    "<ul>\n",
    "    <li>$\\mathbb{P}\\left(X\\geqslant4\\right)$ est fonction de $p$. \n",
    "        <br>On notera $f\\left(p\\right)=\\mathbb{P}\\left(X\\geqslant4\\right)$.</li>\n",
    "    <li>Supposons un instant que $p$ soit petit. \n",
    "        <br>On peut « raisonnablement » penser que $\\left(X\\geqslant4\\right)$ est rare.\n",
    "<br>Dans ce cas, on cherche la plus grande valeur de $p$ , notée $p_1$, telle que $f\\left(p\\right)\\leqslant0,025$.</li>\n",
    "    </ul>\n",
    "</div>"
   ]
  },
  {
   "cell_type": "markdown",
   "metadata": {},
   "source": [
    "<span style=\"font-size:2em;font-weight:bold;padding-right: 30px;\"> 1.</span> Justifier que $f\\left(p\\right)=1-\\left(1-p\\right)^{7}\\left[\\left(1-p\\right)^{3}+10\\left(1-p\\right)^{2}p+45\\left(1-p\\right)p^{2}+120p^{3}\\right]$."
   ]
  },
  {
   "cell_type": "markdown",
   "metadata": {},
   "source": [
    "<span style=\"font-size:2em;font-weight:bold;padding-right: 30px;\"> 2.</span> On souhaite établir le tableau de variation de $f$ sur $\\left[0\\,;\\,1\\right]$ :\n",
    "<blockquote style=\"border-left: 3px solid black;background-color:white;margin-left: 65px;\">\n",
    "    <ul>\n",
    "        <li>Le module <b>sympy</b> permet de calculer des dérivées et résoudre des équations.</li>\n",
    "        <li>On utilisera notamment les fonctions <code style=\"background-color:white;font-size:1.2em\">symbols</code>, <code style=\"background-color:white;font-size:1.2em\">binomial</code>, <code style=\"background-color:white;font-size:1.2em\">diff</code>, <code style=\"background-color:white;font-size:1.2em\">Eq</code> et <code style=\"background-color:white;font-size:1.2em\">solve</code>.</li>\n",
    "    </ul>\n",
    "</blockquote>"
   ]
  },
  {
   "cell_type": "markdown",
   "metadata": {},
   "source": [
    "<span style=\"font-size:2em;font-weight:bold;padding-right: 30px;\"> a.</span> Exécuter les lignes de code suivantes."
   ]
  },
  {
   "cell_type": "code",
   "execution_count": null,
   "metadata": {},
   "outputs": [],
   "source": [
    "from sympy import symbols, binomial, diff, Eq, solve"
   ]
  },
  {
   "cell_type": "code",
   "execution_count": null,
   "metadata": {},
   "outputs": [],
   "source": [
    "p = symbols('p')"
   ]
  },
  {
   "cell_type": "code",
   "execution_count": null,
   "metadata": {},
   "outputs": [],
   "source": [
    "f = 1 - sum([binomial(10, k) * p**k * (1 - p)**(10 - k) for k in range(4)])"
   ]
  },
  {
   "cell_type": "code",
   "execution_count": null,
   "metadata": {},
   "outputs": [],
   "source": [
    "diff(f,p)"
   ]
  },
  {
   "cell_type": "markdown",
   "metadata": {},
   "source": [
    "<span style=\"font-size:2em;font-weight:bold;padding-right: 30px;\"> b.</span> Conclure."
   ]
  },
  {
   "cell_type": "markdown",
   "metadata": {},
   "source": [
    "<span style=\"font-size:2em;font-weight:bold;padding-right: 30px;\"> 3.</span> Démontrer que l'équation $f\\left(p\\right)=0,025$ possède une unique solution. "
   ]
  },
  {
   "cell_type": "markdown",
   "metadata": {},
   "source": [
    "<span style=\"font-size:2em;font-weight:bold;padding-right: 30px;\"> 4.</span> En exécutant les instructions suivantes, proposer une valeur pour $p_{1}$."
   ]
  },
  {
   "cell_type": "code",
   "execution_count": null,
   "metadata": {},
   "outputs": [],
   "source": [
    "equation = Eq(f, 0.025)\n",
    "equation"
   ]
  },
  {
   "cell_type": "code",
   "execution_count": null,
   "metadata": {},
   "outputs": [],
   "source": [
    "solve(equation)"
   ]
  },
  {
   "cell_type": "markdown",
   "metadata": {
    "slideshow": {
     "slide_type": "slide"
    }
   },
   "source": [
    "# <span style=\"font-size:1.3em;font-weight:bold;padding-right: 30px;\"> C.</span>  Détermination de $p_2$"
   ]
  },
  {
   "cell_type": "markdown",
   "metadata": {},
   "source": [
    "<div style='background-color:#AAA;padding:10px;border-left: 1rem solid'>\n",
    "<ul>\n",
    "    <li>$\\mathbb{P}\\left(X\\leqslant4\\right)$ est fonction de $p$. \n",
    "        <br>On notera $f\\left(p\\right)=\\mathbb{P}\\left(X\\leqslant4\\right)$.</li>\n",
    "    <li>Supposons un instant que $p$ soit grand. \n",
    "        <br>On peut « raisonnablement » penser que $\\left(X\\leqslant4\\right)$ est rare.\n",
    "<br>Dans ce cas, on cherche la plus petite valeur de $p$ , notée $p_2$, telle que $g\\left(p\\right)\\leqslant0,025$.</li>\n",
    "    </ul>\n",
    "</div>"
   ]
  },
  {
   "cell_type": "markdown",
   "metadata": {},
   "source": [
    "En s'inspirant du travail mené à la question, proposer une valeur pour $p_{2}$. "
   ]
  },
  {
   "cell_type": "code",
   "execution_count": null,
   "metadata": {},
   "outputs": [],
   "source": []
  },
  {
   "cell_type": "code",
   "execution_count": null,
   "metadata": {},
   "outputs": [],
   "source": []
  },
  {
   "cell_type": "code",
   "execution_count": null,
   "metadata": {},
   "outputs": [],
   "source": []
  },
  {
   "cell_type": "code",
   "execution_count": null,
   "metadata": {},
   "outputs": [],
   "source": []
  },
  {
   "cell_type": "markdown",
   "metadata": {},
   "source": [
    "# <span style=\"font-size:1.3em;font-weight:bold;padding-right: 30px;\"> D.</span>  Conclusion"
   ]
  },
  {
   "cell_type": "markdown",
   "metadata": {},
   "source": [
    "Donner un intervalle contenant $p$ avec une confiance de $95\\,\\%$."
   ]
  },
  {
   "cell_type": "code",
   "execution_count": null,
   "metadata": {},
   "outputs": [],
   "source": []
  }
 ],
 "metadata": {
  "kernelspec": {
   "display_name": "Python 3",
   "language": "python",
   "name": "python3"
  },
  "language_info": {
   "codemirror_mode": {
    "name": "ipython",
    "version": 3
   },
   "file_extension": ".py",
   "mimetype": "text/x-python",
   "name": "python",
   "nbconvert_exporter": "python",
   "pygments_lexer": "ipython3",
   "version": "3.8.6"
  }
 },
 "nbformat": 4,
 "nbformat_minor": 2
}
