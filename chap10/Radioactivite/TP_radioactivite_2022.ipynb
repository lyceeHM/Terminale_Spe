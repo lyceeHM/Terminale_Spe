{
 "cells": [
  {
   "cell_type": "markdown",
   "metadata": {},
   "source": [
    "<img src=\"https://raw.githubusercontent.com/lyceeHM/Terminale_Spe/master/python_lycee.png\">\n",
    "<div id=\"titre\">\n",
    "<h1 style=\"color:white;\n",
    "  font-family:Comic Sans MS;\n",
    "  font-size:3em;\n",
    "  background-color:black;\n",
    "  text-align:center;\n",
    "  padding:5px\">Radioactivité</h1>\n",
    "<div style=\"font-family:Comic Sans MS; background-color:#888;box-shadow: 8px 8px 0px #aaa; text-align:center; width: 50%; color:white\">TSPE : Chapitres 8 - 10</div>\n",
    "</div>"
   ]
  },
  {
   "cell_type": "markdown",
   "metadata": {},
   "source": [
    "<div style='background-color:#AAA;padding:10px;border-left: 1rem solid'>\n",
    "<ul>\n",
    "    <li> Produit facilement à l'hôpital, le <b>technétium-99m</b> est injecté dans un patient pour réaliser une scintigraphie.\n",
    "        <table>\n",
    "    <p align=\"center\"><br><img src=\"https://www.cmn-lescedres.com/wp-content/uploads/2016/06/scintigraphie-schema-small.png\" width=\"100%\"></p>\n",
    "   </table> \n",
    "     </li>\n",
    "    <li> Chaque atome est instable ou radioactif et indépendamment des autres.<br> Il émet ensuite un photon gamma de façon aléatoire loin de l'organe examiné <em>(ce qui le rend inoffensif)</em>.\n",
    "    <img src=\"https://www.larousse.fr/encyclopedie/data/images/1009819-Scintigraphie_du_torse.jpg\" width=\"40%\"></li>\n",
    "</ul>\n",
    "</div>"
   ]
  },
  {
   "cell_type": "markdown",
   "metadata": {},
   "source": [
    "<div style='background-color:#E5D888;padding:10px;border-left: 1rem solid;font-family:Comic Sans MS;font-size:1em'>\n",
    "<ul>\n",
    "    <li> On prendra 5 minutes comme unité de temps.</li>\n",
    "    <li> <b>En moyenne</b>, 1% des atomes présents meurent par unité de temps.</li>\n",
    "</ul>\n",
    "</div>"
   ]
  },
  {
   "cell_type": "markdown",
   "metadata": {},
   "source": [
    "<h1 style=\"font-family:Comic Sans MS;color:white;background-color:chocolate;text-align:center\"> <span style=\"font-size:2em;font-weight:bold;padding-right: 60px;\"> A.</span> Niveau microcospique</h1>"
   ]
  },
  {
   "cell_type": "markdown",
   "metadata": {},
   "source": [
    "<div style='background-color:#AAA;padding:10px;border-left: 1rem solid'>\n",
    "<ul>\n",
    "    <li> Au début d'une unité de temps, $N$ atomes sont présents.</li>\n",
    "    <li> On note $X_N$ le nombre de ceux qui vont se désintégrer ou mourir.</li>\n",
    "</ul>\n",
    "</div>"
   ]
  },
  {
   "cell_type": "markdown",
   "metadata": {},
   "source": [
    "<span style=\"font-size:2em;font-weight:bold;padding-right: 30px;\"> 1.</span> Exécuter le code suivant."
   ]
  },
  {
   "cell_type": "code",
   "execution_count": 1,
   "metadata": {},
   "outputs": [],
   "source": [
    "import pylab as pl\n",
    "#pl.style.use('bmh')\n",
    "\n",
    "from random import *\n",
    "from math import *"
   ]
  },
  {
   "cell_type": "markdown",
   "metadata": {},
   "source": [
    "<span style=\"font-size:2em;font-weight:bold;padding-right: 30px;\"> 2.</span> Quelle loi de probabilité peut-on attribuer à $X_N$ ? <em>(Préciser ses éventuels paramètres)</em>"
   ]
  },
  {
   "cell_type": "markdown",
   "metadata": {},
   "source": [
    "<span style=\"font-size:2em;font-weight:bold;padding-right: 30px;\"> 3.</span> Compléter puis exécuter la fonction suivante qui simule une valeur prise par $X_N$."
   ]
  },
  {
   "cell_type": "code",
   "execution_count": 2,
   "metadata": {},
   "outputs": [],
   "source": [
    "def nb_désintégrés(N):\n",
    "    X = 0\n",
    "    for k in range(1, N + 1):\n",
    "        if randint(1, 100) == 1:\n",
    "            X = X + 1\n",
    "    return X"
   ]
  },
  {
   "cell_type": "markdown",
   "metadata": {},
   "source": [
    "<h1 style=\"font-family:Comic Sans MS;color:white;background-color:chocolate;text-align:center\"> <span style=\"font-size:2em;font-weight:bold;padding-right: 60px;\"> B.</span> Niveau macroscopique</h1>"
   ]
  },
  {
   "cell_type": "markdown",
   "metadata": {},
   "source": [
    "<div style='background-color:#AAA;padding:10px;border-left: 1rem solid'>\n",
    "Supposons que l'on injecte à un patient $N_0=10\\,000$ atomes radioactifs, on simule leur désintégration au cours du temps, jusqu'à ce qu'il reste moins de 500 atomes radioactifs. \n",
    "<br>\n",
    "<br> A chaque étape, on stocke dans la liste <code style=\"background-color:#AAA;font-size:1.3em\">L</code> le nombre d'éléments radioactifs restants.\n",
    "</div>"
   ]
  },
  {
   "cell_type": "markdown",
   "metadata": {},
   "source": [
    "Compléter puis exécuter l'algorithme ci-dessous permettant de représenter <code style=\"background-color:white;font-size:1.3em\">L</code>."
   ]
  },
  {
   "cell_type": "code",
   "execution_count": 3,
   "metadata": {},
   "outputs": [
    {
     "data": {
      "image/png": "[encoded data removed]",
      "text/plain": [
       "<Figure size 1080x576 with 1 Axes>"
      ]
     },
     "metadata": {
      "needs_background": "light"
     },
     "output_type": "display_data"
    }
   ],
   "source": [
    "t = 0\n",
    "T = [t]\n",
    "N0 = 10000\n",
    "L = [N0]\n",
    "N = N0\n",
    "while N > 500:\n",
    "    N = N - nb_désintégrés(N)\n",
    "    t = t + 1\n",
    "    L.append(N)\n",
    "    T.append(t)\n",
    "    \n",
    "pl.figure(figsize = (15,8))\n",
    "pl.plot(T, L, '+', color = 'red', markersize = 4)\n",
    "pl.grid()"
   ]
  },
  {
   "cell_type": "markdown",
   "metadata": {},
   "source": [
    "<div style='background-color:#DDD;padding:10px;border-left: 1rem solid'>\n",
    "    On modélise le nombre <b>moyens d'atomes radioactifs</b> à l'instant $t$, par $N(t)$ où $N$ est une fonction dérivable sur $[0,+\\infty[$.\n",
    "<br> Ainsi $N(0)=N_0=10\\,000$.\n",
    "</div>"
   ]
  },
  {
   "cell_type": "markdown",
   "metadata": {},
   "source": [
    "<h1 style=\"font-family:Comic Sans MS;color:white;background-color:chocolate;text-align:center\"> <span style=\"font-size:2em;font-weight:bold;padding-right: 60px;\"> C.</span> Vers une équation différentielle</h1>"
   ]
  },
  {
   "cell_type": "markdown",
   "metadata": {},
   "source": [
    "<div style='background-color:#E5D888;padding:10px;border-left: 1rem solid;font-family:Comic Sans MS;font-size:1.2em'>\n",
    "    <b>L'invariance radioactive</b> découverte par <b>Marie Curie</b> stipule que par unité de temps, une substance radioactive se trouve perdre, une proportion rigoureusement déterminée de son poids.\n",
    "</div>"
   ]
  },
  {
   "cell_type": "markdown",
   "metadata": {},
   "source": [
    "### <span style=\"font-size:1.5em;font-weight:bold;padding-right: 30px;\"> 1.</span> Estimation de $\\dfrac{N'(t)}{N(t)}$"
   ]
  },
  {
   "cell_type": "markdown",
   "metadata": {},
   "source": [
    "<span style=\"font-size:2em;font-weight:bold;padding-right: 30px;\"> a.</span> Compléter :\n",
    "<blockquote style=\"border-left: 3px solid black;background-color:white;margin-left: 60px;\">\n",
    "<ul>\n",
    "    <li> Quel que soit $t\\geqslant 0$, $\\dfrac{N(t)-N(t+1)}{N(t)}$ est la proportion d'atomes radioactifs qui ................ en l'espace d'une unité de temps.</li>\n",
    "    <li> Pour le technétium-99m, cette proportion est estimée à ...... %</li>\n",
    "    </ul>\n",
    "</blockquote>"
   ]
  },
  {
   "cell_type": "markdown",
   "metadata": {},
   "source": [
    "<span style=\"font-size:2em;font-weight:bold;padding-right: 30px;\"> b.</span> Exécuter les codes ci-dessous."
   ]
  },
  {
   "cell_type": "code",
   "execution_count": 4,
   "metadata": {},
   "outputs": [
    {
     "data": {
      "image/png": "[encoded data removed]",
      "text/plain": [
       "<Figure size 1080x216 with 1 Axes>"
      ]
     },
     "metadata": {
      "needs_background": "light"
     },
     "output_type": "display_data"
    }
   ],
   "source": [
    "R = [(L[t] - L[t + 1]) / L[t] for t in range(len(L) - 1)]\n",
    "\n",
    "pl.figure(figsize = (15,3))\n",
    "pl.plot(R, 'o', color = 'red', markersize = 4)\n",
    "pl.grid()"
   ]
  },
  {
   "cell_type": "code",
   "execution_count": 5,
   "metadata": {},
   "outputs": [
    {
     "data": {
      "text/plain": [
       "0.009965246093701132"
      ]
     },
     "execution_count": 5,
     "metadata": {},
     "output_type": "execute_result"
    }
   ],
   "source": [
    "sum(R) / len(R)"
   ]
  },
  {
   "cell_type": "markdown",
   "metadata": {},
   "source": [
    "<span style=\"font-size:2em;font-weight:bold;padding-right: 30px;\"> c.</span> Le principe d'invariance radioactive semble-t-il respecté ?"
   ]
  },
  {
   "cell_type": "markdown",
   "metadata": {},
   "source": [
    "<span style=\"font-size:2em;font-weight:bold;padding-right: 30px;\"> d.</span> Compléter :\n",
    "<blockquote style=\"border-left: 3px solid black;background-color:white;margin-left: 60px;\">\n",
    "<ul>\n",
    "    <li> Quels que soient $t\\geqslant0$ et $h>0$, $\\dfrac{N(t)-N(t+h)}{N(t)}$ est la proportion d'atomes radioactifs qui ............... entre les instants ........ et .......</li>\n",
    "    <br>\n",
    "    <li> $\\dfrac{N(t)-N(t+h)}{N(t)}\\times \\dfrac{1}{h}$ est la proportion d'atomes radioactifs qui ............... </li>\n",
    "    <br>\n",
    "    <li>Pour le technétium-99m, cette proportion est estimée à ...... %</li>\n",
    "</ul>\n",
    "</blockquote>"
   ]
  },
  {
   "cell_type": "markdown",
   "metadata": {},
   "source": [
    "<span style=\"font-size:2em;font-weight:bold;padding-right: 30px;\"> e.</span> En faisant tendre $h$ vers $0$, démontrer que $N'(t)=-0,01N(t)$."
   ]
  },
  {
   "cell_type": "markdown",
   "metadata": {},
   "source": [
    "### <span style=\"font-size:1.5em;font-weight:bold;padding-right: 30px;\"> 2.</span> Expression de $N(t)$ et pertinence du modèle"
   ]
  },
  {
   "cell_type": "markdown",
   "metadata": {},
   "source": [
    "<span style=\"font-size:2em;font-weight:bold;padding-right: 30px;\"> a.</span> En déduire l'expression de $N(t)$."
   ]
  },
  {
   "cell_type": "markdown",
   "metadata": {},
   "source": [
    "<span style=\"font-size:2em;font-weight:bold;padding-right: 30px;\"> b.</span> Compléter la fonction <code style=\"background-color:white;font-size:1.3em\">N</code> de paramètre <code style=\"background-color:white;font-size:1.3em\">x</code> <em>(un réel)</em> qui renvoie son image par $N$."
   ]
  },
  {
   "cell_type": "code",
   "execution_count": 6,
   "metadata": {},
   "outputs": [],
   "source": [
    "def N(x):\n",
    "    return exp(-0.01 * x) * 10000"
   ]
  },
  {
   "cell_type": "markdown",
   "metadata": {},
   "source": [
    "<span style=\"font-size:2em;font-weight:bold;padding-right: 30px;\"> c.</span> Exécuter le code suivant pour représenter la courbre de $N$ par dessus le nuage de points précédent."
   ]
  },
  {
   "cell_type": "code",
   "execution_count": 7,
   "metadata": {},
   "outputs": [
    {
     "data": {
      "image/png": "[encoded data removed]",
      "text/plain": [
       "<Figure size 1080x576 with 1 Axes>"
      ]
     },
     "metadata": {
      "needs_background": "light"
     },
     "output_type": "display_data"
    }
   ],
   "source": [
    "pl.figure(figsize = (15, 8))\n",
    "pl.plot(T, L, '+', color = 'red', markersize = 4)\n",
    "pl.plot(T, [N(t) for t in T], '--', \n",
    "        color = 'black', \n",
    "        linewidth = 2)\n",
    "pl.grid()"
   ]
  },
  {
   "cell_type": "markdown",
   "metadata": {},
   "source": [
    "<h1 style=\"font-family:Comic Sans MS;color:white;background-color:chocolate;text-align:center\"> <span style=\"font-size:2em;font-weight:bold;padding-right: 60px;\"> D.</span> Durée de radioactivité pour un atome</h1>"
   ]
  },
  {
   "cell_type": "markdown",
   "metadata": {},
   "source": [
    "<div style='background-color:#AAA;padding:10px;border-left: 1rem solid'>\n",
    "On note :\n",
    "<ul>\n",
    "    <li> $Y$ la variable aléatoire qui donne la durée de radioactivité d'un atome <em>(comptée en unité de temps)</em>.</li>\n",
    "    <li> $p_t=\\mathbb{P}[Y>t]$</li>\n",
    "</ul>\n",
    "</div>"
   ]
  },
  {
   "cell_type": "markdown",
   "metadata": {},
   "source": [
    "<div style='background-color:#AAA;padding:10px;border-left: 1rem solid'>\n",
    "Au départ, on cosidère $N_{0}$ atomes présents au départ, on note :\n",
    "<ul>\n",
    "    <li> $R_{t}$ le nombre d'atomes encore radioactifs restants à l'instant $t$.</li>\n",
    "    <li> $N(t)$ le <b>nombre moyen</b> d'atomes radioactifs encore présents à l'instant $t$.</li>\n",
    "</ul>\n",
    "</div>"
   ]
  },
  {
   "cell_type": "markdown",
   "metadata": {},
   "source": [
    "### <span style=\"font-size:1.5em;font-weight:bold;padding-right: 30px;\"> 1.</span> Expression de $p_t$"
   ]
  },
  {
   "cell_type": "markdown",
   "metadata": {},
   "source": [
    "<span style=\"font-size:2em;font-weight:bold;padding-right: 30px;\"> a.</span> Quelle loi de probabilité suit $R_t$ ? <em>(Préciser ses éventuels paramètres)</em>"
   ]
  },
  {
   "cell_type": "markdown",
   "metadata": {},
   "source": [
    "<span style=\"font-size:2em;font-weight:bold;padding-right: 30px;\"> b.</span> En déduire alors $p_t$ en fonction de $t$."
   ]
  },
  {
   "cell_type": "markdown",
   "metadata": {},
   "source": [
    "### <span style=\"font-size:1.5em;font-weight:bold;padding-right: 30px;\"> 2.</span> Probabilité de se désintégrer en l'espace d'une unité de temps."
   ]
  },
  {
   "cell_type": "markdown",
   "metadata": {},
   "source": [
    "<span style=\"font-size:2em;font-weight:bold;padding-right: 30px;\"> a.</span> Justifier que $\\left(Y>t\\right)=\\left(t<Y\\leqslant t+1\\right)\\cup\\left(Y>t+1\\right)$"
   ]
  },
  {
   "cell_type": "markdown",
   "metadata": {},
   "source": [
    "<span style=\"font-size:2em;font-weight:bold;padding-right: 30px;\"> b.</span> En déduire que $\\mathbb{P}\\left(t<Y\\leqslant t+1\\right)=\\text{e}^{-0,01 t}\\left(1-\\text{e}^{-0,01}\\right)$"
   ]
  },
  {
   "cell_type": "markdown",
   "metadata": {},
   "source": [
    "<span style=\"font-size:2em;font-weight:bold;padding-right: 30px;\"> c.</span> Sachant qu'un atome est radioactif à l'instant $t$, calculer la probabilité $q$ qu'il se désintègre avant l'instant $t+1$."
   ]
  },
  {
   "cell_type": "markdown",
   "metadata": {},
   "source": [
    "<span style=\"font-size:2em;font-weight:bold;padding-right: 30px;\"> d.</span> On rappelle que ${\\displaystyle \\lim_{x\\rightarrow0}\\dfrac{\\text{e}^{x}-1}{x}=1}$, vérifier que selon ce modèle $q$ est bien voisine de 1%."
   ]
  },
  {
   "cell_type": "markdown",
   "metadata": {},
   "source": [
    "<h1 style=\"font-family:Comic Sans MS;color:white;background-color:chocolate;text-align:center\"> <span style=\"font-size:2em;font-weight:bold;padding-right: 60px;\"> E.</span> Temps d'attente $t_n$ pour qu'il reste $\\dfrac{N_0}{2^n}$ atomes radioactifs<h1>  "
   ]
  },
  {
   "cell_type": "markdown",
   "metadata": {},
   "source": [
    "<span style=\"font-size:2em;font-weight:bold;padding-right: 30px;\"> 1.</span> Exécuter l'algorithme ci-dessous et interpréter les deuxième et troisième éléments de la liste D."
   ]
  },
  {
   "cell_type": "code",
   "execution_count": 8,
   "metadata": {},
   "outputs": [
    {
     "data": {
      "text/plain": [
       "[0, 69, 135, 203, 272]"
      ]
     },
     "execution_count": 8,
     "metadata": {},
     "output_type": "execute_result"
    }
   ],
   "source": [
    "N0 = 10000\n",
    "D = [0]\n",
    "for t in range(len(L)):\n",
    "    if L[t] < N0 / 2:\n",
    "        D.append(t)\n",
    "        N0 = N0 / 2\n",
    "D"
   ]
  },
  {
   "cell_type": "markdown",
   "metadata": {},
   "source": [
    "<span style=\"font-size:2em;font-weight:bold;padding-right: 30px;\"> 2.</span> Conjecturer la nature de la suite $\\left(t_n\\right)$ puis la démontrer."
   ]
  },
  {
   "cell_type": "code",
   "execution_count": null,
   "metadata": {},
   "outputs": [],
   "source": []
  },
  {
   "cell_type": "code",
   "execution_count": null,
   "metadata": {},
   "outputs": [],
   "source": []
  },
  {
   "cell_type": "code",
   "execution_count": null,
   "metadata": {},
   "outputs": [],
   "source": []
  }
 ],
 "metadata": {
  "kernelspec": {
   "display_name": "Python 3",
   "language": "python",
   "name": "python3"
  },
  "language_info": {
   "codemirror_mode": {
    "name": "ipython",
    "version": 3
   },
   "file_extension": ".py",
   "mimetype": "text/x-python",
   "name": "python",
   "nbconvert_exporter": "python",
   "pygments_lexer": "ipython3",
   "version": "3.8.6"
  }
 },
 "nbformat": 4,
 "nbformat_minor": 4
}
