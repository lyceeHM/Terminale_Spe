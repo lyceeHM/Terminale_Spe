{
 "cells": [
  {
   "cell_type": "markdown",
   "metadata": {},
   "source": [
    "<div id=\"titre\">\n",
    "<h1 style=\"color:white;\n",
    "  font-family:Comic Sans MS;\n",
    "  font-size:3em;\n",
    "  background-color:#D0573B;\n",
    "  text-align:center;\n",
    "  padding:10px\">Récurrence</h1>\n",
    "<div style=\"font-family:Comic Sans MS; background-color:black;box-shadow: 8px 8px 0px #aaa; text-align:center; width: 50%; color:white\">TP 1  - Terminale</div>\n",
    "</div>"
   ]
  },
  {
   "cell_type": "markdown",
   "metadata": {},
   "source": [
    "<h1 style=\"font-family:Comic Sans MS;color:white;background-color:black;text-align:center\"> Exercice 1</h1>"
   ]
  },
  {
   "cell_type": "markdown",
   "metadata": {},
   "source": [
    "On définit la suite $\\left(u_n\\right)$ par $$\\left\\{ \\begin{array}{lcl}\n",
    "u_{0} & = & -1\\\\\n",
    "u_{n+1} & = & 0,2u_{n}+0,6\n",
    "\\end{array}\\right.$$"
   ]
  },
  {
   "cell_type": "markdown",
   "metadata": {},
   "source": [
    "<span style='color:white;font-weight:bold;background-color:black;width:12px;padding: 2px;font-size:20px'>1.</span> Compléter l'algorithme qui permet de calculer et afficher les 11 premiers termes de cette suite $u_0$, $u_1$, $\\ldots$, $u_{10}$"
   ]
  },
  {
   "cell_type": "code",
   "execution_count": 1,
   "metadata": {},
   "outputs": [
    {
     "name": "stdout",
     "output_type": "stream",
     "text": [
      "0.39999999999999997\n",
      "0.6799999999999999\n",
      "0.736\n",
      "0.7472\n",
      "0.74944\n",
      "0.749888\n",
      "0.7499776\n",
      "0.74999552\n",
      "0.749999104\n",
      "0.7499998208\n"
     ]
    }
   ],
   "source": [
    "u = -1\n",
    "for k in range(1, 11):\n",
    "    u = 0.2 * u + 0.6\n",
    "    print(u)"
   ]
  },
  {
   "cell_type": "markdown",
   "metadata": {},
   "source": [
    "<span style='color:white;font-weight:bold;background-color:black;width:12px;padding: 2px;font-size:20px'>2.</span> <b>Représentation graphique de $\\left(u_n\\right)$</b>"
   ]
  },
  {
   "cell_type": "markdown",
   "metadata": {},
   "source": [
    "<span style='color:white;font-weight:bold;background-color:#F0573B;padding: 2px;font-size:20px'>a.</span> Compléter la fonction nommée <b>termes</b> de paramètre <b>n</b> <i>(un entier naturel non nul)</i> qui renvoie la liste des termes $u_0$, $u_1$, $\\ldots$, $u_{n}$."
   ]
  },
  {
   "cell_type": "code",
   "execution_count": 2,
   "metadata": {},
   "outputs": [],
   "source": [
    "def termes(n):\n",
    "    u = -1\n",
    "    L = [u]                    # L est la liste contenant u_0\n",
    "    for k in range(1, n + 1):\n",
    "        u = 0.2 * u + 0.6      # Le premier terme calculé et u_1\n",
    "        L.append(u)\n",
    "    return L"
   ]
  },
  {
   "cell_type": "markdown",
   "metadata": {},
   "source": [
    "<b>Rappel python : </b>\n",
    "<blockquote style=\"border-left: 2px solid black;background-color:lightblue\">\n",
    "Supposons que l'on dispose d'une liste <b>L</b> :\n",
    "    \n",
    "```python\n",
    "   L = [1, 3, 4]\n",
    "   L.append(2) # est l'instruction qui permet d'ajouter l'élément 2 à la liste L\n",
    "```\n",
    "</blockquote>"
   ]
  },
  {
   "cell_type": "markdown",
   "metadata": {},
   "source": [
    "<span style='color:white;font-weight:bold;background-color:#F0573B;padding: 2px;font-size:20px'>b.</span> Exécuter cette fonction pour obtenir la liste des 11 premiers termes"
   ]
  },
  {
   "cell_type": "code",
   "execution_count": 3,
   "metadata": {},
   "outputs": [
    {
     "data": {
      "text/plain": [
       "[-1,\n",
       " 0.39999999999999997,\n",
       " 0.6799999999999999,\n",
       " 0.736,\n",
       " 0.7472,\n",
       " 0.74944,\n",
       " 0.749888,\n",
       " 0.7499776,\n",
       " 0.74999552,\n",
       " 0.749999104,\n",
       " 0.7499998208]"
      ]
     },
     "execution_count": 3,
     "metadata": {},
     "output_type": "execute_result"
    }
   ],
   "source": [
    "termes(10)"
   ]
  },
  {
   "cell_type": "markdown",
   "metadata": {},
   "source": [
    "<span style='color:white;font-weight:bold;background-color:#F0573B;padding: 2px;font-size:20px'>c.</span> Pour preprésenter en ordonnée les valeurs d'une liste, exécuter les instructions suivantes "
   ]
  },
  {
   "cell_type": "code",
   "execution_count": 4,
   "metadata": {},
   "outputs": [],
   "source": [
    "import pylab as pl"
   ]
  },
  {
   "cell_type": "code",
   "execution_count": 5,
   "metadata": {},
   "outputs": [
    {
     "data": {
      "text/plain": [
       "[<matplotlib.lines.Line2D at 0x7fda05996250>]"
      ]
     },
     "execution_count": 5,
     "metadata": {},
     "output_type": "execute_result"
    },
    {
     "data": {
      "image/png": "[encoded data removed]",
      "text/plain": [
       "<Figure size 432x288 with 1 Axes>"
      ]
     },
     "metadata": {
      "needs_background": "light"
     },
     "output_type": "display_data"
    }
   ],
   "source": [
    "pl.plot(termes(20), 'o-')"
   ]
  },
  {
   "cell_type": "markdown",
   "metadata": {},
   "source": [
    "<b>Rappel python : </b>\n",
    "<blockquote style=\"border-left: 2px solid black;background-color:lightblue\">\n",
    "<ul>\n",
    "    <li>Pour représenter une liste <b>L</b> :\n",
    "        <br> Par défault :\n",
    "\n",
    "```python\n",
    "    pl.plot(L)\n",
    "            \n",
    "```\n",
    "Ou avec seulement des points :\n",
    "```python\n",
    "    pl.plot(L, 'o')\n",
    "            \n",
    "```\n",
    "Ou avec des points reliés par des segments :\n",
    "```python\n",
    "    pl.plot(L, 'o-')\n",
    "            \n",
    "```\n",
    "   </li>\n",
    "   <li>Pour représenter une liste <b>Y</b> en fonction d'une liste <b>X</b> :\n",
    "        <br> Par défault :\n",
    "\n",
    "```python\n",
    "    pl.plot(X, Y)\n",
    "            \n",
    "```\n",
    "Ou avec seulement des points :\n",
    "```python\n",
    "    pl.plot(X, Y, 'o')\n",
    "            \n",
    "```\n",
    "Ou avec des points reliés par des segments :\n",
    "```python\n",
    "    pl.plot(X, Y, 'o-')\n",
    "            \n",
    "```\n",
    "   </li>\n",
    "</ul>\n",
    "</blockquote>"
   ]
  },
  {
   "cell_type": "markdown",
   "metadata": {},
   "source": [
    "<span style='color:white;font-weight:bold;background-color:black;width:12px;padding: 2px;font-size:20px'>3.</span> <b>A quoi correspond $0,75$ ?</b>"
   ]
  },
  {
   "cell_type": "markdown",
   "metadata": {},
   "source": [
    "On remarque que : $$u_{n+1}=f\\left(u_n\\right),$$\n",
    "avec $$f(x)=0,2x+0,6.$$"
   ]
  },
  {
   "cell_type": "markdown",
   "metadata": {},
   "source": [
    "Résoudre l'équation $$f(x)=x.$$\n",
    "<span style='background-color:#A0A031;width:12px;padding: 2px'>Une solution de cette équation est appelé <b>point fixe</b> de $f$.</span>"
   ]
  },
  {
   "cell_type": "markdown",
   "metadata": {},
   "source": [
    "> $$\\begin{array}{crcl}\n",
    " & f\\left(x\\right) & = & x\\\\\n",
    "\\Longleftrightarrow & 0,2x+0,6 & = & x\\\\\n",
    "\\Longleftrightarrow & 0,8x & = & 0,6\\\\\n",
    "\\Longleftrightarrow & x & = & \\boxed{0,75}\n",
    "\\end{array}$$"
   ]
  },
  {
   "cell_type": "markdown",
   "metadata": {},
   "source": [
    "<span style='color:white;font-weight:bold;background-color:black;width:12px;padding: 2px;font-size:20px'>4.</span> <b>Ecart entre $u_n$ et $0,75$</b>"
   ]
  },
  {
   "cell_type": "markdown",
   "metadata": {},
   "source": [
    "<span style='color:white;font-weight:bold;background-color:#F0573B;padding: 2px;font-size:20px'>a.</span> Compléter l'algorithme ci-dessous qui permet de calculer et afficher la plus petite valeur de $n$ telle que : $$\\left|u_n-0,75\\right|\\leqslant 10^{-5}$$"
   ]
  },
  {
   "cell_type": "code",
   "execution_count": 6,
   "metadata": {},
   "outputs": [
    {
     "data": {
      "text/plain": [
       "8"
      ]
     },
     "execution_count": 6,
     "metadata": {},
     "output_type": "execute_result"
    }
   ],
   "source": [
    "u = -1\n",
    "n = 0\n",
    "while abs(u - 0.75) > 10**(-5):\n",
    "    u = 0.2 * u + 0.6\n",
    "    n = n + 1\n",
    "n"
   ]
  },
  {
   "cell_type": "markdown",
   "metadata": {},
   "source": [
    "> On a : $$\\left|u_{8}-0,75\\right|\\leqslant10^{-5}$$ \n",
    "Mais $$\\left|u_{7}-0,75\\right|>10^{-5}$$"
   ]
  },
  {
   "cell_type": "markdown",
   "metadata": {},
   "source": [
    "<b>Rappel python : </b>\n",
    "<blockquote style=\"border-left: 2px solid black;background-color:lightblue\">\n",
    "    \n",
    "```python\n",
    "   abs(x) # calcule la valeur absolue de x\n",
    "```\n",
    "</blockquote>"
   ]
  },
  {
   "cell_type": "markdown",
   "metadata": {},
   "source": [
    "<span style='color:white;font-weight:bold;background-color:#F0573B;padding: 2px;font-size:20px'>b.</span> Démontrer que la $\\left(e_n\\right)$ définie par $e_n=u_n-0,75$ est géométrique, dont on précisera sa raison et son premier terme."
   ]
  },
  {
   "cell_type": "markdown",
   "metadata": {},
   "source": [
    "> On cherche le nombre que l'on doit multiplier par $e_n$ pour obtenir $e_{n+1}$ :\\begin{array}{rcll}\n",
    "e_{n+1} & = & u_{n+1}-0,75\\\\\n",
    " & = & 0,2u_{n}+0,6-0,75\\\\\n",
    " & = & 0,2u_{n}-0,15 & \\text{On met }0,75\\text{ en facteur}\\\\\n",
    " & = & 0,2\\left(u_{n}-\\dfrac{0,15}{0,2}\\right)\\\\\n",
    " & = & 0,2\\left(u_{n}-0,75\\right)\\\\\n",
    " & = & 0,2e_{n}\n",
    "\\end{array}"
   ]
  },
  {
   "cell_type": "markdown",
   "metadata": {},
   "source": [
    "<span style='color:white;font-weight:bold;background-color:#F0573B;padding: 2px;font-size:20px'>c.</span> Donner l'expression de $u_n$ en fonction de $n$."
   ]
  },
  {
   "cell_type": "markdown",
   "metadata": {},
   "source": [
    "> Pour tout $n\\in\\mathbb{N}$ : \n",
    "$$\\begin{array}{rcll}\n",
    "e_{n} & = & \\left(0,2\\right)^{n}e_{0}\\\\\n",
    "u_{n}-0,75 & = & -1,75\\times0,2^{n} & \\text{car }e_{0}=u_{0}-0,75=-1,75\\\\\n",
    "u_{n} & = & 0,75-1,75\\times0,2^{n}\n",
    "\\end{array}$$"
   ]
  },
  {
   "cell_type": "markdown",
   "metadata": {},
   "source": [
    "<b><u>A retenir :</u></b>\n",
    "<blockquote style=\"border-left: 10px solid black;background-color:#A0A031\">\n",
    "La suite $\\left(u_n\\right)$ par $$\\boxed{\\left\\{ \\begin{array}{lcl}\n",
    "u_{n+1} & = & au_{n}+b\\\\\n",
    "u_{0} & = & \\text{un réel donné}\n",
    "\\end{array}\\right.\\text{, où }a\\text{ et }b\\text{ sont 2 réels indépendants de }n\\text{ et }a\\neq0\\ }$$\n",
    "    est appelée <b>suite arithmético-géométrique</b>.\n",
    "<br>\n",
    "    <br>Si $\\ell$ est un point fixe de $\\left(u_n\\right)$ alors on démontre que la suite $\\left(e_n\\right)$ définie par $$e_n=u_n-\\ell$$ est <b>géométrique</b> de raison $a$.\n",
    "</blockquote>"
   ]
  },
  {
   "cell_type": "markdown",
   "metadata": {},
   "source": [
    "<h1 style=\"font-family:Comic Sans MS;color:white;background-color:black;text-align:center\"> Exercice 2</h1>"
   ]
  },
  {
   "cell_type": "markdown",
   "metadata": {},
   "source": [
    "On définit la suite $\\left(u_n\\right)$ par $$\\left\\{ \\begin{array}{lcl}\n",
    "u_{0} & = & a\\\\\n",
    "u_{n+1} & = & \\dfrac{2}{5}u_{n}+3\n",
    "\\end{array}\\right.$$\n",
    "avec $a$ un nombre réel donné."
   ]
  },
  {
   "cell_type": "markdown",
   "metadata": {},
   "source": [
    "<span style='color:white;font-weight:bold;background-color:black;width:12px;padding: 2px;font-size:20px'>1.</span> <b>Conjectures</b>"
   ]
  },
  {
   "cell_type": "markdown",
   "metadata": {},
   "source": [
    "<span style='color:white;font-weight:bold;background-color:#F0573B;padding: 2px;font-size:20px'>a.</span> Compléter la fonction nommée <b>suite</b> de paramètres <b>n</b> <i>(un entier naturel non nul)</i> et <b>a</b> <i>(le nombre $a$)</i>.\n",
    "<br> Elle calcule et affiche $u_1$, $u_2$, $\\ldots$, $u_n$."
   ]
  },
  {
   "cell_type": "code",
   "execution_count": 7,
   "metadata": {},
   "outputs": [],
   "source": [
    "def suite(n, a):\n",
    "    u = a\n",
    "    for k in range(1, n+1):\n",
    "        u = 2/5 * u + 3\n",
    "        print(u)"
   ]
  },
  {
   "cell_type": "markdown",
   "metadata": {},
   "source": [
    "<span style='color:white;font-weight:bold;background-color:#F0573B;padding: 2px;font-size:20px'>b.</span> Exécuter cette fonction pour obtenir les 10 premiers termes de $\\left(u_n\\right)$ après $u_0$."
   ]
  },
  {
   "cell_type": "code",
   "execution_count": 8,
   "metadata": {},
   "outputs": [
    {
     "name": "stdout",
     "output_type": "stream",
     "text": [
      "6.2\n",
      "5.48\n",
      "5.192\n",
      "5.0768\n",
      "5.0307200000000005\n",
      "5.012288\n",
      "5.0049152\n",
      "5.001966080000001\n",
      "5.000786432\n",
      "5.000314572800001\n"
     ]
    }
   ],
   "source": [
    "suite(10, 8)"
   ]
  },
  {
   "cell_type": "markdown",
   "metadata": {},
   "source": [
    "<span style='color:white;font-weight:bold;background-color:#F0573B;padding: 2px;font-size:20px'>c.</span> La fonction <b>interact</b> du module <b>ipywidgets</b> permet d'évaluer une fonction en modifiant son ou ses paramètre(s) à l'aide de curseurs.\n",
    "<br> Exécuter les deux cellules suivantes."
   ]
  },
  {
   "cell_type": "code",
   "execution_count": 9,
   "metadata": {},
   "outputs": [],
   "source": [
    "from ipywidgets import interact "
   ]
  },
  {
   "cell_type": "code",
   "execution_count": 10,
   "metadata": {},
   "outputs": [
    {
     "data": {
      "application/vnd.jupyter.widget-view+json": {
       "model_id": "99e94df9e9af4c0c976fb2645354d90e",
       "version_major": 2,
       "version_minor": 0
      },
      "text/plain": [
       "interactive(children=(IntSlider(value=10, description='n', max=20, min=1), FloatSlider(value=3.0, description=…"
      ]
     },
     "metadata": {},
     "output_type": "display_data"
    },
    {
     "data": {
      "text/plain": [
       "<function __main__.suite(n, a)>"
      ]
     },
     "execution_count": 10,
     "metadata": {},
     "output_type": "execute_result"
    }
   ],
   "source": [
    "interact(suite , n = (1, 20), a = (-4,10, 0.5))"
   ]
  },
  {
   "cell_type": "markdown",
   "metadata": {},
   "source": [
    "<b>Conjectures :</b>\n",
    "<ul>\n",
    "    <li>Discuter selon la valeur de $a$ le sens de variation de $\\left(u_n\\right)$.</li>\n",
    "    <li>De quelle valeur semble approcher $u_n$ lorsque $n$ augmente ?</li>\n",
    "</ul>"
   ]
  },
  {
   "cell_type": "markdown",
   "metadata": {},
   "source": [
    "> <ul>\n",
    "    <li>Lorsque $a<5$ alors $\\left(u_n\\right)$ semble être croissante et approcher $5$ lorsque $n$ augmente.</li>\n",
    "    <li>Lorsque $a>5$ alors $\\left(u_n\\right)$ semble être décroissante et approcher $5$ lorsque $n$ augmente.</li>\n",
    "    <li>Lorsque $a=5$ alors $\\left(u_n\\right)$ semble être constante égale à $5$.</li>\n",
    "</ul>"
   ]
  },
  {
   "cell_type": "markdown",
   "metadata": {},
   "source": [
    "<span style='color:white;font-weight:bold;background-color:black;width:12px;padding: 2px;font-size:20px'>2.</span> <b>Preuve conjecture 1 : </b>"
   ]
  },
  {
   "cell_type": "markdown",
   "metadata": {},
   "source": [
    "Démontrer par récurrence votre conjecture 1."
   ]
  },
  {
   "cell_type": "markdown",
   "metadata": {},
   "source": [
    "<span style='color:white;font-weight:bold;background-color:black;width:12px;padding: 2px;font-size:20px'>3.</span> <b>Une \"justification\" de la conjecture 2 : </b>"
   ]
  },
  {
   "cell_type": "markdown",
   "metadata": {},
   "source": [
    "<span style='color:white;font-weight:bold;background-color:#F0573B;padding: 2px;font-size:20px'>a.</span> Démontrer par récurrence (ou directement) que pour tout $n\\in\\mathbb{N}$ : $$u_{n}=5+\\left(\\dfrac{2}{5}\\right)^{n}\\left(a-5\\right).$$"
   ]
  },
  {
   "cell_type": "markdown",
   "metadata": {},
   "source": [
    "<span style='color:white;font-weight:bold;background-color:#F0573B;padding: 2px;font-size:20px'>b.</span> Donner le sens de variation de la suite de terme général $\\left(\\dfrac{2}{5}\\right)^{n}$.\n",
    "<br> Conclure."
   ]
  },
  {
   "cell_type": "markdown",
   "metadata": {},
   "source": [
    "<h1 style=\"font-family:Comic Sans MS;color:white;background-color:black;text-align:center\"> Exercice 3</h1>"
   ]
  },
  {
   "cell_type": "markdown",
   "metadata": {},
   "source": [
    "<ul>\n",
    "    <li>Un singe inépuisable tape $6n$ fois de suite sur un clavier comportant les 26 lettres de l'alphabet <i>(avec $n$ est un entier naturel non nul)</i>.</li>\n",
    "    <li>On note $p_n$ la probabilité de saisir au moins une fois le mot \"<span style='color:darkgreen;font-size:18px'>banane</span>\" après la saisie aléatoire de $6n$ lettres.</li>\n",
    "</ul>\n",
    "\n",
    "<span style='color:white;font-weight:bold;background-color:black;width:12px;padding: 2px;font-size:20px'>1.</span> <b>Calcul de $p_n$</b>\n",
    "<br>\n",
    "<br>\n",
    "<span style='color:white;font-weight:bold;background-color:#F0573B;padding: 2px;font-size:20px'>a.</span> Quelle est la probabilité $p$ de saisir le mot \"<span style='color:darkgreen;font-size:18px'>banane</span>\" après la saisie aléatoire de 6 lettres ? \n",
    "<br>\n",
    "<br>\n",
    "<span style='color:white;font-weight:bold;background-color:#F0573B;padding: 2px;font-size:20px'>b.</span> Justifier que la probabilité de saisir le mot \"<span style='color:darkgreen;font-size:18px'>banane</span>\" après la saisie aléatoire de 6 lettres est $$p=1-\\left(\\dfrac{1}{26}\\right)^6$$\n",
    "<br>\n",
    "<span style='color:white;font-weight:bold;background-color:#F0573B;padding: 2px;font-size:20px'>c.</span> Quelle est la probabilité de ne pas saisir le mot \"<span style='color:darkgreen;font-size:18px'>banane</span>\" après la saisie aléatoire de $6n$ lettres ?\n",
    "<br>\n",
    "<br>\n",
    "<span style='color:white;font-weight:bold;background-color:#F0573B;padding: 2px;font-size:20px'>d.</span> Justifier que la probabilité de saisir au moins une fois le mot \"<span style='color:darkgreen;font-size:18px'>banane</span>\" après la saisie aléatoire de $6n$ lettres est $$p=1-p^n.$$"
   ]
  },
  {
   "cell_type": "markdown",
   "metadata": {},
   "source": [
    "<span style='color:white;font-weight:bold;background-color:black;width:12px;padding: 2px;font-size:20px'>2.</span> Combien de série de $n$ paquets de $6$ lettres doit être taper aléatoirement par le singe pour observer au moins une fois le mot \"<span style='color:darkgreen;font-size:18px'>banane</span>\" avec une probabilité supérieure ou égale à $0,5$ ?"
   ]
  },
  {
   "cell_type": "code",
   "execution_count": 11,
   "metadata": {},
   "outputs": [
    {
     "data": {
      "text/plain": [
       "214124096"
      ]
     },
     "execution_count": 11,
     "metadata": {},
     "output_type": "execute_result"
    }
   ],
   "source": [
    "n = 0\n",
    "p = 1 - (1/26)**6\n",
    "u = 1\n",
    "while u > 0.5:\n",
    "    u = u * p\n",
    "    n = n + 1\n",
    "n"
   ]
  },
  {
   "cell_type": "markdown",
   "metadata": {},
   "source": [
    "<h1 style=\"font-family:Comic Sans MS;color:white;background-color:black;text-align:center\"> Exercice 4</h1>"
   ]
  },
  {
   "cell_type": "markdown",
   "metadata": {},
   "source": [
    "<b><u>Comment calculer une somme ? </u></b>\n",
    "<blockquote style=\"border-left: 10px solid black;background-color:#A0A031\">\n",
    "On définit la somme ${\\displaystyle S_{n}=\\sum_{k=1}^{n}k}$.\n",
    "<ul>\n",
    "    <li>Pour passer de $S_n$ à $S_{n+1}$, on ajoute $n+1$\n",
    "        <br>Ainsi, la relation de récurrence de $\\left(S_n\\right)$ est : $$S_{n+1}=S_n+{n+1},$$\n",
    "        avec $S_1=1$\n",
    "    </li>\n",
    "    <li>Voici la fonction nommée <b>somme</b> de paramètre <b>n</b> <i>(l'entier naturel non nul $n$)</i> qui permet de calculer $S_n$ : \n",
    "   \n",
    "```python\n",
    "    def somme(n):\n",
    "        S = 0\n",
    "        for k in range(1, n+1):\n",
    "            S = S + k\n",
    "        return S\n",
    "```\n",
    "</li>\n",
    "</ul>\n",
    "</blockquote>"
   ]
  },
  {
   "cell_type": "markdown",
   "metadata": {},
   "source": [
    "<span style='color:white;font-weight:bold;background-color:black;width:12px;padding: 2px;font-size:20px'>1.</span> On définit la somme $S_n$ par $${\\displaystyle S_{n}=\\sum_{k=1}^{n}q^k}$$ "
   ]
  },
  {
   "cell_type": "markdown",
   "metadata": {},
   "source": [
    "<span style='color:white;font-weight:bold;background-color:#F0573B;padding: 2px;font-size:20px'>a.</span>  Ecrire la fonction nommée <b>somme_geometrique</b> de paramètres :\n",
    "<ul>\n",
    "    <li>$n$ <i>(un entier naturel non nul)</i></li>\n",
    "    <li>$q$ <i>(un nombre réel différent)</i></li>\n",
    "</ul>\n",
    "Elle renvoie la liste des termes $S_0$, $S_1$, $\\ldots$, $S_n$."
   ]
  },
  {
   "cell_type": "code",
   "execution_count": 12,
   "metadata": {},
   "outputs": [],
   "source": [
    "def somme_geometrique(q, n):\n",
    "    S = 0\n",
    "    L = []\n",
    "    for k in range(n+1):\n",
    "        S = S + q**k\n",
    "        L.append(S)\n",
    "    return L"
   ]
  },
  {
   "cell_type": "markdown",
   "metadata": {},
   "source": [
    "Tester votre somme pour $q=0,5$ et $n=10$."
   ]
  },
  {
   "cell_type": "code",
   "execution_count": 13,
   "metadata": {},
   "outputs": [
    {
     "data": {
      "text/plain": [
       "[1.0,\n",
       " 1.5,\n",
       " 1.75,\n",
       " 1.875,\n",
       " 1.9375,\n",
       " 1.96875,\n",
       " 1.984375,\n",
       " 1.9921875,\n",
       " 1.99609375,\n",
       " 1.998046875,\n",
       " 1.9990234375]"
      ]
     },
     "execution_count": 13,
     "metadata": {},
     "output_type": "execute_result"
    }
   ],
   "source": [
    "somme_geometrique(0.5, 10)"
   ]
  },
  {
   "cell_type": "markdown",
   "metadata": {},
   "source": [
    "<span style='color:white;font-weight:bold;background-color:#F0573B;padding: 2px;font-size:20px'>b.</span> Commenter le rôle de la fonction <b>graph</b>."
   ]
  },
  {
   "cell_type": "code",
   "execution_count": 14,
   "metadata": {},
   "outputs": [],
   "source": [
    "import pylab as pl"
   ]
  },
  {
   "cell_type": "code",
   "execution_count": 15,
   "metadata": {},
   "outputs": [],
   "source": [
    "def graph(q, n):\n",
    "    pl.grid()\n",
    "    pl.plot(range(n+1), somme_geometrique(q, n), 'o-')"
   ]
  },
  {
   "cell_type": "code",
   "execution_count": 16,
   "metadata": {},
   "outputs": [
    {
     "data": {
      "image/png": "[encoded data removed]",
      "text/plain": [
       "<Figure size 432x288 with 1 Axes>"
      ]
     },
     "metadata": {
      "needs_background": "light"
     },
     "output_type": "display_data"
    }
   ],
   "source": [
    "graph(0.5, 20)"
   ]
  },
  {
   "cell_type": "markdown",
   "metadata": {},
   "source": [
    "<span style='color:white;font-weight:bold;background-color:#F0573B;padding: 2px;font-size:20px'>b.</span> Exécuter le code suivant.\n",
    "<br> En bougeant les curseurs, discuter selon les valeurs de $q$ les cas où $S_n$ est bornée ou non."
   ]
  },
  {
   "cell_type": "code",
   "execution_count": 17,
   "metadata": {},
   "outputs": [
    {
     "data": {
      "application/vnd.jupyter.widget-view+json": {
       "model_id": "a1923286b7064bb4aede2e6e6e10b047",
       "version_major": 2,
       "version_minor": 0
      },
      "text/plain": [
       "interactive(children=(FloatSlider(value=0.0, description='q', max=2.0, min=-2.0), IntSlider(value=20, descript…"
      ]
     },
     "metadata": {},
     "output_type": "display_data"
    },
    {
     "data": {
      "text/plain": [
       "<function __main__.graph(q, n)>"
      ]
     },
     "execution_count": 17,
     "metadata": {},
     "output_type": "execute_result"
    }
   ],
   "source": [
    "from ipywidgets import interact\n",
    "\n",
    "interact(graph, q = (-2, 2, 0.1), n = (0, 40))"
   ]
  },
  {
   "cell_type": "markdown",
   "metadata": {},
   "source": [
    "<span style='color:white;font-weight:bold;background-color:black;width:12px;padding: 2px;font-size:20px'>2.</span> <b>Calcul explicite de $S_n$</b>\n",
    "<br>\n",
    "<br>\n",
    "<span style='color:white;font-weight:bold;background-color:#F0573B;padding: 2px;font-size:20px'>a.</span> Donner la relation de récurrence de $\\left(S_n\\right)$.\n",
    "<br>\n",
    "<br>\n",
    "<span style='color:white;font-weight:bold;background-color:#F0573B;padding: 2px;font-size:20px'>b.</span> Démontrer par récurrence (ou directement) que $$S_n = \\dfrac{1-q^{n+1}}{1-q}$$\n",
    "<span style='color:white;font-weight:bold;background-color:#F0573B;padding: 2px;font-size:20px'>c.</span> Conclure alors votre conjecture."
   ]
  },
  {
   "cell_type": "markdown",
   "metadata": {},
   "source": [
    "<h1 style=\"font-family:Comic Sans MS;color:white;background-color:black;text-align:center\"> Exercice 5</h1>"
   ]
  },
  {
   "cell_type": "markdown",
   "metadata": {},
   "source": [
    "On définit les suites $\\left(a_n\\right)$ et $\\left(b_n\\right)$ par :\n",
    "<ul>\n",
    "    <li>$a_{n+1}=0,8a_n-0,6b_n+2$ et $a_0=0$</li>\n",
    "    <li>$b_{n+1}=0,8a_n+0,6b_n-2$ et $b_0=11$</li>\n",
    "</ul>"
   ]
  },
  {
   "cell_type": "markdown",
   "metadata": {},
   "source": [
    "<span style='color:white;font-weight:bold;background-color:black;width:12px;padding: 2px;font-size:20px'>1.</span> <b>Calculs des premiers termes</b>"
   ]
  },
  {
   "cell_type": "markdown",
   "metadata": {},
   "source": [
    "<span style='color:white;font-weight:bold;background-color:#F0573B;padding: 2px;font-size:20px'>a.</span>  Calculer $a_1$ et $b_1$."
   ]
  },
  {
   "cell_type": "markdown",
   "metadata": {},
   "source": [
    "<span style='color:white;font-weight:bold;background-color:#F0573B;padding: 2px;font-size:20px'>b.</span> L'algorithme ci-dessous est censé de : \n",
    "<ul>\n",
    "    <li> calculer  et stocker dans une liste <b>A</b> les termes $a_1$, $a_2$, $\\ldots$, $a_{40}$</li>\n",
    "    <li> calculer  et stocker dans une liste <b>B</b> les termes $b_1$, $b_2$, $\\ldots$, $b_{40}$</li>\n",
    "</ul>\n",
    "Est-il exact ? Le modifier sinon."
   ]
  },
  {
   "cell_type": "code",
   "execution_count": 18,
   "metadata": {},
   "outputs": [
    {
     "name": "stdout",
     "output_type": "stream",
     "text": [
      "[-4.6, -5.76, -3.016000000000001, 2.5343999999999984, 8.671039999999998, 12.939264, 13.631782400000002, 10.471587840000005, 4.722758144000005, -1.315174809599998, -5.227037839360002, -5.448085733376006, -1.8898993340416075, 4.024246798909434, 9.928694212296701, 13.46166394076529, 13.209968092927761, 9.27428500791913, 3.2288879197428466, -2.508064336330575, -5.641790857871767, -4.918801036264252, -0.6282908001510377, 5.513535756022591, 11.049948009787185, 13.766381059636904, 12.576261685631863, 7.955637637374077, 1.7527585341666603, -3.5512239827074215, -5.834716906498535, -4.184323067690235, 0.7397999981941585, 6.968003064800889, 12.009004905487263, 13.846404783978734, 11.745242748878711, 6.545983614227205, 0.3283310338848162, -4.420653960011499]\n",
      "[6.800000000000001, 0.6800000000000015, -4.911999999999999, -7.7392, -6.670720000000001, -2.1339520000000025, 4.056396799999997, 9.424186879999999, 11.822302208000004, 10.291496652800006, 5.444092436480007, -0.7809487544319955, -5.8936104435712, -7.848827955281925, -5.8645142848798795, -0.7343949005258832, 5.489482444038467, 10.31756681098743, 11.818624453541421, 9.392232314678846, 4.0089472499447325, -2.177916714767274, -6.69361399357237, -7.731865674948519, -4.877371086345261, 0.7280719367961019, 6.842286185219024, 11.019585959554338, 11.589051350067917, 8.32289620055433, 2.5275825708190123, -3.478764087243911, -7.29360511040927, -7.391004089410921, -3.7320014326482047, 2.219801797173794, 8.083684308126276, 11.514093095828247, 11.138864645198922, 7.108090336490028]\n"
     ]
    }
   ],
   "source": [
    "a = 0\n",
    "b = 11\n",
    "A = []\n",
    "B = []\n",
    "for k in range(1, 41):\n",
    "    temp = a\n",
    "    a = 0.8 * a - 0.6 * b + 2\n",
    "    b = 0.6 * temp + 0.8 * b - 2\n",
    "    A.append(a)\n",
    "    B.append(b)\n",
    "print(A)\n",
    "print(B)"
   ]
  },
  {
   "cell_type": "markdown",
   "metadata": {},
   "source": [
    "<span style='color:white;font-weight:bold;background-color:black;width:12px;padding: 2px;font-size:20px'>2.</span> <b>Conjecture</b>"
   ]
  },
  {
   "cell_type": "markdown",
   "metadata": {},
   "source": [
    "<span style='color:white;font-weight:bold;background-color:#F0573B;padding: 2px;font-size:20px'>a.</span> Représenter graphiquement le nuage de points $M_n\\left(a_n\\,,\\,b_n\\right)$ pour $n$ allant de $1$ jusque $40$."
   ]
  },
  {
   "cell_type": "code",
   "execution_count": 19,
   "metadata": {},
   "outputs": [
    {
     "data": {
      "image/png": "[encoded data removed]",
      "text/plain": [
       "<Figure size 432x288 with 1 Axes>"
      ]
     },
     "metadata": {
      "needs_background": "light"
     },
     "output_type": "display_data"
    }
   ],
   "source": [
    "pl.plot(A, B, 'o')\n",
    "pl.axis('equal')\n",
    "pl.grid()"
   ]
  },
  {
   "cell_type": "markdown",
   "metadata": {},
   "source": [
    "<b>Question : </b> Comment semble se répartir l'ensemble des points ?"
   ]
  },
  {
   "cell_type": "markdown",
   "metadata": {},
   "source": [
    "<span style='color:white;font-weight:bold;background-color:#F0573B;padding: 2px;font-size:20px'>b.</span> Pour affiner la réponse précédente, on exécute utilise le module <b>sympy</b> de la façon suivante :"
   ]
  },
  {
   "cell_type": "code",
   "execution_count": 20,
   "metadata": {},
   "outputs": [],
   "source": [
    "from sympy import *\n",
    "\n",
    "x, y = symbols('x y')"
   ]
  },
  {
   "cell_type": "code",
   "execution_count": 21,
   "metadata": {},
   "outputs": [],
   "source": [
    "def dist(x, y, a, b):\n",
    "    return (x - a)**2 + (y - b)**2"
   ]
  },
  {
   "cell_type": "code",
   "execution_count": 22,
   "metadata": {},
   "outputs": [
    {
     "data": {
      "text/latex": [
       "$\\displaystyle \\left(x + 4.6\\right)^{2} + \\left(y - 6.8\\right)^{2} = \\left(x + 5.76\\right)^{2} + \\left(y - 0.680000000000001\\right)^{2}$"
      ],
      "text/plain": [
       "Eq((x + 4.6)**2 + (y - 6.8)**2, (x + 5.76)**2 + (y - 0.680000000000001)**2)"
      ]
     },
     "execution_count": 22,
     "metadata": {},
     "output_type": "execute_result"
    }
   ],
   "source": [
    "eq1 = Eq(dist(x, y, A[0], B[0]), dist(x, y, A[1], B[1]))\n",
    "eq1"
   ]
  },
  {
   "cell_type": "code",
   "execution_count": 23,
   "metadata": {},
   "outputs": [
    {
     "data": {
      "text/latex": [
       "$\\displaystyle \\left(x + 4.6\\right)^{2} + \\left(y - 6.8\\right)^{2} = \\left(x + 3.016\\right)^{2} + \\left(y + 4.912\\right)^{2}$"
      ],
      "text/plain": [
       "Eq((x + 4.6)**2 + (y - 6.8)**2, (x + 3.016)**2 + (y + 4.912)**2)"
      ]
     },
     "execution_count": 23,
     "metadata": {},
     "output_type": "execute_result"
    }
   ],
   "source": [
    "eq2 = Eq(dist(x, y, A[0], B[0]), dist(x, y, A[2], B[2]))\n",
    "eq2"
   ]
  },
  {
   "cell_type": "code",
   "execution_count": 24,
   "metadata": {},
   "outputs": [
    {
     "data": {
      "text/plain": [
       "{x: 4.00000000000000, y: 2.00000000000000}"
      ]
     },
     "execution_count": 24,
     "metadata": {},
     "output_type": "execute_result"
    }
   ],
   "source": [
    "solve([eq1, eq2])"
   ]
  },
  {
   "cell_type": "markdown",
   "metadata": {},
   "source": [
    "<b>Question : </b> Préciser la nature de l'ensemble qui contient l'ensemble de tous les points $M_n\\left(a_n\\,,\\,b_n\\right)$."
   ]
  },
  {
   "cell_type": "markdown",
   "metadata": {},
   "source": [
    "<span style='color:white;font-weight:bold;background-color:black;width:12px;padding: 2px;font-size:20px'>2.</span> <b>Preuve conjecture</b>"
   ]
  },
  {
   "cell_type": "markdown",
   "metadata": {},
   "source": [
    "<span style='color:white;font-weight:bold;background-color:#F0573B;padding: 2px;font-size:20px'>a.</span> On note $\\Omega$ le point de coordonnées $\\left(4\\,,\\,2\\right)$.\n",
    "<br> Calculer la distanve $\\Omega M_0$."
   ]
  },
  {
   "cell_type": "markdown",
   "metadata": {},
   "source": [
    "<span style='color:white;font-weight:bold;background-color:#F0573B;padding: 2px;font-size:20px'>b.</span> Démontrer par récurrence que pour tout $n\\in\\mathbb{N}$, on a : $$\\left(a_{n}-4\\right)^{2}+\\left(b_{n}-2\\right)^{2}=97$$"
   ]
  },
  {
   "cell_type": "markdown",
   "metadata": {},
   "source": [
    "<span style='color:white;font-weight:bold;background-color:#F0573B;padding: 2px;font-size:20px'>c.</span> Conclure."
   ]
  },
  {
   "cell_type": "code",
   "execution_count": null,
   "metadata": {},
   "outputs": [],
   "source": []
  }
 ],
 "metadata": {
  "kernelspec": {
   "display_name": "Python 3",
   "language": "python",
   "name": "python3"
  },
  "language_info": {
   "codemirror_mode": {
    "name": "ipython",
    "version": 3
   },
   "file_extension": ".py",
   "mimetype": "text/x-python",
   "name": "python",
   "nbconvert_exporter": "python",
   "pygments_lexer": "ipython3",
   "version": "3.7.6"
  }
 },
 "nbformat": 4,
 "nbformat_minor": 2
}
