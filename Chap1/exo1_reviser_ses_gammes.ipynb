{
 "cells": [
  {
   "cell_type": "markdown",
   "metadata": {},
   "source": [
    "<div id=\"titre\">\n",
    "<h1 style=\"color:white;\n",
    "  font-family:Comic Sans MS;\n",
    "  font-size:3em;\n",
    "  background-color:#F0573B;\n",
    "  text-align:center;\n",
    "  padding:10px\">Correction réviser ses gammes </h1>\n",
    "<div style=\"font-family:Comic Sans MS; background-color:black;box-shadow: 8px 8px 0px #aaa; text-align:center; width: 50%; color:white\">Exercice 1</div>\n",
    "</div>"
   ]
  },
  {
   "cell_type": "markdown",
   "metadata": {},
   "source": [
    "<span style='color:white;font-weight:bold;background-color:black;width:12px;padding: 2px;font-size:20px'>1.</span> On considère la suite $\\left(u_n\\right)$ par $$u_n=5+\\sqrt{n},$$ pour tout $n\\in\\mathbb{n}.$\n",
    "<br> Calculons les 10 premiers termes de cette suite : "
   ]
  },
  {
   "cell_type": "code",
   "execution_count": 1,
   "metadata": {},
   "outputs": [],
   "source": [
    "from math import sqrt"
   ]
  },
  {
   "cell_type": "markdown",
   "metadata": {},
   "source": [
    "<b>Rappel python : </b>\n",
    "<blockquote style=\"border-left: 2px solid black;background-color:lightblue\">\n",
    "    \n",
    "```python\n",
    "from math import sqrt     # permet de charger la fonction racine carrée\n",
    "                          # du module math\n",
    "```\n",
    "</blockquote>"
   ]
  },
  {
   "cell_type": "code",
   "execution_count": 2,
   "metadata": {},
   "outputs": [
    {
     "name": "stdout",
     "output_type": "stream",
     "text": [
      "0 | 5.0\n",
      "1 | 6.0\n",
      "2 | 6.414213562373095\n",
      "3 | 6.732050807568877\n",
      "4 | 7.0\n",
      "5 | 7.23606797749979\n",
      "6 | 7.449489742783178\n",
      "7 | 7.645751311064591\n",
      "8 | 7.82842712474619\n",
      "9 | 8.0\n"
     ]
    }
   ],
   "source": [
    "for n in range(10): \n",
    "    print(n, '|' ,5 + sqrt(n))"
   ]
  },
  {
   "cell_type": "markdown",
   "metadata": {},
   "source": [
    "<b>Rappel python : </b>\n",
    "<blockquote style=\"border-left: 2px solid black;background-color:lightblue\">\n",
    "    \n",
    "```python\n",
    "range(10)     # correspond à l'ensemble des entiers de 0 à 10 exclu.\n",
    "range(1, 10)  # correspond à l'ensemble des entiers de 1 à 10 exclu.\n",
    "```\n",
    "</blockquote>"
   ]
  },
  {
   "cell_type": "markdown",
   "metadata": {},
   "source": [
    "<span style='color:white;font-weight:bold;background-color:black;width:12px;padding: 2px;font-size:20px'>2.</span> On considère la suite $\\left(u_n\\right)$ par $$v_{n+1}=5+\\sqrt{v_n},$$ pour tout $n\\in\\mathbb{n}$ et $v_0=16$.\n",
    "<br> Calculons les 10 premiers termes de cette suite : "
   ]
  },
  {
   "cell_type": "code",
   "execution_count": 3,
   "metadata": {},
   "outputs": [
    {
     "name": "stdout",
     "output_type": "stream",
     "text": [
      "9 | 16\n",
      "1 | 9.0\n",
      "2 | 8.0\n",
      "3 | 7.82842712474619\n",
      "4 | 7.797932651931813\n",
      "5 | 7.79247786955095\n",
      "6 | 7.791501006546648\n",
      "7 | 7.791326030141704\n",
      "8 | 7.7912946870837025\n",
      "9 | 7.791289072647923\n"
     ]
    }
   ],
   "source": [
    "v = 16\n",
    "print(n, '|', v)\n",
    "for n in range(1, 10):\n",
    "    v = 5 + sqrt(v)\n",
    "    print(n, '|', v)"
   ]
  },
  {
   "cell_type": "code",
   "execution_count": null,
   "metadata": {},
   "outputs": [],
   "source": []
  }
 ],
 "metadata": {
  "kernelspec": {
   "display_name": "Python 3",
   "language": "python",
   "name": "python3"
  },
  "language_info": {
   "codemirror_mode": {
    "name": "ipython",
    "version": 3
   },
   "file_extension": ".py",
   "mimetype": "text/x-python",
   "name": "python",
   "nbconvert_exporter": "python",
   "pygments_lexer": "ipython3",
   "version": "3.7.6"
  }
 },
 "nbformat": 4,
 "nbformat_minor": 2
}
