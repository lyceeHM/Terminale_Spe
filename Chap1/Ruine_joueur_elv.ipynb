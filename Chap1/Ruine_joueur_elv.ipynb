{
 "cells": [
  {
   "cell_type": "code",
   "execution_count": null,
   "metadata": {},
   "outputs": [],
   "source": [
    "import pylab as pl\n",
    "from random import *\n",
    "from math import *"
   ]
  },
  {
   "cell_type": "code",
   "execution_count": null,
   "metadata": {},
   "outputs": [],
   "source": [
    "T, s, parties, p = [], 0, 3000, 18 / 37\n",
    "for k in range(1, parties + 1):\n",
    "    N, n = 100, 20     \n",
    "    t = 0\n",
    "    while 0 < n < N:\n",
    "        t = t + 1\n",
    "        n = n + 2 * floor(random() + p) - 1\n",
    "        \n",
    "    s = s + t\n",
    "    T.append(s / k)\n",
    "\n",
    "pl.clf()\n",
    "pl.plot(range(1, parties + 1), T)\n",
    "pl.show()"
   ]
  },
  {
   "cell_type": "code",
   "execution_count": null,
   "metadata": {},
   "outputs": [],
   "source": [
    "def E(N, n, p):\n",
    "    r = (1 - p) / p\n",
    "    return 1 / (2 * p - 1) * (N * (1 - r ** n) / (1 - r ** N) - n)\n",
    "\n",
    "pl.axhline(y = E(N, 20, p), color = 'red')"
   ]
  }
 ],
 "metadata": {
  "kernelspec": {
   "display_name": "Python 3",
   "language": "python",
   "name": "python3"
  },
  "language_info": {
   "codemirror_mode": {
    "name": "ipython",
    "version": 3
   },
   "file_extension": ".py",
   "mimetype": "text/x-python",
   "name": "python",
   "nbconvert_exporter": "python",
   "pygments_lexer": "ipython3",
   "version": "3.8.6"
  }
 },
 "nbformat": 4,
 "nbformat_minor": 4
}
