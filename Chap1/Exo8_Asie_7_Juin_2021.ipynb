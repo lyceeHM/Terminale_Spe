{
 "cells": [
  {
   "cell_type": "markdown",
   "metadata": {},
   "source": [
    "<img src=\"http://maths.bro.free.fr/python_lycee.png\">\n",
    "<div id=\"titre\">\n",
    "<h1 style=\"color:white;\n",
    "  font-family:Comic Sans MS;\n",
    "  font-size:3em;\n",
    "  background-color:black;\n",
    "  text-align:center;\n",
    "  padding:5px\">Exo n°8 : Asie 7 Juin 2021</h1>\n",
    "<div style=\"font-family:Comic Sans MS; background-color:#888;box-shadow: 8px 8px 0px #aaa; text-align:center; width: 50%; color:white\">TSPE : Chapitre 1 - Récurrence</div>\n",
    "</div>"
   ]
  },
  {
   "cell_type": "markdown",
   "metadata": {},
   "source": [
    "<span style=\"font-size:2em;font-weight:bold\">3.</span>&nbsp;"
   ]
  },
  {
   "cell_type": "code",
   "execution_count": 1,
   "metadata": {},
   "outputs": [],
   "source": [
    "def suite(n):\n",
    "    u = 1000\n",
    "    for i in range(n):\n",
    "        u = 0.9 * u + 250\n",
    "    return u        "
   ]
  },
  {
   "cell_type": "markdown",
   "metadata": {},
   "source": [
    "<span style=\"font-size:1.5em;font-weight:bold\">a.</span>&nbsp;"
   ]
  },
  {
   "cell_type": "code",
   "execution_count": 2,
   "metadata": {},
   "outputs": [
    {
     "data": {
      "text/plain": [
       "1976.98233985"
      ]
     },
     "execution_count": 2,
     "metadata": {},
     "output_type": "execute_result"
    }
   ],
   "source": [
    "suite(10)"
   ]
  },
  {
   "cell_type": "markdown",
   "metadata": {},
   "source": [
    "<span style=\"font-size:1.5em;font-weight:bold\">b.</span>&nbsp;"
   ]
  },
  {
   "cell_type": "markdown",
   "metadata": {},
   "source": [
    "<blockquote style=\"border-left: 3px solid black\">  <code style=\"background-color:white\"> suite(10)</code> renvoie $u_{10}$.\n",
    "</blockquote>"
   ]
  },
  {
   "cell_type": "markdown",
   "metadata": {},
   "source": [
    "<span style=\"font-size:2em;font-weight:bold\">4.</span>&nbsp;"
   ]
  },
  {
   "cell_type": "markdown",
   "metadata": {},
   "source": [
    "<span style=\"font-size:1.5em;font-weight:bold\">a.</span>&nbsp;"
   ]
  },
  {
   "cell_type": "code",
   "execution_count": 3,
   "metadata": {},
   "outputs": [],
   "source": [
    "def termes(n):\n",
    "    u = 1000\n",
    "    L = [u]\n",
    "    for i in range(n):\n",
    "        u = 0.9 * u + 250\n",
    "        L.append(u)\n",
    "    return L"
   ]
  },
  {
   "cell_type": "markdown",
   "metadata": {},
   "source": [
    "<span style=\"font-size:1.5em;font-weight:bold\">b.</span>&nbsp;"
   ]
  },
  {
   "cell_type": "code",
   "execution_count": 4,
   "metadata": {},
   "outputs": [
    {
     "data": {
      "text/plain": [
       "[<matplotlib.lines.Line2D at 0x7fddab658670>]"
      ]
     },
     "execution_count": 4,
     "metadata": {},
     "output_type": "execute_result"
    },
    {
     "data": {
      "image/png": "[encoded data removed]",
      "text/plain": [
       "<Figure size 432x288 with 1 Axes>"
      ]
     },
     "metadata": {
      "needs_background": "light"
     },
     "output_type": "display_data"
    }
   ],
   "source": [
    "import pylab as pl\n",
    "\n",
    "pl.grid()\n",
    "pl.plot(termes(100), 'o-')\n",
    "#pl.savefig('exo_influenceuse.eps')"
   ]
  },
  {
   "cell_type": "markdown",
   "metadata": {},
   "source": [
    "<blockquote style=\"border-left: 3px solid black\">  On conjecture que $u_{n}$ tend vers $2500$ lorsque $n$ tend vers l'infini.\n",
    "</blockquote>"
   ]
  },
  {
   "cell_type": "markdown",
   "metadata": {},
   "source": [
    "<span style=\"font-size:2em;font-weight:bold\">7.</span>&nbsp;"
   ]
  },
  {
   "cell_type": "code",
   "execution_count": 5,
   "metadata": {},
   "outputs": [],
   "source": [
    "def seuil(m):\n",
    "    u = 1000\n",
    "    n = 0\n",
    "    while u < m:\n",
    "        u = 0.9 * u + 250\n",
    "        n = n + 1\n",
    "    return n"
   ]
  },
  {
   "cell_type": "markdown",
   "metadata": {},
   "source": [
    "<span style=\"font-size:2em;font-weight:bold\">8.</span>&nbsp;"
   ]
  },
  {
   "cell_type": "code",
   "execution_count": 6,
   "metadata": {},
   "outputs": [
    {
     "data": {
      "text/plain": [
       "26"
      ]
     },
     "execution_count": 6,
     "metadata": {},
     "output_type": "execute_result"
    }
   ],
   "source": [
    "seuil(2400)"
   ]
  },
  {
   "cell_type": "code",
   "execution_count": null,
   "metadata": {},
   "outputs": [],
   "source": []
  }
 ],
 "metadata": {
  "kernelspec": {
   "display_name": "Python 3",
   "language": "python",
   "name": "python3"
  },
  "language_info": {
   "codemirror_mode": {
    "name": "ipython",
    "version": 3
   },
   "file_extension": ".py",
   "mimetype": "text/x-python",
   "name": "python",
   "nbconvert_exporter": "python",
   "pygments_lexer": "ipython3",
   "version": "3.8.6"
  }
 },
 "nbformat": 4,
 "nbformat_minor": 4
}
