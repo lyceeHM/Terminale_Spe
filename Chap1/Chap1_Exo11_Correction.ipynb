{
 "cells": [
  {
   "cell_type": "markdown",
   "metadata": {},
   "source": [
    "<img src=\"http://maths.bro.free.fr/python_lycee.png\">\n",
    "<div id=\"titre\">\n",
    "<h1 style=\"color:white;\n",
    "  font-family:Comic Sans MS;\n",
    "  font-size:3em;\n",
    "  background-color:black;\n",
    "  text-align:center;\n",
    "  padding:5px\">Exo n°11</h1>\n",
    "<div style=\"font-family:Comic Sans MS; background-color:#888;box-shadow: 8px 8px 0px #aaa; text-align:center; width: 50%; color:white\">TSPE : Chapitre 1 - Récurrence</div>\n",
    "</div>"
   ]
  },
  {
   "cell_type": "code",
   "execution_count": 1,
   "metadata": {},
   "outputs": [
    {
     "name": "stdout",
     "output_type": "stream",
     "text": [
      "3.5\n",
      "3.625\n",
      "3.65625\n",
      "3.6640625\n",
      "3.666015625\n",
      "3.66650390625\n",
      "3.6666259765625\n",
      "3.666656494140625\n",
      "3.6666641235351562\n"
     ]
    }
   ],
   "source": [
    "u = 1\n",
    "v = 3\n",
    "for k in range(2, 11):\n",
    "    temp = 5 / 4 * v - 1 / 4 * u\n",
    "    u = v\n",
    "    v = temp\n",
    "    print(v)"
   ]
  },
  {
   "cell_type": "code",
   "execution_count": null,
   "metadata": {},
   "outputs": [],
   "source": []
  },
  {
   "cell_type": "code",
   "execution_count": null,
   "metadata": {},
   "outputs": [],
   "source": []
  }
 ],
 "metadata": {
  "kernelspec": {
   "display_name": "Python 3",
   "language": "python",
   "name": "python3"
  },
  "language_info": {
   "codemirror_mode": {
    "name": "ipython",
    "version": 3
   },
   "file_extension": ".py",
   "mimetype": "text/x-python",
   "name": "python",
   "nbconvert_exporter": "python",
   "pygments_lexer": "ipython3",
   "version": "3.8.6"
  }
 },
 "nbformat": 4,
 "nbformat_minor": 4
}
