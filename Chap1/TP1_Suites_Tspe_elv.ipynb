{
 "cells": [
  {
   "cell_type": "markdown",
   "metadata": {},
   "source": [
    "<div id=\"titre\">\n",
    "<h1 style=\"color:white;\n",
    "  font-family:Comic Sans MS;\n",
    "  font-size:3em;\n",
    "  background-color:#D0573B;\n",
    "  text-align:center;\n",
    "  padding:10px\">Récurrence</h1>\n",
    "<div style=\"font-family:Comic Sans MS; background-color:black;box-shadow: 8px 8px 0px #aaa; text-align:center; width: 50%; color:white\">TP 1  - Terminale</div>\n",
    "</div>"
   ]
  },
  {
   "cell_type": "markdown",
   "metadata": {},
   "source": [
    "<h1 style=\"font-family:Comic Sans MS;color:white;background-color:black;text-align:center\"> Exercice 1</h1>"
   ]
  },
  {
   "cell_type": "markdown",
   "metadata": {},
   "source": [
    "On définit la suite $\\left(u_n\\right)$ par $$\\left\\{ \\begin{array}{lcl}\n",
    "u_{0} & = & -1\\\\\n",
    "u_{n+1} & = & 0,2u_{n}+0,6\n",
    "\\end{array}\\right.$$"
   ]
  },
  {
   "cell_type": "markdown",
   "metadata": {},
   "source": [
    "<span style='color:white;font-weight:bold;background-color:black;width:12px;padding: 2px;font-size:20px'>1.</span> Compléter l'algorithme qui permet de calculer et afficher les 11 premiers termes de cette suite $u_0$, $u_1$, $\\ldots$, $u_{10}$"
   ]
  },
  {
   "cell_type": "code",
   "execution_count": null,
   "metadata": {},
   "outputs": [],
   "source": [
    "u = -1\n",
    "for k in range(1, ...):\n",
    "    u = .....\n",
    "    print(u)"
   ]
  },
  {
   "cell_type": "markdown",
   "metadata": {},
   "source": [
    "<span style='color:white;font-weight:bold;background-color:black;width:12px;padding: 2px;font-size:20px'>2.</span> <b>Représentation graphique de $\\left(u_n\\right)$</b>"
   ]
  },
  {
   "cell_type": "markdown",
   "metadata": {},
   "source": [
    "<span style='color:white;font-weight:bold;background-color:#F0573B;padding: 2px;font-size:20px'>a.</span> Compléter la fonction nommée <b>termes</b> de paramètre <b>n</b> <i>(un entier naturel non nul)</i> qui renvoie la liste des termes $u_0$, $u_1$, $\\ldots$, $u_{n}$."
   ]
  },
  {
   "cell_type": "code",
   "execution_count": null,
   "metadata": {},
   "outputs": [],
   "source": [
    "def termes(n):\n",
    "    u = -1\n",
    "    L = []\n",
    "    for k in range(1, ......):\n",
    "        u = ...............\n",
    "        L.append(u)\n",
    "    return L"
   ]
  },
  {
   "cell_type": "markdown",
   "metadata": {},
   "source": [
    "<b>Aide python : </b>\n",
    "<blockquote style=\"border-left: 2px solid black;background-color:lightblue\">\n",
    "Supposons que l'on dispose d'une liste <b>L</b> :\n",
    "    \n",
    "```python\n",
    "   L = [1, 3, 4]\n",
    "   L.append(2) # est l'instruction qui permet d'ajouter l'élément 2 à la liste L\n",
    "```\n",
    "</blockquote>"
   ]
  },
  {
   "cell_type": "markdown",
   "metadata": {},
   "source": [
    "<span style='color:white;font-weight:bold;background-color:#F0573B;padding: 2px;font-size:20px'>b.</span> Exécuter cette fonction pour obtenir la liste des 11 premiers termes"
   ]
  },
  {
   "cell_type": "code",
   "execution_count": null,
   "metadata": {},
   "outputs": [],
   "source": []
  },
  {
   "cell_type": "markdown",
   "metadata": {},
   "source": [
    "<span style='color:white;font-weight:bold;background-color:#F0573B;padding: 2px;font-size:20px'>c.</span> Pour preprésenter en ordonnée les valeurs d'une liste, exécuter les instructions suivantes "
   ]
  },
  {
   "cell_type": "code",
   "execution_count": null,
   "metadata": {},
   "outputs": [],
   "source": [
    "import pylab as pl"
   ]
  },
  {
   "cell_type": "code",
   "execution_count": null,
   "metadata": {},
   "outputs": [],
   "source": [
    "pl.plot(termes(20), 'o-')"
   ]
  },
  {
   "cell_type": "markdown",
   "metadata": {},
   "source": [
    "<b>Rappel python : </b>\n",
    "<blockquote style=\"border-left: 2px solid black;background-color:lightblue\">\n",
    "<ul>\n",
    "    <li>Pour représenter une liste <b>L</b> :\n",
    "        <br> Par défault :\n",
    "\n",
    "```python\n",
    "    pl.plot(L)\n",
    "            \n",
    "```\n",
    "Ou avec seulement des points :\n",
    "```python\n",
    "    pl.plot(L, 'o')\n",
    "            \n",
    "```\n",
    "Ou avec des points reliés par des segments :\n",
    "```python\n",
    "    pl.plot(L, 'o-')\n",
    "            \n",
    "```\n",
    "   </li>\n",
    "   <li>Pour représenter une liste <b>Y</b> en fonction d'une liste <b>X</b> :\n",
    "        <br> Par défault :\n",
    "\n",
    "```python\n",
    "    pl.plot(X, Y)\n",
    "            \n",
    "```\n",
    "Ou avec seulement des points :\n",
    "```python\n",
    "    pl.plot(X, Y, 'o')\n",
    "            \n",
    "```\n",
    "Ou avec des points reliés par des segments :\n",
    "```python\n",
    "    pl.plot(X, Y, 'o-')\n",
    "            \n",
    "```\n",
    "   </li>\n",
    "</ul>\n",
    "</blockquote>"
   ]
  },
  {
   "cell_type": "markdown",
   "metadata": {},
   "source": [
    "<span style='color:white;font-weight:bold;background-color:black;width:12px;padding: 2px;font-size:20px'>3.</span> <b>A quoi correspond $0,75$ ?</b>"
   ]
  },
  {
   "cell_type": "markdown",
   "metadata": {},
   "source": [
    "On remarque que : $$u_{n+1}=f\\left(u_n\\right),$$\n",
    "avec $$f(x)=0,2x+0,6.$$"
   ]
  },
  {
   "cell_type": "markdown",
   "metadata": {},
   "source": [
    "Résoudre l'équation $$f(x)=x.$$\n",
    "<span style='background-color:#A0A031;width:12px;padding: 2px'>Une solution de cette équation est appelé <b>point fixe</b> de $f$.</span>"
   ]
  },
  {
   "cell_type": "markdown",
   "metadata": {},
   "source": [
    "<span style='color:white;font-weight:bold;background-color:black;width:12px;padding: 2px;font-size:20px'>4.</span> <b>Ecart entre $u_n$ et $0,75$</b>"
   ]
  },
  {
   "cell_type": "markdown",
   "metadata": {},
   "source": [
    "<span style='color:white;font-weight:bold;background-color:#F0573B;padding: 2px;font-size:20px'>a.</span> Compléter l'algorithme ci-dessous qui permet de calculer et afficher la plus petite valeur de $n$ telle que : $$\\left|u_n-0,75\\right|\\leqslant 10^{-5}$$"
   ]
  },
  {
   "cell_type": "code",
   "execution_count": null,
   "metadata": {},
   "outputs": [],
   "source": [
    "u = -1\n",
    "n = 0\n",
    "while abs(........) ..... .........:\n",
    "    u = ..............\n",
    "    n = ..............\n",
    "n"
   ]
  },
  {
   "cell_type": "markdown",
   "metadata": {},
   "source": [
    "<b>Rappel python : </b>\n",
    "<blockquote style=\"border-left: 2px solid black;background-color:lightblue\">\n",
    "    \n",
    "```python\n",
    "   abs(x) # calcule la valeur absolue de x\n",
    "```\n",
    "</blockquote>"
   ]
  },
  {
   "cell_type": "markdown",
   "metadata": {},
   "source": [
    "<span style='color:white;font-weight:bold;background-color:#F0573B;padding: 2px;font-size:20px'>b.</span> Démontrer que la $\\left(e_n\\right)$ définie par $e_n=u_n-0,75$ est géométrique, dont on précisera sa raison et son premier terme."
   ]
  },
  {
   "cell_type": "markdown",
   "metadata": {},
   "source": [
    "<span style='color:white;font-weight:bold;background-color:#F0573B;padding: 2px;font-size:20px'>c.</span> Donner l'expression de $u_n$ en fonction de $n$."
   ]
  },
  {
   "cell_type": "markdown",
   "metadata": {},
   "source": [
    "<b><u>A retenir :</u></b>\n",
    "<blockquote style=\"border-left: 10px solid black;background-color:#A0A031\">\n",
    "La suite $\\left(u_n\\right)$ par $$\\boxed{\\left\\{ \\begin{array}{lcl}\n",
    "u_{n+1} & = & au_{n}+b\\\\\n",
    "u_{0} & = & \\text{un réel donné}\n",
    "\\end{array}\\right.\\text{, où }a\\text{ et }b\\text{ sont 2 réels indépendants de }n\\text{ et }a\\neq0\\ }$$\n",
    "    est appelée <b>suite arithmético-géométrique</b>.\n",
    "<br>\n",
    "    <br>Si $\\ell$ est un point fixe de $\\left(u_n\\right)$ alors on démontre que la suite $\\left(e_n\\right)$ définie par $$e_n=u_n-\\ell$$ est <b>géométrique</b> de raison $a$.\n",
    "</blockquote>"
   ]
  },
  {
   "cell_type": "markdown",
   "metadata": {},
   "source": [
    "<h1 style=\"font-family:Comic Sans MS;color:white;background-color:black;text-align:center\"> Exercice 2</h1>"
   ]
  },
  {
   "cell_type": "markdown",
   "metadata": {},
   "source": [
    "On définit la suite $\\left(u_n\\right)$ par $$\\left\\{ \\begin{array}{lcl}\n",
    "u_{0} & = & a\\\\\n",
    "u_{n+1} & = & \\dfrac{2}{5}u_{n}+3\n",
    "\\end{array}\\right.$$\n",
    "avec $a$ un nombre réel donné."
   ]
  },
  {
   "cell_type": "markdown",
   "metadata": {},
   "source": [
    "<span style='color:white;font-weight:bold;background-color:black;width:12px;padding: 2px;font-size:20px'>1.</span> <b>Conjectures</b>"
   ]
  },
  {
   "cell_type": "markdown",
   "metadata": {},
   "source": [
    "<span style='color:white;font-weight:bold;background-color:#F0573B;padding: 2px;font-size:20px'>a.</span> Compléter la fonction nommée <b>suite</b> de paramètres <b>n</b> <i>(un entier naturel non nul)</i> et <b>a</b> <i>(le nombre $a$)</i>.\n",
    "<br> Elle calcule et affiche $u_1$, $u_2$, $\\ldots$, $u_n$."
   ]
  },
  {
   "cell_type": "code",
   "execution_count": null,
   "metadata": {},
   "outputs": [],
   "source": [
    "def suite(n, a):\n",
    "    u = a\n",
    "    for k in range(...., .......):\n",
    "        u = ..................\n",
    "        print(u)"
   ]
  },
  {
   "cell_type": "markdown",
   "metadata": {},
   "source": [
    "<span style='color:white;font-weight:bold;background-color:#F0573B;padding: 2px;font-size:20px'>b.</span> Exécuter cette fonction pour obtenir les 10 premiers termes de $\\left(u_n\\right)$ après $u_0$."
   ]
  },
  {
   "cell_type": "code",
   "execution_count": null,
   "metadata": {},
   "outputs": [],
   "source": []
  },
  {
   "cell_type": "markdown",
   "metadata": {},
   "source": [
    "<span style='color:white;font-weight:bold;background-color:#F0573B;padding: 2px;font-size:20px'>c.</span> La fonction <b>interact</b> du module <b>ipywidgets</b> permet d'évaluer une fonction en modifiant son ou ses paramètre(s) à l'aide de curseurs.\n",
    "<br> Exécuter les deux cellules suivantes."
   ]
  },
  {
   "cell_type": "code",
   "execution_count": null,
   "metadata": {},
   "outputs": [],
   "source": [
    "from ipywidgets import interact "
   ]
  },
  {
   "cell_type": "code",
   "execution_count": null,
   "metadata": {},
   "outputs": [],
   "source": [
    "interact(suite , n = (1, 20), a = (-4,10, 0.5))"
   ]
  },
  {
   "cell_type": "markdown",
   "metadata": {},
   "source": [
    "<b>Conjectures :</b>\n",
    "<ul>\n",
    "    <li>Discuter selon la valeur de $a$ le sens de variation de $\\left(u_n\\right)$.</li>\n",
    "    <li>De quelle valeur semble approcher $u_n$ lorsque $n$ augmente ?</li>\n",
    "</ul>"
   ]
  },
  {
   "cell_type": "markdown",
   "metadata": {},
   "source": [
    "<span style='color:white;font-weight:bold;background-color:black;width:12px;padding: 2px;font-size:20px'>2.</span> <b>Preuve conjecture 1 : </b>"
   ]
  },
  {
   "cell_type": "markdown",
   "metadata": {},
   "source": [
    "Démontrer par récurrence votre conjecture 1."
   ]
  },
  {
   "cell_type": "markdown",
   "metadata": {},
   "source": [
    "<span style='color:white;font-weight:bold;background-color:black;width:12px;padding: 2px;font-size:20px'>3.</span> <b>Une \"justification\" de la conjecture 2 : </b>"
   ]
  },
  {
   "cell_type": "markdown",
   "metadata": {},
   "source": [
    "<span style='color:white;font-weight:bold;background-color:#F0573B;padding: 2px;font-size:20px'>a.</span> Démontrer par récurrence (ou directement) que pour tout $n\\in\\mathbb{N}$ : $$u_{n}=5+\\left(\\dfrac{2}{5}\\right)^{n}\\left(a-5\\right).$$"
   ]
  },
  {
   "cell_type": "markdown",
   "metadata": {},
   "source": [
    "<span style='color:white;font-weight:bold;background-color:#F0573B;padding: 2px;font-size:20px'>b.</span> Donner le sens de variation de la suite de terme général $\\left(\\dfrac{2}{5}\\right)^{n}$.\n",
    "<br> Conclure."
   ]
  },
  {
   "cell_type": "markdown",
   "metadata": {},
   "source": [
    "<h1 style=\"font-family:Comic Sans MS;color:white;background-color:black;text-align:center\"> Exercice 3</h1>"
   ]
  },
  {
   "cell_type": "markdown",
   "metadata": {},
   "source": [
    "<ul>\n",
    "    <li>Un singe inépuisable tape $6n$ fois de suite sur un clavier comportant les 26 lettres de l'alphabet <i>(avec $n$ est un entier naturel non nul)</i>.</li>\n",
    "    <li>On note $p_n$ la probabilité de saisir au moins une fois le mot \"<span style='color:darkgreen;font-size:18px'>banane</span>\" après la saisie aléatoire de $6n$ lettres.</li>\n",
    "</ul>\n",
    "\n",
    "<span style='color:white;font-weight:bold;background-color:black;width:12px;padding: 2px;font-size:20px'>1.</span> <b>Calcul de $p_n$</b>\n",
    "<br>\n",
    "<br>\n",
    "<span style='color:white;font-weight:bold;background-color:#F0573B;padding: 2px;font-size:20px'>a.</span> Quelle est la probabilité $p$ de saisir le mot \"<span style='color:darkgreen;font-size:18px'>banane</span>\" après la saisie aléatoire de 6 lettres ? \n",
    "<br>\n",
    "<br>\n",
    "<span style='color:white;font-weight:bold;background-color:#F0573B;padding: 2px;font-size:20px'>b.</span> Justifier que la probabilité de saisir le mot \"<span style='color:darkgreen;font-size:18px'>banane</span>\" après la saisie aléatoire de 6 lettres est $$p=1-\\left(\\dfrac{1}{26}\\right)^6$$\n",
    "<br>\n",
    "<span style='color:white;font-weight:bold;background-color:#F0573B;padding: 2px;font-size:20px'>c.</span> Quelle est la probabilité de ne pas saisir le mot \"<span style='color:darkgreen;font-size:18px'>banane</span>\" après la saisie aléatoire de $6n$ lettres ?\n",
    "<br>\n",
    "<br>\n",
    "<span style='color:white;font-weight:bold;background-color:#F0573B;padding: 2px;font-size:20px'>d.</span> Justifier que la probabilité de saisir au moins une fois le mot \"<span style='color:darkgreen;font-size:18px'>banane</span>\" après la saisie aléatoire de $6n$ lettres est $$p=1-p^n.$$"
   ]
  },
  {
   "cell_type": "markdown",
   "metadata": {},
   "source": [
    "<span style='color:white;font-weight:bold;background-color:black;width:12px;padding: 2px;font-size:20px'>2.</span> Combien de série de $n$ paquets de $6$ lettres doit être taper aléatoirement par le singe pour observer au moins une fois le mot \"<span style='color:darkgreen;font-size:18px'>banane</span>\" avec une probabilité supérieure ou égale à $0,5$ ?"
   ]
  },
  {
   "cell_type": "code",
   "execution_count": null,
   "metadata": {},
   "outputs": [],
   "source": [
    "n = 0\n",
    "p = 1 - (1/26)**6\n",
    "u = 1\n",
    "\n",
    "\n",
    "\n"
   ]
  },
  {
   "cell_type": "markdown",
   "metadata": {},
   "source": [
    "<h1 style=\"font-family:Comic Sans MS;color:white;background-color:black;text-align:center\"> Exercice 4</h1>"
   ]
  },
  {
   "cell_type": "markdown",
   "metadata": {},
   "source": [
    "<b><u>Comment calculer une somme ? </u></b>\n",
    "<blockquote style=\"border-left: 10px solid black;background-color:#A0A031\">\n",
    "On définit la somme ${\\displaystyle S_{n}=\\sum_{k=1}^{n}k}$.\n",
    "<ul>\n",
    "    <li>Pour passer de $S_n$ à $S_{n+1}$, on ajoute $n+1$\n",
    "        <br>Ainsi, la relation de récurrence de $\\left(S_n\\right)$ est : $$S_{n+1}=S_n+{n+1},$$\n",
    "        avec $S_1=1$\n",
    "    </li>\n",
    "    <li>Voici la fonction nommée <b>somme</b> de paramètre <b>n</b> <i>(l'entier naturel non nul $n$)</i> qui permet de calculer $S_n$ : \n",
    "   \n",
    "```python\n",
    "    def somme(n):\n",
    "        S = 0\n",
    "        for k in range(1, n+1):\n",
    "            S = S + k\n",
    "        return S\n",
    "```\n",
    "</li>\n",
    "</ul>\n",
    "</blockquote>"
   ]
  },
  {
   "cell_type": "markdown",
   "metadata": {},
   "source": [
    "<span style='color:white;font-weight:bold;background-color:black;width:12px;padding: 2px;font-size:20px'>1.</span> On définit la somme $S_n$ par $${\\displaystyle S_{n}=\\sum_{k=1}^{n}q^k}$$ "
   ]
  },
  {
   "cell_type": "markdown",
   "metadata": {},
   "source": [
    "<span style='color:white;font-weight:bold;background-color:#F0573B;padding: 2px;font-size:20px'>a.</span>  Ecrire la fonction nommée <b>somme_geometrique</b> de paramètres :\n",
    "<ul>\n",
    "    <li>$n$ <i>(un entier naturel non nul)</i></li>\n",
    "    <li>$q$ <i>(un nombre réel différent)</i></li>\n",
    "</ul>\n",
    "Elle renvoie la liste des termes $S_0$, $S_1$, $\\ldots$, $S_n$."
   ]
  },
  {
   "cell_type": "code",
   "execution_count": null,
   "metadata": {},
   "outputs": [],
   "source": [
    "def somme_geometrique(q, n):\n",
    "    \n",
    "    \n",
    "    \n",
    "    \n",
    "    \n",
    "    "
   ]
  },
  {
   "cell_type": "markdown",
   "metadata": {},
   "source": [
    "Tester votre somme pour $q=0,5$ et $n=10$."
   ]
  },
  {
   "cell_type": "code",
   "execution_count": null,
   "metadata": {},
   "outputs": [],
   "source": []
  },
  {
   "cell_type": "markdown",
   "metadata": {},
   "source": [
    "<span style='color:white;font-weight:bold;background-color:#F0573B;padding: 2px;font-size:20px'>b.</span> Commenter le rôle de la fonction <b>graph</b>."
   ]
  },
  {
   "cell_type": "code",
   "execution_count": null,
   "metadata": {},
   "outputs": [],
   "source": [
    "import pylab as pl"
   ]
  },
  {
   "cell_type": "code",
   "execution_count": null,
   "metadata": {},
   "outputs": [],
   "source": [
    "def graph(q, n):\n",
    "    pl.grid()\n",
    "    pl.plot(range(n+1), somme_geometrique(q, n), 'o-')"
   ]
  },
  {
   "cell_type": "code",
   "execution_count": null,
   "metadata": {},
   "outputs": [],
   "source": [
    "graph(0.5, 20)"
   ]
  },
  {
   "cell_type": "markdown",
   "metadata": {},
   "source": [
    "<span style='color:white;font-weight:bold;background-color:#F0573B;padding: 2px;font-size:20px'>b.</span> Exécuter le code suivant.\n",
    "<br> En bougeant les curseurs, discuter selon les valeurs de $q$ les cas où $S_n$ est bornée ou non."
   ]
  },
  {
   "cell_type": "code",
   "execution_count": null,
   "metadata": {},
   "outputs": [],
   "source": [
    "from ipywidgets import interact\n",
    "\n",
    "interact(graph, q = (-2, 2, 0.1), n = (0, 40))"
   ]
  },
  {
   "cell_type": "markdown",
   "metadata": {},
   "source": [
    "<span style='color:white;font-weight:bold;background-color:black;width:12px;padding: 2px;font-size:20px'>2.</span> <b>Calcul explicite de $S_n$</b>\n",
    "<br>\n",
    "<br>\n",
    "<span style='color:white;font-weight:bold;background-color:#F0573B;padding: 2px;font-size:20px'>a.</span> Donner la relation de récurrence de $\\left(S_n\\right)$.\n",
    "<br>\n",
    "<br>\n",
    "<span style='color:white;font-weight:bold;background-color:#F0573B;padding: 2px;font-size:20px'>b.</span> Démontrer par récurrence (ou directement) que $$S_n = \\dfrac{1-q^{n+1}}{1-q}$$\n",
    "<span style='color:white;font-weight:bold;background-color:#F0573B;padding: 2px;font-size:20px'>c.</span> Conclure alors votre conjecture."
   ]
  },
  {
   "cell_type": "markdown",
   "metadata": {},
   "source": [
    "<h1 style=\"font-family:Comic Sans MS;color:white;background-color:black;text-align:center\"> Exercice 5</h1>"
   ]
  },
  {
   "cell_type": "markdown",
   "metadata": {},
   "source": [
    "On définit les suites $\\left(a_n\\right)$ et $\\left(b_n\\right)$ par :\n",
    "<ul>\n",
    "    <li>$a_{n+1}=0,8a_n-0,6b_n+2$ et $a_0=0$</li>\n",
    "    <li>$b_{n+1}=0,8a_n+0,6b_n-2$ et $b_0=11$</li>\n",
    "</ul>"
   ]
  },
  {
   "cell_type": "markdown",
   "metadata": {},
   "source": [
    "<span style='color:white;font-weight:bold;background-color:black;width:12px;padding: 2px;font-size:20px'>1.</span> <b>Calculs des premiers termes</b>"
   ]
  },
  {
   "cell_type": "markdown",
   "metadata": {},
   "source": [
    "<span style='color:white;font-weight:bold;background-color:#F0573B;padding: 2px;font-size:20px'>a.</span>  Calculer $a_1$ et $b_1$."
   ]
  },
  {
   "cell_type": "markdown",
   "metadata": {},
   "source": [
    "<span style='color:white;font-weight:bold;background-color:#F0573B;padding: 2px;font-size:20px'>b.</span> L'algorithme ci-dessous est censé de : \n",
    "<ul>\n",
    "    <li> calculer  et stocker dans une liste <b>A</b> les termes $a_1$, $a_2$, $\\ldots$, $a_{40}$</li>\n",
    "    <li> calculer  et stocker dans une liste <b>B</b> les termes $b_1$, $b_2$, $\\ldots$, $b_{40}$</li>\n",
    "</ul>\n",
    "Est-il exact ? Le modifier sinon."
   ]
  },
  {
   "cell_type": "code",
   "execution_count": null,
   "metadata": {},
   "outputs": [],
   "source": [
    "a = 0\n",
    "b = 11\n",
    "A = []\n",
    "B = []\n",
    "for k in range(1, 41):\n",
    "    a = 0.8 * a - 0.6 * b + 2\n",
    "    b = 0.6 * a + 0.8 * b - 2\n",
    "    A.append(a)\n",
    "    B.append(b)\n",
    "print(A)\n",
    "print(B)"
   ]
  },
  {
   "cell_type": "markdown",
   "metadata": {},
   "source": [
    "<span style='color:white;font-weight:bold;background-color:black;width:12px;padding: 2px;font-size:20px'>2.</span> <b>Conjecture</b>"
   ]
  },
  {
   "cell_type": "markdown",
   "metadata": {},
   "source": [
    "<span style='color:white;font-weight:bold;background-color:#F0573B;padding: 2px;font-size:20px'>a.</span> Représenter graphiquement le nuage de points $M_n\\left(a_n\\,,\\,b_n\\right)$ pour $n$ allant de $1$ jusque $40$."
   ]
  },
  {
   "cell_type": "code",
   "execution_count": null,
   "metadata": {},
   "outputs": [],
   "source": [
    "pl.plot(...., ...., 'o')\n",
    "pl.axis('equal')\n",
    "pl.grid()"
   ]
  },
  {
   "cell_type": "markdown",
   "metadata": {},
   "source": [
    "<b>Question : </b> Comment semble se répartir l'ensemble des points ?"
   ]
  },
  {
   "cell_type": "markdown",
   "metadata": {},
   "source": [
    "<span style='color:white;font-weight:bold;background-color:#F0573B;padding: 2px;font-size:20px'>b.</span> Pour affiner la réponse précédente, on exécute utilise le module <b>sympy</b> de la façon suivante :"
   ]
  },
  {
   "cell_type": "code",
   "execution_count": null,
   "metadata": {},
   "outputs": [],
   "source": [
    "from sympy import *\n",
    "\n",
    "x, y = symbols('x y')"
   ]
  },
  {
   "cell_type": "code",
   "execution_count": null,
   "metadata": {},
   "outputs": [],
   "source": [
    "def dist(x, y, a, b):\n",
    "    return (x - a)**2 + (y - b)**2"
   ]
  },
  {
   "cell_type": "code",
   "execution_count": null,
   "metadata": {},
   "outputs": [],
   "source": [
    "eq1 = Eq(dist(x, y, A[0], B[0]), dist(x, y, A[1], B[1]))\n",
    "eq1"
   ]
  },
  {
   "cell_type": "code",
   "execution_count": null,
   "metadata": {},
   "outputs": [],
   "source": [
    "eq2 = Eq(dist(x, y, A[0], B[0]), dist(x, y, A[2], B[2]))\n",
    "eq2"
   ]
  },
  {
   "cell_type": "code",
   "execution_count": null,
   "metadata": {},
   "outputs": [],
   "source": [
    "solve([eq1, eq2])"
   ]
  },
  {
   "cell_type": "markdown",
   "metadata": {},
   "source": [
    "<b>Question : </b> Préciser la nature de l'ensemble qui contient l'ensemble de tous les points $M_n\\left(a_n\\,,\\,b_n\\right)$."
   ]
  },
  {
   "cell_type": "markdown",
   "metadata": {},
   "source": [
    "<span style='color:white;font-weight:bold;background-color:black;width:12px;padding: 2px;font-size:20px'>2.</span> <b>Preuve conjecture</b>"
   ]
  },
  {
   "cell_type": "markdown",
   "metadata": {},
   "source": [
    "<span style='color:white;font-weight:bold;background-color:#F0573B;padding: 2px;font-size:20px'>a.</span> On note $\\Omega$ le point de coordonnées $\\left(4\\,,\\,2\\right)$.\n",
    "<br> Calculer la distanve $\\Omega M_0$."
   ]
  },
  {
   "cell_type": "markdown",
   "metadata": {},
   "source": [
    "<span style='color:white;font-weight:bold;background-color:#F0573B;padding: 2px;font-size:20px'>b.</span> Démontrer par récurrence que pour tout $n\\in\\mathbb{N}$, on a : $$\\left(a_{n}-4\\right)^{2}+\\left(b_{n}-2\\right)^{2}=97$$"
   ]
  },
  {
   "cell_type": "markdown",
   "metadata": {},
   "source": [
    "<span style='color:white;font-weight:bold;background-color:#F0573B;padding: 2px;font-size:20px'>c.</span> Conclure."
   ]
  },
  {
   "cell_type": "code",
   "execution_count": null,
   "metadata": {},
   "outputs": [],
   "source": []
  }
 ],
 "metadata": {
  "kernelspec": {
   "display_name": "Python 3",
   "language": "python",
   "name": "python3"
  },
  "language_info": {
   "codemirror_mode": {
    "name": "ipython",
    "version": 3
   },
   "file_extension": ".py",
   "mimetype": "text/x-python",
   "name": "python",
   "nbconvert_exporter": "python",
   "pygments_lexer": "ipython3",
   "version": "3.7.6"
  }
 },
 "nbformat": 4,
 "nbformat_minor": 2
}
