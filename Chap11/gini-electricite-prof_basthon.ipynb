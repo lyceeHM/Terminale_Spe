{
 "cells": [
  {
   "cell_type": "markdown",
   "metadata": {},
   "source": [
    "<img src=\"https://raw.githubusercontent.com/lyceeHM/Terminale_Spe/master/python_lycee.png\">\n",
    "<div id=\"titre\">\n",
    "<h1 style=\"color:white;\n",
    "  font-family:Comic Sans MS;\n",
    "  font-size:3em;\n",
    "  background-color:black;\n",
    "  text-align:center;\n",
    "  padding:5px\">Inégalités de la consommation d'électricité mondiale</h1>\n",
    "<div style=\"font-family:Comic Sans MS; background-color:#888;box-shadow: 8px 8px 0px #aaa; text-align:center; width: 50%; color:white\">TSPE : Chapitres 11</div>\n",
    "</div>"
   ]
  },
  {
   "cell_type": "markdown",
   "metadata": {},
   "source": [
    "<h1 style=\"font-family:Comic Sans MS;color:white;background-color:#B9B9B9;text-align:center\"> <span style=\"font-size:2em;font-weight:bold;padding-right: 60px;color:black;\"> A.</span> Indice de Gini à travers un exemple</h1>"
   ]
  },
  {
   "cell_type": "markdown",
   "metadata": {},
   "source": [
    "<div style='background-color:#DDD;padding:10px;border-left: 1rem solid'>\n",
    "Des billes sont réparties parmi un groupe d'enfants comme suit :\n",
    "<table style=\"border-width:2px;border-style:solid;border-color:black;border-collapse:collapse;\">\n",
    "   <tr style=\"border:2px solid black;\">\n",
    "       <td style=\"border:2px solid black;text-align:center;width:50px\"><b>Enfants</b></td>\n",
    "       <td style=\"border:2px solid black;text-align:center;\"><b>Billes</b></td>\n",
    "       <td style=\"border:2px solid black;text-align:center;\"><b>Billes/enfant</b></td>\n",
    "   </tr>\n",
    "    <tr>\n",
    "       <td style=\"border:2px solid black;text-align:center;\">5</td>\n",
    "        <td style=\"border:2px solid black;text-align:center;\">20</td>\n",
    "        <td style=\"border:2px solid black;text-align:center;\"></td>\n",
    "   </tr>\n",
    "    <tr>\n",
    "       <td style=\"border:2px solid black;text-align:center;\">15</td>\n",
    "        <td style=\"border:2px solid black;text-align:center;\">15</td>\n",
    "        <td style=\"border:2px solid black;text-align:center;\"></td>\n",
    "   </tr>\n",
    "    <tr>\n",
    "       <td style=\"border:2px solid black;text-align:center;\">20</td>\n",
    "        <td style=\"border:2px solid black;text-align:center;\">50</td>\n",
    "        <td style=\"border:2px solid black;text-align:center;\"></td>\n",
    "   </tr>\n",
    "    <tr>\n",
    "       <td style=\"border:2px solid black;text-align:center;\">10</td>\n",
    "        <td style=\"border:2px solid black;text-align:center;\">15</td>\n",
    "        <td style=\"border:2px solid black;text-align:center;\"></td>\n",
    "   </tr>\n",
    "</table>\n",
    "Objectifs :\n",
    "    <ul>\n",
    "        <li><b>Déterminer si la répartition des billes est-elle égalitaire.</b></li>\n",
    "         <li><b>Mesurer le défaut d'égalité de répartition des billes auprès des enfants.</b></li>\n",
    "    </ul>\n",
    "</div>"
   ]
  },
  {
   "cell_type": "markdown",
   "metadata": {},
   "source": [
    "<span style=\"font-size:2em;font-weight:bold;padding-right: 30px;\"> 1.</span> Compléter le tableau ci-dessous après avoir trier par ordre <b>croissant</b> selon la colonne <b>Billes/enfant</b>. \n",
    "<table style=\"border-width:2px;border-style:solid;border-color:black;border-collapse:collapse;\">\n",
    "   <tr style=\"border:2px solid black;\">\n",
    "       <td style=\"border:2px solid black;text-align:center;width:50px\"><b>Enfants</b></td>\n",
    "       <td style=\"border:2px solid black;text-align:center;\"><b>Billes</b></td>\n",
    "       <td style=\"border:2px solid black;text-align:center;\"><b>Billes/enfant</b></td>\n",
    "   </tr>\n",
    "    <tr>\n",
    "       <td style=\"border:2px solid black;text-align:center;\">0</td>\n",
    "        <td style=\"border:2px solid black;text-align:center;\">0</td>\n",
    "        <td style=\"border:2px solid black;text-align:center;background-color:black\"></td>\n",
    "   </tr>\n",
    "    <tr>\n",
    "       <td style=\"border:2px solid black;text-align:center;color:red\">$15$</td>\n",
    "        <td style=\"border:2px solid black;text-align:center;color:red\">$15$</td>\n",
    "        <td style=\"border:2px solid black;text-align:center;color:red\">$1$</td>\n",
    "   </tr>\n",
    "    <tr>\n",
    "       <td style=\"border:2px solid black;text-align:center;color:red\">$10$</td>\n",
    "        <td style=\"border:2px solid black;text-align:center;color:red\">$15$</td>\n",
    "        <td style=\"border:2px solid black;text-align:center;color:red\">$1,5$</td>\n",
    "   </tr>\n",
    "    <tr>\n",
    "       <td style=\"border:2px solid black;text-align:center;color:red\">$20$</td>\n",
    "        <td style=\"border:2px solid black;text-align:center;color:red\">$50$</td>\n",
    "        <td style=\"border:2px solid black;text-align:center;color:red\">$2,5$</td>\n",
    "   </tr>\n",
    "    <tr>\n",
    "       <td style=\"border:2px solid black;text-align:center;color:red\">$5$</td>\n",
    "        <td style=\"border:2px solid black;text-align:center;color:red\">$20$</td>\n",
    "        <td style=\"border:2px solid black;text-align:center;color:red\">$4$</td>\n",
    "   </tr>\n",
    "</table>"
   ]
  },
  {
   "cell_type": "markdown",
   "metadata": {},
   "source": [
    "<span style=\"font-size:2em;font-weight:bold;padding-right: 30px;\"> 2.</span> Au tableau précédent, ajouter : \n",
    "<ul>\n",
    "    <li> la colonne <b>PCE</b> qui contient les Parts Cumulées croissantes des enfants</li>\n",
    "    <li> la colonne <b>PCB</b> qui contient les Parts Cumulées croissantes des Billes</li>\n",
    "</ul>\n",
    "<table style=\"border-width:2px;border-style:solid;border-color:black;border-collapse:collapse;\">\n",
    "   <tr style=\"border:2px solid black;\">\n",
    "       <td style=\"border:2px solid black;text-align:center;width:50px\"><b>Enfants</b></td>\n",
    "       <td style=\"border:2px solid black;text-align:center;width:50px\"><b>Billes</b></td>\n",
    "       <td style=\"border:2px solid black;text-align:center;width:50px\"><b>Billes/enfant</b></td>\n",
    "       <td style=\"border:2px solid black;text-align:center;width:60px\"><b>PCE</b></td>\n",
    "       <td style=\"border:2px solid black;text-align:center;width:60px\"><b>PCB</b></td>\n",
    "   </tr>\n",
    "    <tr>\n",
    "       <td style=\"border:2px solid black;text-align:center;\">0</td>\n",
    "        <td style=\"border:2px solid black;text-align:center;\">0</td>\n",
    "        <td style=\"border:2px solid black;text-align:center;background-color:black\"></td>\n",
    "        <td style=\"border:2px solid black;text-align:center;\">0</td>\n",
    "        <td style=\"border:2px solid black;text-align:center;\">0</td>\n",
    "   </tr>\n",
    "     <tr>\n",
    "       <td style=\"border:2px solid black;text-align:center;color:red\">$15$</td>\n",
    "        <td style=\"border:2px solid black;text-align:center;color:red\">$15$</td>\n",
    "        <td style=\"border:2px solid black;text-align:center;color:red\">$1$</td>\n",
    "         <td style=\"border:2px solid black;text-align:center;color:red\">$30\\,\\%$</td>\n",
    "         <td style=\"border:2px solid black;text-align:center;color:red\">$15\\,\\%$</td>\n",
    "   </tr>\n",
    "    <tr>\n",
    "       <td style=\"border:2px solid black;text-align:center;color:red\">$10$</td>\n",
    "        <td style=\"border:2px solid black;text-align:center;color:red\">$15$</td>\n",
    "        <td style=\"border:2px solid black;text-align:center;color:red\">$1,5$</td>\n",
    "        <td style=\"border:2px solid black;text-align:center;color:red\">$50\\,\\%$</td>\n",
    "         <td style=\"border:2px solid black;text-align:center;color:red\">$30\\,\\%$</td>\n",
    "   </tr>\n",
    "    <tr>\n",
    "       <td style=\"border:2px solid black;text-align:center;color:red\">$20$</td>\n",
    "        <td style=\"border:2px solid black;text-align:center;color:red\">$50$</td>\n",
    "        <td style=\"border:2px solid black;text-align:center;color:red\">$2,5$</td>\n",
    "        <td style=\"border:2px solid black;text-align:center;color:red\">$90\\,\\%$</td>\n",
    "         <td style=\"border:2px solid black;text-align:center;color:red\">$80\\,\\%$</td>\n",
    "   </tr>\n",
    "    <tr>\n",
    "       <td style=\"border:2px solid black;text-align:center;color:red\">$5$</td>\n",
    "        <td style=\"border:2px solid black;text-align:center;color:red\">$20$</td>\n",
    "        <td style=\"border:2px solid black;text-align:center;color:red\">$4$</td>\n",
    "        <td style=\"border:2px solid black;text-align:center;color:red\">$100\\,\\%$</td>\n",
    "         <td style=\"border:2px solid black;text-align:center;color:red\">$100\\,\\%$</td>\n",
    "   </tr>\n",
    "</table>"
   ]
  },
  {
   "cell_type": "markdown",
   "metadata": {},
   "source": [
    "<span style=\"font-size:2em;font-weight:bold;padding-right: 30px;\"> 3.</span> La répartition des billes est-elle égalitaire ? "
   ]
  },
  {
   "cell_type": "markdown",
   "metadata": {},
   "source": [
    "<div style='background-color:#DAF7A6;padding:10px;border-left: 4px solid;margin-left: 60px;'>\n",
    "    Si la répartition était égalitaire, alors dans chaque groupe le nombre moyen de billes par enfants serait le même.<br>\n",
    "            <br> Donc la répartition <b>n'est pas égalitaire</b>.\n",
    "    \n",
    "   <br><br>\n",
    "    <b><u> Autre façon : </u></b><br> Si la répartition des billes avait été égalitaire, alors $50\\,\\%$ des enfants les moins dotés en billes auraient $50\\,\\%$ des billes. Ce qui n'est pas le cas.\n",
    "    <br><br> Donc la répartition <b>n'est pas égalitaire</b>.\n",
    "</div>"
   ]
  },
  {
   "cell_type": "markdown",
   "metadata": {},
   "source": [
    "<span style=\"font-size:2em;font-weight:bold;padding-right: 30px;\"> 4.</span> <b>Représentation du défaut d'égalité de répartition des billes</b>"
   ]
  },
  {
   "cell_type": "markdown",
   "metadata": {},
   "source": [
    "<span style=\"font-size:2em;font-weight:bold;padding-right: 30px;\"> a.</span> Stocker dans \n",
    "<blockquote style=\"border-left: 3px solid black;background-color:white;margin-left: 60px;\">\n",
    "<ul>\n",
    "    <li> <code style=\"background-color:white;font-size:1.1em\">X</code> la liste des parts cumulées croissantes des enfants</li>\n",
    "    <li> <code style=\"background-color:white;font-size:1.1em\">Y</code> la liste des parts cumulées croissantes des billes</li>\n",
    "    </ul>\n",
    "</blockquote>"
   ]
  },
  {
   "cell_type": "code",
   "execution_count": null,
   "metadata": {},
   "outputs": [],
   "source": [
    "X = [0, 0.3, 0.5, 0.9, 1]\n",
    "Y = [0, 0.15, 0.3, 0.8, 1]"
   ]
  },
  {
   "cell_type": "markdown",
   "metadata": {},
   "source": [
    "<span style=\"font-size:2em;font-weight:bold;padding-right: 30px;\"> b.</span> Exécuter le code suivant :"
   ]
  },
  {
   "cell_type": "code",
   "execution_count": null,
   "metadata": {},
   "outputs": [],
   "source": [
    "import pandas as pa\n",
    "import pylab as pl\n",
    "\n",
    "pl.figure(figsize = (6, 6))\n",
    "pl.plot(X, Y, 'o-', \n",
    "        markerfacecolor = 'white', \n",
    "        color = 'darkgreen', markersize = 8, linewidth = 3)\n",
    "pl.plot([0, 1], [0, 1], color = 'red', linewidth = 3)\n",
    "pl.grid()"
   ]
  },
  {
   "cell_type": "markdown",
   "metadata": {},
   "source": [
    "<span style=\"font-size:2em;font-weight:bold;padding-right: 30px;\"> c.</span> La courbe verte, appelée <span style=\"color:green\"><b>courbe de Lorenz</b></span>, représente une fonction $f$ affine par morceaux sur $\\left[0\\,;\\,1\\right]$. \n",
    "<p align=\"center\"><br><img src=\"https://raw.githubusercontent.com/lyceeHM/Terminale_Spe/master/Chap11/Gini_billes_1.png\" width=\"60%\"></p>\n",
    "Compléter.\n",
    "<blockquote style=\"border-left: 3px solid black;background-color:white;margin-left: 60px;\">\n",
    "<ul>\n",
    "    <li> A partir du point $A_2$, 50 % des enfants les moins équipés possèdent  <span style=\"color:red\">$30\\,\\%$</span> des billes.</li>\n",
    "    <li> A partir du point $A_3$, <span style=\"color:red\">$10\\,\\%$</span> des enfants les mieux équipés possèdent  20 % des billes.</li>\n",
    "    <li> Dans le cas d'une répartition égalitaire des billes, le point de la courbe de Lorenz d'abscisse $0,25$ aurait comme ordonnée <span style=\"color:red\">$0,25$</span>.</li>\n",
    "    </ul>\n",
    "</blockquote>\n",
    "<div style='background-color:#DDD;padding:10px;border-left: 0.5rem solid;margin-left: 60px'>\n",
    "    La <b>courbe de Lorenz</b> a été développée par Max O. Lorenz.<br> Elle représente la fonction qui, à la part x des détenteurs d'une grandeur, associe la part y de la grandeur détenue. \n",
    "</div>\n",
    "<br><br><span style=\"font-size:2em;font-weight:bold;padding-right: 30px;\"> d.</span> Dans le cas d’une répartition  égalitaire des billes, comment serait la courbe de Lorenz ?"
   ]
  },
  {
   "cell_type": "markdown",
   "metadata": {},
   "source": [
    "<div style='background-color:#DAF7A6;padding:10px;border-left: 4px solid;margin-left: 60px;'>\n",
    "   La courbe de Lorenz serait la droite d'équation $y=x$.\n",
    "</div>"
   ]
  },
  {
   "cell_type": "markdown",
   "metadata": {},
   "source": [
    "<span style=\"font-size:2em;font-weight:bold;padding-right: 30px;\"> 5.</span> <b>Propriétés de $\\mathscr{C}_f$</b>"
   ]
  },
  {
   "cell_type": "markdown",
   "metadata": {},
   "source": [
    "<table style=\"border-width:2px;border-style:solid;border-color:black;border-collapse:collapse;\">\n",
    "   <tr style=\"border:2px solid black;\">\n",
    "       <td style=\"border:2px solid black;text-align:center;width:50px\"><b>Enfants</b></td>\n",
    "       <td style=\"border:2px solid black;text-align:center;width:50px\"><b>Billes</b></td>\n",
    "       <td style=\"border:2px solid black;text-align:center;width:50px\"><b>Billes/enfant</b></td>\n",
    "       <td style=\"border:2px solid black;text-align:center;width:60px\"><b>PCE</b></td>\n",
    "       <td style=\"border:2px solid black;text-align:center;width:60px\"><b>PCB</b></td>\n",
    "   </tr>\n",
    "    <tr>\n",
    "       <td style=\"border:2px solid black;text-align:center;\">0</td>\n",
    "        <td style=\"border:2px solid black;text-align:center;\">0</td>\n",
    "        <td style=\"border:2px solid black;text-align:center;background-color:black\"></td>\n",
    "        <td style=\"border:2px solid black;text-align:center;\">0</td>\n",
    "        <td style=\"border:2px solid black;text-align:center;\">0</td>\n",
    "   </tr>\n",
    "     <tr>\n",
    "       <td style=\"border:2px solid black;text-align:center;color:red\">$15$</td>\n",
    "        <td style=\"border:2px solid black;text-align:center;color:red\">$15$</td>\n",
    "        <td style=\"border:2px solid black;text-align:center;color:red\">$1$</td>\n",
    "         <td style=\"border:2px solid black;text-align:center;color:red\">$30\\,\\%$</td>\n",
    "         <td style=\"border:2px solid black;text-align:center;color:red\">$15\\,\\%$</td>\n",
    "   </tr>\n",
    "    <tr>\n",
    "       <td style=\"border:2px solid black;text-align:center;color:red\">$10$</td>\n",
    "        <td style=\"border:2px solid black;text-align:center;color:red\">$15$</td>\n",
    "        <td style=\"border:2px solid black;text-align:center;color:red\">$1,5$</td>\n",
    "        <td style=\"border:2px solid black;text-align:center;color:red\">$50\\,\\%$</td>\n",
    "         <td style=\"border:2px solid black;text-align:center;color:red\">$30\\,\\%$</td>\n",
    "   </tr>\n",
    "    <tr>\n",
    "       <td style=\"border:2px solid black;text-align:center;color:red\">$20$</td>\n",
    "        <td style=\"border:2px solid black;text-align:center;color:red\">$50$</td>\n",
    "        <td style=\"border:2px solid black;text-align:center;color:red\">$2,5$</td>\n",
    "        <td style=\"border:2px solid black;text-align:center;color:red\">$90\\,\\%$</td>\n",
    "         <td style=\"border:2px solid black;text-align:center;color:red\">$80\\,\\%$</td>\n",
    "   </tr>\n",
    "    <tr>\n",
    "       <td style=\"border:2px solid black;text-align:center;color:red\">$5$</td>\n",
    "        <td style=\"border:2px solid black;text-align:center;color:red\">$20$</td>\n",
    "        <td style=\"border:2px solid black;text-align:center;color:red\">$4$</td>\n",
    "        <td style=\"border:2px solid black;text-align:center;color:red\">$100\\,\\%$</td>\n",
    "         <td style=\"border:2px solid black;text-align:center;color:red\">$100\\,\\%$</td>\n",
    "   </tr>\n",
    "</table>"
   ]
  },
  {
   "cell_type": "markdown",
   "metadata": {},
   "source": [
    "<span style=\"font-size:2em;font-weight:bold;padding-right: 30px;\"> a.</span> Quel est le coefficient directeur du segment de droite $\\left[A_0\\,;\\,A_1\\right]$ ?\n",
    "<br>\n",
    "<div style='background-color:#DAF7A6;padding:10px;border-left: 4px solid;margin-left: 60px;'>\n",
    "    $a_{0,1}=\\dfrac{0,15}{0,3}=0,5$\n",
    "</div>\n",
    "<br><span style=\"font-size:2em;font-weight:bold;padding-right: 30px;color:white\"> a.</span> Quel est le coefficient directeur du segment de droite $\\left[A_1\\,;\\,A_2\\right]$ ?\n",
    "<div style='background-color:#DAF7A6;padding:10px;border-left: 4px solid;margin-left: 60px;'>\n",
    "    $a_{1,2}=\\dfrac{0,15}{0,2}=0,75$\n",
    "</div>\n",
    "<br>\n",
    "<span style=\"font-size:2em;font-weight:bold;padding-right: 30px;color:white\"> a.</span> Compléter :\n",
    "<blockquote style=\"border-left: 3px solid black;background-color:white;margin-left: 60px;\">\n",
    "<span style=\"font-size:2em\">&laquo;</span> La pente du segment de droite $\\left[A_i\\,;\\,A_{i+1}\\right]$ est la <span style=\"color:red\"><b>moitié</b></span> du nombre moyen de billes par enfant<span style=\"font-size:2em\">&raquo;</span>\n",
    "\n",
    "</blockquote>"
   ]
  },
  {
   "cell_type": "markdown",
   "metadata": {},
   "source": [
    "<span style=\"font-size:2em;font-weight:bold;padding-right: 30px;\"> b.</span> Déterminer la convexité de $f$."
   ]
  },
  {
   "cell_type": "markdown",
   "metadata": {},
   "source": [
    "<div style='background-color:#DAF7A6;padding:10px;border-left: 4px solid;margin-left: 60px;'>\n",
    "    Par construction, la suite des pentes est croissante donc la fonction est convexe.\n",
    "</div>"
   ]
  },
  {
   "cell_type": "markdown",
   "metadata": {},
   "source": [
    "<span style=\"font-size:2em;font-weight:bold;padding-right: 30px;\"> c.</span> En déduire la position de la courbe de Lorenz par rapport au segment de droite $y=x$. "
   ]
  },
  {
   "cell_type": "markdown",
   "metadata": {},
   "source": [
    "<div style='background-color:#DAF7A6;padding:10px;border-left: 4px solid;margin-left: 60px;'>\n",
    "    La courbe est située entièrement en-dessous du segment de droite d'équation $y=x$.\n",
    "</div>"
   ]
  },
  {
   "cell_type": "markdown",
   "metadata": {},
   "source": [
    "<span style=\"font-size:2em;font-weight:bold;padding-right: 30px;\"> 6.</span> <b>Mesure du défaut de répartition des billes auprès des enfants</b>"
   ]
  },
  {
   "cell_type": "markdown",
   "metadata": {},
   "source": [
    "<div style='background-color:#DDD;padding:10px;border-left: 1rem solid'>\n",
    "    L'indice de <b>Gini</b> est par définition égal à $2\\times \\text{Aire hachurée}$ représentée ci-dessous :\n",
    "<p align=\"center\"><br><img src=\"https://raw.githubusercontent.com/lyceeHM/Terminale_Spe/master/Chap11/Gini_billes_2.png\" width=\"60%\"></p>\n",
    "    <br><b>Corrado Gini</b> <em>(23 mai 1884 - 13 mars 1965)</em>, statisticien italien, créa cet indice pour mesurer de l'inégalité de revenu dans une société donnée. \n",
    "<br>\n",
    "Cet indicateur est utilisé maintenant pour étudier des variables salaires, de niveau de vie, etc. au sein d'une population donnée.\n",
    "<br>\n",
    "<em><strong><a href=\"http://maths.bro.free.fr/Livre/gini_revenus.html\" style=\"color:red\" target=\"_blank\">Exemple revenus en France en 2017</a></strong></em>\n",
    "</div>"
   ]
  },
  {
   "cell_type": "markdown",
   "metadata": {},
   "source": [
    "<span style=\"font-size:2em;font-weight:bold;padding-right: 30px;\"> a.</span> Dans quelle situation cet indice serait-il nul ? "
   ]
  },
  {
   "cell_type": "markdown",
   "metadata": {},
   "source": [
    "<div style='background-color:#DAF7A6;padding:10px;border-left: 4px solid;margin-left: 60px;'>\n",
    "    C'est le cas de l'équirépartition.\n",
    "</div>"
   ]
  },
  {
   "cell_type": "markdown",
   "metadata": {},
   "source": [
    "<span style=\"font-size:2em;font-weight:bold;padding-right: 30px;\"> b.</span> Compléter : <span style=\"font-size:2em\">&laquo;</span> plus la répartition est inégalitaire, plus cet indice approche <span style=\"color:red\">$1$</span>. <span style=\"font-size:2em\">&raquo;</span>"
   ]
  },
  {
   "cell_type": "markdown",
   "metadata": {},
   "source": [
    "<span style=\"font-size:2em;font-weight:bold;padding-right: 30px;\"> c.</span> Considérons un trapèze de petite base <b>b</b>, de grande base <b>B</b> et de hauteur <b>h</b>.\n",
    "<br><span style=\"font-size:2em;font-weight:bold;padding-right: 30px;color:white\"> c.</span> Ecrire la fonction nommée <b>trapeze</b> de paramètres <code style=\"background-color:white;font-size:1.1em\">b</code>, <code style=\"background-color:white;font-size:1.1em\">B</code> et <code style=\"background-color:white;font-size:1.1em\">h</code> <em>(les dimensions d'un trapèze)</em> qui renvoie son aire."
   ]
  },
  {
   "cell_type": "code",
   "execution_count": null,
   "metadata": {},
   "outputs": [],
   "source": [
    "def trapeze(b, B, h):\n",
    "    return (b + B) / 2 * h"
   ]
  },
  {
   "cell_type": "markdown",
   "metadata": {},
   "source": [
    "<span style=\"font-size:2em;font-weight:bold;padding-right: 30px;\"> d.</span> Utiliser <b>trapeze</b> pour calculer :\n",
    "<blockquote style=\"border-left: 3px solid black;background-color:white;margin-left: 60px;\">\n",
    "<ul>\n",
    "    <li> l'aire du triangle bleu.</li>\n",
    "    <li> l'aire du trapèze orange </li>\n",
    "</ul>\n",
    "</blockquote>"
   ]
  },
  {
   "cell_type": "code",
   "execution_count": null,
   "metadata": {},
   "outputs": [],
   "source": [
    "trapeze(Y[0], Y[1], X[1] - X[0])"
   ]
  },
  {
   "cell_type": "code",
   "execution_count": null,
   "metadata": {},
   "outputs": [],
   "source": [
    "trapeze(Y[1], Y[2], X[2] - X[1])"
   ]
  },
  {
   "cell_type": "markdown",
   "metadata": {},
   "source": [
    "<span style=\"font-size:2em;font-weight:bold;padding-right: 30px;\"> e.</span> Compléter la fonction nommée <b>trapezes</b> de paramètres <code style=\"background-color:white;font-size:1.1em\">X</code> et <code style=\"background-color:white;font-size:1.1em\">Y</code> <em>(respectivement la liste des abscisses puis celles des ordonnées d'une courbe de Lorenz)</em> qui renvoie l'aire totale des trapèzes associés à la courbe de Lorenz :"
   ]
  },
  {
   "cell_type": "code",
   "execution_count": null,
   "metadata": {},
   "outputs": [],
   "source": [
    "def trapezes(X, Y):\n",
    "    T = 0\n",
    "    for k in range(len(X) - 1):\n",
    "        T = T + trapeze(Y[k], Y[k + 1], X[k + 1] - X[k])\n",
    "    return T"
   ]
  },
  {
   "cell_type": "markdown",
   "metadata": {},
   "source": [
    "<span style=\"font-size:2em;font-weight:bold;padding-right: 30px;\"> f.</span> Créer la fonction nommée <b>gini</b> de paramètres les listes <code style=\"background-color:white;font-size:1.1em\">X</code> et <code style=\"background-color:white;font-size:1.1em\">Y</code> et renvoie son indice de Gini. "
   ]
  },
  {
   "cell_type": "code",
   "execution_count": null,
   "metadata": {},
   "outputs": [],
   "source": [
    "def gini(X, Y):\n",
    "    return 1 - 2 * trapezes(X, Y)"
   ]
  },
  {
   "cell_type": "markdown",
   "metadata": {},
   "source": [
    "<span style=\"font-size:2em;font-weight:bold;padding-right: 30px;color:white\"> a.</span> Ici l'indice de Gini vaut :"
   ]
  },
  {
   "cell_type": "code",
   "execution_count": null,
   "metadata": {},
   "outputs": [],
   "source": [
    "gini(X, Y)"
   ]
  },
  {
   "cell_type": "markdown",
   "metadata": {},
   "source": [
    "<h1 style=\"font-family:Comic Sans MS;color:white;background-color:#B9B9B9;text-align:center\"> <span style=\"font-size:2em;font-weight:bold;padding-right: 60px;color:black;\"> B.</span> Consommation de l'électricité dans le monde</h1>"
   ]
  },
  {
   "cell_type": "markdown",
   "metadata": {},
   "source": [
    "<div style='background-color:#DDD;padding:10px;border-left: 1rem solid'>\n",
    "    L'accès à l'électricité dans le monde n'est pas chose aisée.\n",
    "    <p align=\"center\"><br><img src=\"https://encrypted-tbn0.gstatic.com/images?q=tbn:ANd9GcSpaJjqvvf3LTnuKBuINmtrrJybRS031MdHIQ&usqp=CAU\"\n",
    "        width=\"40%\"></p>\n",
    "    <br> Le fichier <code style=\"background-color:#DDD;font-size:1.1em\">'electricite.csv'</code> provenant de <em><strong><a href=\"http://wdi.worldbank.org/table/3.7\" style=\"color:red\" target=\"_blank\">(lien)</a></strong></em> recense tout particulièrement, pour chacun pays en 2015 : \n",
    "    <ul>\n",
    "        <li>son nom, la quantité annuelle d'électricité consommée <em>(en billions de kilowatt/heure)</em> </li>\n",
    "        <li>la distribution des origines : <span style=\"color:darkgreen\"><b>charbon</b></span>, <span style=\"color:darkgreen\"><b>gaz</b></span>, <span style=\"color:darkgreen\"><b>pétrole</b></span>, <span style=\"color:darkgreen\"><b>hydraulique</b></span>, <span style=\"color:darkgreen\"><b>renouvelable</b></span>, <span style=\"color:darkgreen\"><b>nucléaire</b></span></li>\n",
    "        <li>le pourcentage d'accès à l'électricité et la population concernée</li>\n",
    "    </ul>\n",
    "</div>"
   ]
  },
  {
   "cell_type": "markdown",
   "metadata": {},
   "source": [
    "<span style=\"font-size:2em;font-weight:bold;padding-right: 30px;\"> 1.</span> Exécuter le code suivant pour créer la table <code style=\"background-color:white;font-size:1.1em\">T</code> associée au jeu de données."
   ]
  },
  {
   "cell_type": "code",
   "execution_count": null,
   "metadata": {},
   "outputs": [],
   "source": [
    "import requests\n",
    "from io import StringIO\n",
    "\n",
    "url = requests.get(\"https://raw.githubusercontent.com/lyceeHM/Terminale_Spe/master/Chap11/electricite.csv\")"
   ]
  },
  {
   "cell_type": "code",
   "execution_count": null,
   "metadata": {},
   "outputs": [],
   "source": [
    "import pandas as pa\n",
    "\n",
    "T = pa.read_csv(StringIO(url.decode()))\n",
    "\n",
    "T"
   ]
  },
  {
   "cell_type": "markdown",
   "metadata": {},
   "source": [
    "<span style=\"font-size:2em;font-weight:bold;padding-right: 30px;\"> 2.</span> <b>Inégalités de consommation d'électricité</b>"
   ]
  },
  {
   "cell_type": "markdown",
   "metadata": {},
   "source": [
    "<span style=\"font-size:2em;font-weight:bold;padding-right: 30px;\"> a.</span> Compléter le code suivant pour ajouter à la table <code style=\"background-color:white;font-size:1.1em\">T</code> la colonne nommée <b>hab</b> contenant le nombre d'habitants ayant accès à l'électricité pour chaque pays renseigné."
   ]
  },
  {
   "cell_type": "code",
   "execution_count": null,
   "metadata": {},
   "outputs": [],
   "source": [
    "T['hab'] = T['%pop'] / 100 * T['pop']\n",
    "T.head()"
   ]
  },
  {
   "cell_type": "markdown",
   "metadata": {},
   "source": [
    "<span style=\"font-size:2em;font-weight:bold;padding-right: 30px;\"> b.</span> Ajouter à la table <code style=\"background-color:white;font-size:1.1em\">T</code> la colonne <b>qua/hab</b> qui contient pour chaque pays la quantité annuelle d'électricité consommée par habitant."
   ]
  },
  {
   "cell_type": "code",
   "execution_count": null,
   "metadata": {},
   "outputs": [],
   "source": [
    "T['qua/hab'] = T['quantité'] / T['hab']\n",
    "T.head()"
   ]
  },
  {
   "cell_type": "markdown",
   "metadata": {},
   "source": [
    "<span style=\"font-size:2em;font-weight:bold;padding-right: 30px;\"> c.</span> Exécuter le code suivant pour trier la table <code style=\"background-color:white;font-size:1.1em\">T</code> par ordre croissant selon la colonne <b>qua/hab</b>."
   ]
  },
  {
   "cell_type": "code",
   "execution_count": null,
   "metadata": {},
   "outputs": [],
   "source": [
    "T.sort_values('qua/hab', inplace = True)\n",
    "T"
   ]
  },
  {
   "cell_type": "markdown",
   "metadata": {},
   "source": [
    "<span style=\"font-size:2em;font-weight:bold;padding-right: 30px;\"> d.</span> Exécuter le code suivant et interpréter le résultat obtenu."
   ]
  },
  {
   "cell_type": "code",
   "execution_count": null,
   "metadata": {},
   "outputs": [],
   "source": [
    "T['quantité'].cumsum()"
   ]
  },
  {
   "cell_type": "markdown",
   "metadata": {},
   "source": [
    "<span style=\"font-size:2em;font-weight:bold;padding-right: 30px;\"> e.</span> L'instruction <code style=\"background-color:white;font-size:1.1em\">T['quantité'].sum()</code> calcule la somme des éléments de la colonne <b>quantité</b>.\n",
    "<blockquote style=\"border-left: 3px solid black;background-color:white;margin-left: 60px;\">\n",
    " Compléter l'instruction qui permet de créer la liste nommée <code style=\"background-color:white;font-size:1.1em\">Y</code> contenant les parts cumulées <em>(croissantes)</em> de la quantité d'électricité consommée par pays.\n",
    "</blockquote>"
   ]
  },
  {
   "cell_type": "code",
   "execution_count": null,
   "metadata": {},
   "outputs": [],
   "source": [
    "Y = [0] + list(T['quantité'].cumsum() / T['quantité'].sum())"
   ]
  },
  {
   "cell_type": "markdown",
   "metadata": {},
   "source": [
    "<span style=\"font-size:2em;font-weight:bold;padding-right: 30px;\"> f.</span> Créer la liste nommée <code style=\"background-color:white;font-size:1.1em\">X</code> contenant les parts cumulées <em>(croissantes)</em> de la population concernée par pays."
   ]
  },
  {
   "cell_type": "code",
   "execution_count": null,
   "metadata": {},
   "outputs": [],
   "source": [
    "X = [0] + list(T['hab'].cumsum() / T['hab'].sum())"
   ]
  },
  {
   "cell_type": "markdown",
   "metadata": {},
   "source": [
    "<span style=\"font-size:2em;font-weight:bold;padding-right: 30px;\"> g.</span> Exécuter le code suivant pour représenter la courbe de Lorenz associée aux listes <code style=\"background-color:white;font-size:1.1em\">X</code> et <code style=\"background-color:white;font-size:1.1em\">Y</code>."
   ]
  },
  {
   "cell_type": "code",
   "execution_count": null,
   "metadata": {},
   "outputs": [],
   "source": [
    "pl.figure(figsize = (6, 6))\n",
    "pl.plot(X, Y, 'o-', \n",
    "        markerfacecolor = 'white', \n",
    "        color = 'darkgreen', markersize = 6, linewidth = 3)\n",
    "pl.plot([0, 1], [0, 1], color = 'red', linewidth = 3)\n",
    "pl.grid()"
   ]
  },
  {
   "cell_type": "markdown",
   "metadata": {},
   "source": [
    "Compléter.\n",
    "<blockquote style=\"border-left: 3px solid black;background-color:white;margin-left: 60px;\">\n",
    "<ul>\n",
    "    <li> 20 % des plus gros consommateurs utilise <span style=\"color:red\">$50\\,\\%$</span> de l'électricité mondiale.</li>\n",
    "    <li> 50 % des moins gros consommateurs utilise <span style=\"color:red\">$20\\,\\%$</span> de l'électricité mondiale.</li>\n",
    "    </ul>\n",
    "</blockquote>"
   ]
  },
  {
   "cell_type": "markdown",
   "metadata": {},
   "source": [
    "<span style=\"font-size:2em;font-weight:bold;padding-right: 30px;\"> h.</span> Calculer l'indice de Gini de la quantité d'électricité consommée dans le monde en 2015."
   ]
  },
  {
   "cell_type": "code",
   "execution_count": null,
   "metadata": {},
   "outputs": [],
   "source": [
    "gini(X, Y)"
   ]
  },
  {
   "cell_type": "markdown",
   "metadata": {},
   "source": [
    "<span style=\"font-size:2em;font-weight:bold;padding-right: 30px;\"> 3.</span> <b>Inégalités de consommation d'électricité selon son origine</b>"
   ]
  },
  {
   "cell_type": "markdown",
   "metadata": {},
   "source": [
    "<div style='background-color:#DDD;padding:10px;border-left: 1rem solid'>\n",
    "    On représente ci-dessous, la courbe de Lorenz liée à la consommation d'électricité mondiale, selon son type. \n",
    "<p align=\"center\"><br><img src=\"https://raw.githubusercontent.com/lyceeHM/Terminale_Spe/master/Chap11/Consommation_mondiale_electricite.png\" width=\"60%\"></p>\n",
    "</div>"
   ]
  },
  {
   "cell_type": "markdown",
   "metadata": {},
   "source": [
    "<span style=\"font-size:2em;font-weight:bold;padding-right: 30px;\"> a.</span> Quelle est l'énergie la plus égalitairement utilisée dans le monde ?"
   ]
  },
  {
   "cell_type": "markdown",
   "metadata": {},
   "source": [
    "<div style='background-color:#DAF7A6;padding:10px;border-left: 4px solid;margin-left: 60px;'>\n",
    "    Le charbon\n",
    "</div>"
   ]
  },
  {
   "cell_type": "markdown",
   "metadata": {},
   "source": [
    "<span style=\"font-size:2em;font-weight:bold;padding-right: 30px;\"> b.</span> Quelle est l'énergie la plus inégalitairement utilisée dans le monde ?"
   ]
  },
  {
   "cell_type": "markdown",
   "metadata": {},
   "source": [
    "<div style='background-color:#DAF7A6;padding:10px;border-left: 4px solid;margin-left: 60px;'>\n",
    "    Le nucléaire\n",
    "</div>"
   ]
  },
  {
   "cell_type": "markdown",
   "metadata": {},
   "source": [
    "<span style=\"font-size:2em;font-weight:bold;padding-right: 30px;\"> Bonus.</span> Où se situe la France ?"
   ]
  },
  {
   "cell_type": "code",
   "execution_count": null,
   "metadata": {},
   "outputs": [],
   "source": [
    "T.query('pays == \"France\"')"
   ]
  },
  {
   "cell_type": "code",
   "execution_count": null,
   "metadata": {},
   "outputs": [],
   "source": [
    "T.tail()"
   ]
  },
  {
   "cell_type": "markdown",
   "metadata": {},
   "source": [
    "<span style=\"font-size:2em;font-weight:bold;padding-right: 30px;\"> c.</span> Calculer l'indice de Gini du nucléaire, <b>arrondi au millième</b>."
   ]
  },
  {
   "cell_type": "code",
   "execution_count": null,
   "metadata": {},
   "outputs": [],
   "source": [
    "T['q'] = T['nucléaire'] / 100 * T['quantité']\n",
    "T['q/hab'] = T['q'] / T['hab']\n",
    "T.sort_values('q/hab', inplace = True)\n",
    "Y = [0] + list(T['q'].cumsum() / T['q'].sum())\n",
    "gini(X, Y)"
   ]
  },
  {
   "cell_type": "code",
   "execution_count": null,
   "metadata": {},
   "outputs": [],
   "source": []
  }
 ],
 "metadata": {
  "kernelspec": {
   "display_name": "Python 3",
   "language": "python",
   "name": "python3"
  },
  "language_info": {
   "codemirror_mode": {
    "name": "ipython",
    "version": 3
   },
   "file_extension": ".py",
   "mimetype": "text/x-python",
   "name": "python",
   "nbconvert_exporter": "python",
   "pygments_lexer": "ipython3",
   "version": "3.8.6"
  }
 },
 "nbformat": 4,
 "nbformat_minor": 4
}
