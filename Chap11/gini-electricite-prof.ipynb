{
 "cells": [
  {
   "cell_type": "markdown",
   "metadata": {},
   "source": [
    "<img src=\"https://raw.githubusercontent.com/lyceeHM/Terminale_Spe/master/python_lycee.png\">\n",
    "<div id=\"titre\">\n",
    "<h1 style=\"color:white;\n",
    "  font-family:Comic Sans MS;\n",
    "  font-size:3em;\n",
    "  background-color:black;\n",
    "  text-align:center;\n",
    "  padding:5px\">Inégalités de la consommation d'électricité mondiale</h1>\n",
    "<div style=\"font-family:Comic Sans MS; background-color:#888;box-shadow: 8px 8px 0px #aaa; text-align:center; width: 50%; color:white\">TSPE : Chapitres 11</div>\n",
    "</div>"
   ]
  },
  {
   "cell_type": "markdown",
   "metadata": {},
   "source": [
    "<h1 style=\"font-family:Comic Sans MS;color:white;background-color:#B9B9B9;text-align:center\"> <span style=\"font-size:2em;font-weight:bold;padding-right: 60px;color:black;\"> A.</span> Indice de Gini à travers un exemple</h1>"
   ]
  },
  {
   "cell_type": "markdown",
   "metadata": {},
   "source": [
    "<div style='background-color:#DDD;padding:10px;border-left: 1rem solid'>\n",
    "Des billes sont réparties parmi un groupe d'enfants comme suit :\n",
    "<table style=\"border-width:2px;border-style:solid;border-color:black;border-collapse:collapse;\">\n",
    "   <tr style=\"border:2px solid black;\">\n",
    "       <td style=\"border:2px solid black;text-align:center;width:50px\"><b>Enfants</b></td>\n",
    "       <td style=\"border:2px solid black;text-align:center;\"><b>Billes</b></td>\n",
    "       <td style=\"border:2px solid black;text-align:center;\"><b>Billes/enfant</b></td>\n",
    "   </tr>\n",
    "    <tr>\n",
    "       <td style=\"border:2px solid black;text-align:center;\">5</td>\n",
    "        <td style=\"border:2px solid black;text-align:center;\">20</td>\n",
    "        <td style=\"border:2px solid black;text-align:center;\"></td>\n",
    "   </tr>\n",
    "    <tr>\n",
    "       <td style=\"border:2px solid black;text-align:center;\">15</td>\n",
    "        <td style=\"border:2px solid black;text-align:center;\">15</td>\n",
    "        <td style=\"border:2px solid black;text-align:center;\"></td>\n",
    "   </tr>\n",
    "    <tr>\n",
    "       <td style=\"border:2px solid black;text-align:center;\">20</td>\n",
    "        <td style=\"border:2px solid black;text-align:center;\">50</td>\n",
    "        <td style=\"border:2px solid black;text-align:center;\"></td>\n",
    "   </tr>\n",
    "    <tr>\n",
    "       <td style=\"border:2px solid black;text-align:center;\">10</td>\n",
    "        <td style=\"border:2px solid black;text-align:center;\">15</td>\n",
    "        <td style=\"border:2px solid black;text-align:center;\"></td>\n",
    "   </tr>\n",
    "</table>\n",
    "Objectifs :\n",
    "    <ul>\n",
    "        <li><b>Déterminer si la répartition des billes est-elle égalitaire.</b></li>\n",
    "         <li><b>Mesurer le défaut d'égalité de répartition des billes auprès des enfants.</b></li>\n",
    "    </ul>\n",
    "</div>"
   ]
  },
  {
   "cell_type": "markdown",
   "metadata": {},
   "source": [
    "<span style=\"font-size:2em;font-weight:bold;padding-right: 30px;\"> 1.</span> Compléter le tableau ci-dessous après avoir trier par ordre <b>croissant</b> selon la colonne <b>Billes/enfant</b>. \n",
    "<table style=\"border-width:2px;border-style:solid;border-color:black;border-collapse:collapse;\">\n",
    "   <tr style=\"border:2px solid black;\">\n",
    "       <td style=\"border:2px solid black;text-align:center;width:50px\"><b>Enfants</b></td>\n",
    "       <td style=\"border:2px solid black;text-align:center;\"><b>Billes</b></td>\n",
    "       <td style=\"border:2px solid black;text-align:center;\"><b>Billes/enfant</b></td>\n",
    "   </tr>\n",
    "    <tr>\n",
    "       <td style=\"border:2px solid black;text-align:center;\">0</td>\n",
    "        <td style=\"border:2px solid black;text-align:center;\">0</td>\n",
    "        <td style=\"border:2px solid black;text-align:center;background-color:black\"></td>\n",
    "   </tr>\n",
    "    <tr>\n",
    "       <td style=\"border:2px solid black;text-align:center;color:red\">$15$</td>\n",
    "        <td style=\"border:2px solid black;text-align:center;color:red\">$15$</td>\n",
    "        <td style=\"border:2px solid black;text-align:center;color:red\">$1$</td>\n",
    "   </tr>\n",
    "    <tr>\n",
    "       <td style=\"border:2px solid black;text-align:center;color:red\">$10$</td>\n",
    "        <td style=\"border:2px solid black;text-align:center;color:red\">$15$</td>\n",
    "        <td style=\"border:2px solid black;text-align:center;color:red\">$1,5$</td>\n",
    "   </tr>\n",
    "    <tr>\n",
    "       <td style=\"border:2px solid black;text-align:center;color:red\">$20$</td>\n",
    "        <td style=\"border:2px solid black;text-align:center;color:red\">$50$</td>\n",
    "        <td style=\"border:2px solid black;text-align:center;color:red\">$2,5$</td>\n",
    "   </tr>\n",
    "    <tr>\n",
    "       <td style=\"border:2px solid black;text-align:center;color:red\">$5$</td>\n",
    "        <td style=\"border:2px solid black;text-align:center;color:red\">$20$</td>\n",
    "        <td style=\"border:2px solid black;text-align:center;color:red\">$4$</td>\n",
    "   </tr>\n",
    "</table>"
   ]
  },
  {
   "cell_type": "markdown",
   "metadata": {},
   "source": [
    "<span style=\"font-size:2em;font-weight:bold;padding-right: 30px;\"> 2.</span> Au tableau précédent, ajouter : \n",
    "<ul>\n",
    "    <li> la colonne <b>PCE</b> qui contient les Parts Cumulées croissantes des enfants</li>\n",
    "    <li> la colonne <b>PCB</b> qui contient les Parts Cumulées croissantes des Billes</li>\n",
    "</ul>\n",
    "<table style=\"border-width:2px;border-style:solid;border-color:black;border-collapse:collapse;\">\n",
    "   <tr style=\"border:2px solid black;\">\n",
    "       <td style=\"border:2px solid black;text-align:center;width:50px\"><b>Enfants</b></td>\n",
    "       <td style=\"border:2px solid black;text-align:center;width:50px\"><b>Billes</b></td>\n",
    "       <td style=\"border:2px solid black;text-align:center;width:50px\"><b>Billes/enfant</b></td>\n",
    "       <td style=\"border:2px solid black;text-align:center;width:60px\"><b>PCE</b></td>\n",
    "       <td style=\"border:2px solid black;text-align:center;width:60px\"><b>PCB</b></td>\n",
    "   </tr>\n",
    "    <tr>\n",
    "       <td style=\"border:2px solid black;text-align:center;\">0</td>\n",
    "        <td style=\"border:2px solid black;text-align:center;\">0</td>\n",
    "        <td style=\"border:2px solid black;text-align:center;background-color:black\"></td>\n",
    "        <td style=\"border:2px solid black;text-align:center;\">0</td>\n",
    "        <td style=\"border:2px solid black;text-align:center;\">0</td>\n",
    "   </tr>\n",
    "     <tr>\n",
    "       <td style=\"border:2px solid black;text-align:center;color:red\">$15$</td>\n",
    "        <td style=\"border:2px solid black;text-align:center;color:red\">$15$</td>\n",
    "        <td style=\"border:2px solid black;text-align:center;color:red\">$1$</td>\n",
    "         <td style=\"border:2px solid black;text-align:center;color:red\">$30\\,\\%$</td>\n",
    "         <td style=\"border:2px solid black;text-align:center;color:red\">$15\\,\\%$</td>\n",
    "   </tr>\n",
    "    <tr>\n",
    "       <td style=\"border:2px solid black;text-align:center;color:red\">$10$</td>\n",
    "        <td style=\"border:2px solid black;text-align:center;color:red\">$15$</td>\n",
    "        <td style=\"border:2px solid black;text-align:center;color:red\">$1,5$</td>\n",
    "        <td style=\"border:2px solid black;text-align:center;color:red\">$50\\,\\%$</td>\n",
    "         <td style=\"border:2px solid black;text-align:center;color:red\">$30\\,\\%$</td>\n",
    "   </tr>\n",
    "    <tr>\n",
    "       <td style=\"border:2px solid black;text-align:center;color:red\">$20$</td>\n",
    "        <td style=\"border:2px solid black;text-align:center;color:red\">$50$</td>\n",
    "        <td style=\"border:2px solid black;text-align:center;color:red\">$2,5$</td>\n",
    "        <td style=\"border:2px solid black;text-align:center;color:red\">$90\\,\\%$</td>\n",
    "         <td style=\"border:2px solid black;text-align:center;color:red\">$80\\,\\%$</td>\n",
    "   </tr>\n",
    "    <tr>\n",
    "       <td style=\"border:2px solid black;text-align:center;color:red\">$5$</td>\n",
    "        <td style=\"border:2px solid black;text-align:center;color:red\">$20$</td>\n",
    "        <td style=\"border:2px solid black;text-align:center;color:red\">$4$</td>\n",
    "        <td style=\"border:2px solid black;text-align:center;color:red\">$100\\,\\%$</td>\n",
    "         <td style=\"border:2px solid black;text-align:center;color:red\">$100\\,\\%$</td>\n",
    "   </tr>\n",
    "</table>"
   ]
  },
  {
   "cell_type": "markdown",
   "metadata": {},
   "source": [
    "<span style=\"font-size:2em;font-weight:bold;padding-right: 30px;\"> 3.</span> La répartition des billes est-elle égalitaire ? "
   ]
  },
  {
   "cell_type": "markdown",
   "metadata": {},
   "source": [
    "<div style='background-color:#DAF7A6;padding:10px;border-left: 4px solid;margin-left: 60px;'>\n",
    "    Si la répartition était égalitaire, alors dans chaque groupe le nombre moyen de billes par enfants serait le même.<br>\n",
    "            <br> Donc la répartition <b>n'est pas égalitaire</b>.\n",
    "    \n",
    "   <br><br>\n",
    "    <b><u> Autre façon : </u></b><br> Si la répartition des billes avait été égalitaire, alors $50\\,\\%$ des enfants les moins dotés en billes auraient $50\\,\\%$ des billes. Ce qui n'est pas le cas.\n",
    "    <br><br> Donc la répartition <b>n'est pas égalitaire</b>.\n",
    "</div>"
   ]
  },
  {
   "cell_type": "markdown",
   "metadata": {},
   "source": [
    "<span style=\"font-size:2em;font-weight:bold;padding-right: 30px;\"> 4.</span> <b>Représentation du défaut d'égalité de répartition des billes</b>"
   ]
  },
  {
   "cell_type": "markdown",
   "metadata": {},
   "source": [
    "<span style=\"font-size:2em;font-weight:bold;padding-right: 30px;\"> a.</span> Stocker dans \n",
    "<blockquote style=\"border-left: 3px solid black;background-color:white;margin-left: 60px;\">\n",
    "<ul>\n",
    "    <li> <code style=\"background-color:white;font-size:1.1em\">X</code> la liste des parts cumulées croissantes des enfants</li>\n",
    "    <li> <code style=\"background-color:white;font-size:1.1em\">Y</code> la liste des parts cumulées croissantes des billes</li>\n",
    "    </ul>\n",
    "</blockquote>"
   ]
  },
  {
   "cell_type": "code",
   "execution_count": 1,
   "metadata": {},
   "outputs": [],
   "source": [
    "X = [0, 0.3, 0.5, 0.9, 1]\n",
    "Y = [0, 0.15, 0.3, 0.8, 1]"
   ]
  },
  {
   "cell_type": "markdown",
   "metadata": {},
   "source": [
    "<span style=\"font-size:2em;font-weight:bold;padding-right: 30px;\"> b.</span> Exécuter le code suivant :"
   ]
  },
  {
   "cell_type": "code",
   "execution_count": 2,
   "metadata": {},
   "outputs": [
    {
     "data": {
      "image/png": "[encoded data removed]",
      "text/plain": [
       "<Figure size 432x432 with 1 Axes>"
      ]
     },
     "metadata": {
      "needs_background": "light"
     },
     "output_type": "display_data"
    }
   ],
   "source": [
    "import pandas as pa\n",
    "import pylab as pl\n",
    "\n",
    "pl.figure(figsize = (6, 6))\n",
    "pl.plot(X, Y, 'o-', \n",
    "        markerfacecolor = 'white', \n",
    "        color = 'darkgreen', markersize = 8, linewidth = 3)\n",
    "pl.plot([0, 1], [0, 1], color = 'red', linewidth = 3)\n",
    "pl.grid()"
   ]
  },
  {
   "cell_type": "markdown",
   "metadata": {},
   "source": [
    "<span style=\"font-size:2em;font-weight:bold;padding-right: 30px;\"> c.</span> La courbe verte, appelée <span style=\"color:green\"><b>courbe de Lorenz</b></span>, représente une fonction $f$ affine par morceaux sur $\\left[0\\,;\\,1\\right]$. \n",
    "<p align=\"center\"><br><img src=\"https://raw.githubusercontent.com/lyceeHM/Terminale_Spe/master/Chap11/Gini_billes_1.png\" width=\"60%\"></p>\n",
    "Compléter.\n",
    "<blockquote style=\"border-left: 3px solid black;background-color:white;margin-left: 60px;\">\n",
    "<ul>\n",
    "    <li> A partir du point $A_2$, 50 % des enfants les moins équipés possèdent  <span style=\"color:red\">$30\\,\\%$</span> des billes.</li>\n",
    "    <li> A partir du point $A_3$, <span style=\"color:red\">$10\\,\\%$</span> des enfants les mieux équipés possèdent  20 % des billes.</li>\n",
    "    <li> Dans le cas d'une répartition égalitaire des billes, le point de la courbe de Lorenz d'abscisse $0,25$ aurait comme ordonnée <span style=\"color:red\">$0,25$</span>.</li>\n",
    "    </ul>\n",
    "</blockquote>\n",
    "<span style=\"font-size:2em;font-weight:bold;padding-right: 30px;\"> d.</span> Dans le cas d’une répartition  égalitaire des billes, comment serait la courbe de Lorenz ?"
   ]
  },
  {
   "cell_type": "markdown",
   "metadata": {},
   "source": [
    "<div style='background-color:#DAF7A6;padding:10px;border-left: 4px solid;margin-left: 60px;'>\n",
    "   La courbe de Lorenz serait la droite d'équation $y=x$.\n",
    "</div>"
   ]
  },
  {
   "cell_type": "markdown",
   "metadata": {},
   "source": [
    "<span style=\"font-size:2em;font-weight:bold;padding-right: 30px;\"> 5.</span> <b>Propriétés de $\\mathscr{C}_f$</b>"
   ]
  },
  {
   "cell_type": "markdown",
   "metadata": {},
   "source": [
    "<table style=\"border-width:2px;border-style:solid;border-color:black;border-collapse:collapse;\">\n",
    "   <tr style=\"border:2px solid black;\">\n",
    "       <td style=\"border:2px solid black;text-align:center;width:50px\"><b>Enfants</b></td>\n",
    "       <td style=\"border:2px solid black;text-align:center;width:50px\"><b>Billes</b></td>\n",
    "       <td style=\"border:2px solid black;text-align:center;width:50px\"><b>Billes/enfant</b></td>\n",
    "       <td style=\"border:2px solid black;text-align:center;width:60px\"><b>PCE</b></td>\n",
    "       <td style=\"border:2px solid black;text-align:center;width:60px\"><b>PCB</b></td>\n",
    "   </tr>\n",
    "    <tr>\n",
    "       <td style=\"border:2px solid black;text-align:center;\">0</td>\n",
    "        <td style=\"border:2px solid black;text-align:center;\">0</td>\n",
    "        <td style=\"border:2px solid black;text-align:center;background-color:black\"></td>\n",
    "        <td style=\"border:2px solid black;text-align:center;\">0</td>\n",
    "        <td style=\"border:2px solid black;text-align:center;\">0</td>\n",
    "   </tr>\n",
    "     <tr>\n",
    "       <td style=\"border:2px solid black;text-align:center;color:red\">$15$</td>\n",
    "        <td style=\"border:2px solid black;text-align:center;color:red\">$15$</td>\n",
    "        <td style=\"border:2px solid black;text-align:center;color:red\">$1$</td>\n",
    "         <td style=\"border:2px solid black;text-align:center;color:red\">$30\\,\\%$</td>\n",
    "         <td style=\"border:2px solid black;text-align:center;color:red\">$15\\,\\%$</td>\n",
    "   </tr>\n",
    "    <tr>\n",
    "       <td style=\"border:2px solid black;text-align:center;color:red\">$10$</td>\n",
    "        <td style=\"border:2px solid black;text-align:center;color:red\">$15$</td>\n",
    "        <td style=\"border:2px solid black;text-align:center;color:red\">$1,5$</td>\n",
    "        <td style=\"border:2px solid black;text-align:center;color:red\">$50\\,\\%$</td>\n",
    "         <td style=\"border:2px solid black;text-align:center;color:red\">$30\\,\\%$</td>\n",
    "   </tr>\n",
    "    <tr>\n",
    "       <td style=\"border:2px solid black;text-align:center;color:red\">$20$</td>\n",
    "        <td style=\"border:2px solid black;text-align:center;color:red\">$50$</td>\n",
    "        <td style=\"border:2px solid black;text-align:center;color:red\">$2,5$</td>\n",
    "        <td style=\"border:2px solid black;text-align:center;color:red\">$90\\,\\%$</td>\n",
    "         <td style=\"border:2px solid black;text-align:center;color:red\">$80\\,\\%$</td>\n",
    "   </tr>\n",
    "    <tr>\n",
    "       <td style=\"border:2px solid black;text-align:center;color:red\">$5$</td>\n",
    "        <td style=\"border:2px solid black;text-align:center;color:red\">$20$</td>\n",
    "        <td style=\"border:2px solid black;text-align:center;color:red\">$4$</td>\n",
    "        <td style=\"border:2px solid black;text-align:center;color:red\">$100\\,\\%$</td>\n",
    "         <td style=\"border:2px solid black;text-align:center;color:red\">$100\\,\\%$</td>\n",
    "   </tr>\n",
    "</table>"
   ]
  },
  {
   "cell_type": "markdown",
   "metadata": {},
   "source": [
    "<span style=\"font-size:2em;font-weight:bold;padding-right: 30px;\"> a.</span> Quel est le coefficient directeur du segment de droite $\\left[A_0\\,;\\,A_1\\right]$ ?\n",
    "<br>\n",
    "<div style='background-color:#DAF7A6;padding:10px;border-left: 4px solid;margin-left: 60px;'>\n",
    "    $a_{0,1}=\\dfrac{0,15}{0,3}=0,5$\n",
    "</div>\n",
    "<br><span style=\"font-size:2em;font-weight:bold;padding-right: 30px;color:white\"> a.</span> Quel est le coefficient directeur du segment de droite $\\left[A_1\\,;\\,A_2\\right]$ ?\n",
    "<div style='background-color:#DAF7A6;padding:10px;border-left: 4px solid;margin-left: 60px;'>\n",
    "    $a_{1,2}=\\dfrac{0,15}{0,2}=0,75$\n",
    "</div>\n",
    "<br>\n",
    "<span style=\"font-size:2em;font-weight:bold;padding-right: 30px;color:white\"> a.</span> Compléter :\n",
    "<blockquote style=\"border-left: 3px solid black;background-color:white;margin-left: 60px;\">\n",
    "<span style=\"font-size:2em\">&laquo;</span> La pente du segment de droite $\\left[A_i\\,;\\,A_{i+1}\\right]$ est la <span style=\"color:red\"><b>moitié</b></span> du nombre moyen de billes par enfant<span style=\"font-size:2em\">&raquo;</span>\n",
    "\n",
    "</blockquote>"
   ]
  },
  {
   "cell_type": "markdown",
   "metadata": {},
   "source": [
    "<span style=\"font-size:2em;font-weight:bold;padding-right: 30px;\"> b.</span> Déterminer la convexité de $f$."
   ]
  },
  {
   "cell_type": "markdown",
   "metadata": {},
   "source": [
    "<div style='background-color:#DAF7A6;padding:10px;border-left: 4px solid;margin-left: 60px;'>\n",
    "    Par construction, la suite des pentes est croissante donc la fonction est convexe.\n",
    "</div>"
   ]
  },
  {
   "cell_type": "markdown",
   "metadata": {},
   "source": [
    "<span style=\"font-size:2em;font-weight:bold;padding-right: 30px;\"> c.</span> En déduire la position de la courbe de Lorenz par rapport au segment de droite $y=x$. "
   ]
  },
  {
   "cell_type": "markdown",
   "metadata": {},
   "source": [
    "<div style='background-color:#DAF7A6;padding:10px;border-left: 4px solid;margin-left: 60px;'>\n",
    "    La courbe est située entièrement en-dessous du segment de droite d'équation $y=x$.\n",
    "</div>"
   ]
  },
  {
   "cell_type": "markdown",
   "metadata": {},
   "source": [
    "<span style=\"font-size:2em;font-weight:bold;padding-right: 30px;\"> 6.</span> <b>Mesure du défaut de répartition des billes auprès des enfants</b>"
   ]
  },
  {
   "cell_type": "markdown",
   "metadata": {},
   "source": [
    "<div style='background-color:#DDD;padding:10px;border-left: 1rem solid'>\n",
    "    L'indice de <b>Gini</b> est par définition égal à $2\\times \\text{Aire hachurée}$ représentée ci-dessous :\n",
    "<p align=\"center\"><br><img src=\"https://raw.githubusercontent.com/lyceeHM/Terminale_Spe/master/Chap11/Gini_billes_2.png\" width=\"60%\"></p>\n",
    "</div>"
   ]
  },
  {
   "cell_type": "markdown",
   "metadata": {},
   "source": [
    "<span style=\"font-size:2em;font-weight:bold;padding-right: 30px;\"> a.</span> Dans quelle situation cet indice serait-il nul ? "
   ]
  },
  {
   "cell_type": "markdown",
   "metadata": {},
   "source": [
    "<div style='background-color:#DAF7A6;padding:10px;border-left: 4px solid;margin-left: 60px;'>\n",
    "    C'est le cas de l'équirépartition.\n",
    "</div>"
   ]
  },
  {
   "cell_type": "markdown",
   "metadata": {},
   "source": [
    "<span style=\"font-size:2em;font-weight:bold;padding-right: 30px;\"> b.</span> Compléter : <span style=\"font-size:2em\">&laquo;</span> plus la répartition est inégalitaire, plus cet indice approche <span style=\"color:red\">$1$</span>. <span style=\"font-size:2em\">&raquo;</span>"
   ]
  },
  {
   "cell_type": "markdown",
   "metadata": {},
   "source": [
    "<span style=\"font-size:2em;font-weight:bold;padding-right: 30px;\"> c.</span> Considérons un trapèze de petite base <b>b</b>, de grande base <b>B</b> et de hauteur <b>h</b>.\n",
    "<br><span style=\"font-size:2em;font-weight:bold;padding-right: 30px;color:white\"> c.</span> Ecrire la fonction nommée <b>trapeze</b> de paramètres <code style=\"background-color:white;font-size:1.1em\">b</code>, <code style=\"background-color:white;font-size:1.1em\">B</code> et <code style=\"background-color:white;font-size:1.1em\">h</code> <em>(les dimensions d'un trapèze)</em> qui renvoie son aire."
   ]
  },
  {
   "cell_type": "code",
   "execution_count": 3,
   "metadata": {},
   "outputs": [],
   "source": [
    "def trapeze(b, B, h):\n",
    "    return (b + B) / 2 * h"
   ]
  },
  {
   "cell_type": "markdown",
   "metadata": {},
   "source": [
    "<span style=\"font-size:2em;font-weight:bold;padding-right: 30px;\"> d.</span> Utiliser <b>trapeze</b> pour calculer :\n",
    "<blockquote style=\"border-left: 3px solid black;background-color:white;margin-left: 60px;\">\n",
    "<ul>\n",
    "    <li> l'aire du triangle bleu.</li>\n",
    "    <li> l'aire du trapèze orange </li>\n",
    "</ul>\n",
    "</blockquote>"
   ]
  },
  {
   "cell_type": "code",
   "execution_count": 4,
   "metadata": {},
   "outputs": [
    {
     "data": {
      "text/plain": [
       "0.0225"
      ]
     },
     "execution_count": 4,
     "metadata": {},
     "output_type": "execute_result"
    }
   ],
   "source": [
    "trapeze(Y[0], Y[1], X[1] - X[0])"
   ]
  },
  {
   "cell_type": "code",
   "execution_count": 5,
   "metadata": {},
   "outputs": [
    {
     "data": {
      "text/plain": [
       "0.045"
      ]
     },
     "execution_count": 5,
     "metadata": {},
     "output_type": "execute_result"
    }
   ],
   "source": [
    "trapeze(Y[1], Y[2], X[2] - X[1])"
   ]
  },
  {
   "cell_type": "markdown",
   "metadata": {},
   "source": [
    "<span style=\"font-size:2em;font-weight:bold;padding-right: 30px;\"> e.</span> Compléter la fonction nommée <b>trapezes</b> de paramètres <code style=\"background-color:white;font-size:1.1em\">X</code> et <code style=\"background-color:white;font-size:1.1em\">Y</code> <em>(respectivement la liste des abscisses puis celles des ordonnées d'une courbe de Lorenz)</em> qui renvoie l'aire totale des trapèzes associés à la courbe de Lorenz :"
   ]
  },
  {
   "cell_type": "code",
   "execution_count": 6,
   "metadata": {},
   "outputs": [],
   "source": [
    "def trapezes(X, Y):\n",
    "    T = 0\n",
    "    for k in range(len(X) - 1):\n",
    "        T = T + trapeze(Y[k], Y[k + 1], X[k + 1] - X[k])\n",
    "    return T"
   ]
  },
  {
   "cell_type": "markdown",
   "metadata": {},
   "source": [
    "<span style=\"font-size:2em;font-weight:bold;padding-right: 30px;\"> f.</span> Créer la fonction nommée <b>gini</b> de paramètres les listes <code style=\"background-color:white;font-size:1.1em\">X</code> et <code style=\"background-color:white;font-size:1.1em\">Y</code> et renvoie son indice de Gini. "
   ]
  },
  {
   "cell_type": "code",
   "execution_count": 7,
   "metadata": {},
   "outputs": [],
   "source": [
    "def gini(X, Y):\n",
    "    return 1 - 2 * trapezes(X, Y)"
   ]
  },
  {
   "cell_type": "markdown",
   "metadata": {},
   "source": [
    "<span style=\"font-size:2em;font-weight:bold;padding-right: 30px;color:white\"> a.</span> Ici l'indice de Gini vaut :"
   ]
  },
  {
   "cell_type": "code",
   "execution_count": 8,
   "metadata": {},
   "outputs": [
    {
     "data": {
      "text/plain": [
       "0.245"
      ]
     },
     "execution_count": 8,
     "metadata": {},
     "output_type": "execute_result"
    }
   ],
   "source": [
    "gini(X, Y)"
   ]
  },
  {
   "cell_type": "markdown",
   "metadata": {},
   "source": [
    "<h1 style=\"font-family:Comic Sans MS;color:white;background-color:#B9B9B9;text-align:center\"> <span style=\"font-size:2em;font-weight:bold;padding-right: 60px;color:black;\"> B.</span> Consommation de l'électricité dans le monde</h1>"
   ]
  },
  {
   "cell_type": "markdown",
   "metadata": {},
   "source": [
    "<div style='background-color:#DDD;padding:10px;border-left: 1rem solid'>\n",
    "    L'accès à l'électricité dans le monde n'est pas chose aisée.\n",
    "    <p align=\"center\"><br><img src=\"https://encrypted-tbn0.gstatic.com/images?q=tbn:ANd9GcSpaJjqvvf3LTnuKBuINmtrrJybRS031MdHIQ&usqp=CAU\"\n",
    "        width=\"40%\"></p>\n",
    "    <br> Le fichier <code style=\"background-color:#DDD;font-size:1.1em\">'electricite.csv'</code> provenant de <em><strong><a href=\"http://wdi.worldbank.org/table/3.7\" style=\"color:red\" target=\"_blank\">(lien)</a></strong></em> recense tout particulièrement, pour chacun pays en 2015 : \n",
    "    <ul>\n",
    "        <li>son nom, la quantité annuelle d'électricité consommée <em>(en billions de kilowatt/heure)</em> </li>\n",
    "        <li>la distribution des origines : <span style=\"color:darkgreen\"><b>charbon</b></span>, <span style=\"color:darkgreen\"><b>gaz</b></span>, <span style=\"color:darkgreen\"><b>pétrole</b></span>, <span style=\"color:darkgreen\"><b>hydraulique</b></span>, <span style=\"color:darkgreen\"><b>renouvelable</b></span>, <span style=\"color:darkgreen\"><b>nucléaire</b></span></li>\n",
    "        <li>le pourcentage d'accès à l'électricité et la population concernée</li>\n",
    "    </ul>\n",
    "</div>"
   ]
  },
  {
   "cell_type": "markdown",
   "metadata": {},
   "source": [
    "<span style=\"font-size:2em;font-weight:bold;padding-right: 30px;\"> 1.</span> Exécuter le code suivant pour créer la table <code style=\"background-color:white;font-size:1.1em\">T</code> associée au jeu de données."
   ]
  },
  {
   "cell_type": "code",
   "execution_count": 9,
   "metadata": {},
   "outputs": [
    {
     "data": {
      "text/html": [
       "<div>\n",
       "<style scoped>\n",
       "    .dataframe tbody tr th:only-of-type {\n",
       "        vertical-align: middle;\n",
       "    }\n",
       "\n",
       "    .dataframe tbody tr th {\n",
       "        vertical-align: top;\n",
       "    }\n",
       "\n",
       "    .dataframe thead th {\n",
       "        text-align: right;\n",
       "    }\n",
       "</style>\n",
       "<table border=\"1\" class=\"dataframe\">\n",
       "  <thead>\n",
       "    <tr style=\"text-align: right;\">\n",
       "      <th></th>\n",
       "      <th>pays</th>\n",
       "      <th>quantité</th>\n",
       "      <th>charbon</th>\n",
       "      <th>gaz</th>\n",
       "      <th>pétrole</th>\n",
       "      <th>hydraulique</th>\n",
       "      <th>renouvelable</th>\n",
       "      <th>nucléaire</th>\n",
       "      <th>%pop</th>\n",
       "      <th>pop</th>\n",
       "    </tr>\n",
       "  </thead>\n",
       "  <tbody>\n",
       "    <tr>\n",
       "      <th>0</th>\n",
       "      <td>Albania</td>\n",
       "      <td>4.7</td>\n",
       "      <td>0.0</td>\n",
       "      <td>0.0</td>\n",
       "      <td>0.0</td>\n",
       "      <td>100.0</td>\n",
       "      <td>0.0</td>\n",
       "      <td>0.0</td>\n",
       "      <td>100.0</td>\n",
       "      <td>2986952</td>\n",
       "    </tr>\n",
       "    <tr>\n",
       "      <th>1</th>\n",
       "      <td>Algeria</td>\n",
       "      <td>64.2</td>\n",
       "      <td>0.0</td>\n",
       "      <td>97.8</td>\n",
       "      <td>1.8</td>\n",
       "      <td>0.4</td>\n",
       "      <td>0.0</td>\n",
       "      <td>0.0</td>\n",
       "      <td>100.0</td>\n",
       "      <td>34586184</td>\n",
       "    </tr>\n",
       "    <tr>\n",
       "      <th>2</th>\n",
       "      <td>Angola</td>\n",
       "      <td>9.5</td>\n",
       "      <td>0.0</td>\n",
       "      <td>0.0</td>\n",
       "      <td>46.8</td>\n",
       "      <td>53.2</td>\n",
       "      <td>0.0</td>\n",
       "      <td>0.0</td>\n",
       "      <td>32.0</td>\n",
       "      <td>13068161</td>\n",
       "    </tr>\n",
       "    <tr>\n",
       "      <th>3</th>\n",
       "      <td>Argentina</td>\n",
       "      <td>141.3</td>\n",
       "      <td>2.9</td>\n",
       "      <td>47.7</td>\n",
       "      <td>13.8</td>\n",
       "      <td>29.0</td>\n",
       "      <td>2.5</td>\n",
       "      <td>4.1</td>\n",
       "      <td>100.0</td>\n",
       "      <td>41343201</td>\n",
       "    </tr>\n",
       "    <tr>\n",
       "      <th>4</th>\n",
       "      <td>Armenia</td>\n",
       "      <td>7.8</td>\n",
       "      <td>0.0</td>\n",
       "      <td>42.4</td>\n",
       "      <td>0.0</td>\n",
       "      <td>25.7</td>\n",
       "      <td>0.1</td>\n",
       "      <td>31.8</td>\n",
       "      <td>100.0</td>\n",
       "      <td>2968000</td>\n",
       "    </tr>\n",
       "    <tr>\n",
       "      <th>...</th>\n",
       "      <td>...</td>\n",
       "      <td>...</td>\n",
       "      <td>...</td>\n",
       "      <td>...</td>\n",
       "      <td>...</td>\n",
       "      <td>...</td>\n",
       "      <td>...</td>\n",
       "      <td>...</td>\n",
       "      <td>...</td>\n",
       "      <td>...</td>\n",
       "    </tr>\n",
       "    <tr>\n",
       "      <th>129</th>\n",
       "      <td>Venezuela</td>\n",
       "      <td>127.7</td>\n",
       "      <td>0.0</td>\n",
       "      <td>17.7</td>\n",
       "      <td>14.0</td>\n",
       "      <td>68.3</td>\n",
       "      <td>0.0</td>\n",
       "      <td>0.0</td>\n",
       "      <td>99.1</td>\n",
       "      <td>27223228</td>\n",
       "    </tr>\n",
       "    <tr>\n",
       "      <th>130</th>\n",
       "      <td>Vietnam</td>\n",
       "      <td>140.9</td>\n",
       "      <td>24.5</td>\n",
       "      <td>33.5</td>\n",
       "      <td>0.3</td>\n",
       "      <td>41.5</td>\n",
       "      <td>0.1</td>\n",
       "      <td>0.0</td>\n",
       "      <td>99.2</td>\n",
       "      <td>89571130</td>\n",
       "    </tr>\n",
       "    <tr>\n",
       "      <th>131</th>\n",
       "      <td>Yemen</td>\n",
       "      <td>7.6</td>\n",
       "      <td>0.0</td>\n",
       "      <td>38.6</td>\n",
       "      <td>61.4</td>\n",
       "      <td>0.0</td>\n",
       "      <td>0.0</td>\n",
       "      <td>0.0</td>\n",
       "      <td>72.0</td>\n",
       "      <td>23495361</td>\n",
       "    </tr>\n",
       "    <tr>\n",
       "      <th>132</th>\n",
       "      <td>Zambia</td>\n",
       "      <td>14.5</td>\n",
       "      <td>0.0</td>\n",
       "      <td>0.0</td>\n",
       "      <td>2.8</td>\n",
       "      <td>97.2</td>\n",
       "      <td>0.0</td>\n",
       "      <td>0.0</td>\n",
       "      <td>27.9</td>\n",
       "      <td>13460305</td>\n",
       "    </tr>\n",
       "    <tr>\n",
       "      <th>133</th>\n",
       "      <td>Zimbabwe</td>\n",
       "      <td>10.0</td>\n",
       "      <td>43.9</td>\n",
       "      <td>0.0</td>\n",
       "      <td>0.5</td>\n",
       "      <td>54.2</td>\n",
       "      <td>1.4</td>\n",
       "      <td>0.0</td>\n",
       "      <td>32.3</td>\n",
       "      <td>11651858</td>\n",
       "    </tr>\n",
       "  </tbody>\n",
       "</table>\n",
       "<p>134 rows × 10 columns</p>\n",
       "</div>"
      ],
      "text/plain": [
       "          pays  quantité  charbon   gaz  pétrole  hydraulique  renouvelable  \\\n",
       "0      Albania       4.7      0.0   0.0      0.0        100.0           0.0   \n",
       "1      Algeria      64.2      0.0  97.8      1.8          0.4           0.0   \n",
       "2       Angola       9.5      0.0   0.0     46.8         53.2           0.0   \n",
       "3    Argentina     141.3      2.9  47.7     13.8         29.0           2.5   \n",
       "4      Armenia       7.8      0.0  42.4      0.0         25.7           0.1   \n",
       "..         ...       ...      ...   ...      ...          ...           ...   \n",
       "129  Venezuela     127.7      0.0  17.7     14.0         68.3           0.0   \n",
       "130    Vietnam     140.9     24.5  33.5      0.3         41.5           0.1   \n",
       "131      Yemen       7.6      0.0  38.6     61.4          0.0           0.0   \n",
       "132     Zambia      14.5      0.0   0.0      2.8         97.2           0.0   \n",
       "133   Zimbabwe      10.0     43.9   0.0      0.5         54.2           1.4   \n",
       "\n",
       "     nucléaire   %pop       pop  \n",
       "0          0.0  100.0   2986952  \n",
       "1          0.0  100.0  34586184  \n",
       "2          0.0   32.0  13068161  \n",
       "3          4.1  100.0  41343201  \n",
       "4         31.8  100.0   2968000  \n",
       "..         ...    ...       ...  \n",
       "129        0.0   99.1  27223228  \n",
       "130        0.0   99.2  89571130  \n",
       "131        0.0   72.0  23495361  \n",
       "132        0.0   27.9  13460305  \n",
       "133        0.0   32.3  11651858  \n",
       "\n",
       "[134 rows x 10 columns]"
      ]
     },
     "execution_count": 9,
     "metadata": {},
     "output_type": "execute_result"
    }
   ],
   "source": [
    "import pandas as pa\n",
    "import pylab as pl\n",
    "\n",
    "T = pa.read_csv('https://raw.githubusercontent.com/lyceeHM/Terminale_Spe/master/Chap11/electricite.csv')\n",
    "T"
   ]
  },
  {
   "cell_type": "markdown",
   "metadata": {},
   "source": [
    "<span style=\"font-size:2em;font-weight:bold;padding-right: 30px;\"> 2.</span> <b>Inégalités de consommation d'électicité</b>"
   ]
  },
  {
   "cell_type": "markdown",
   "metadata": {},
   "source": [
    "<span style=\"font-size:2em;font-weight:bold;padding-right: 30px;\"> a.</span> Compléter le code suivant pour ajouter à la table <code style=\"background-color:white;font-size:1.1em\">T</code> la colonne nommée <b>hab</b> contenant le nombre d'habitants ayant accès à l'électricité pour chaque pays renseigné."
   ]
  },
  {
   "cell_type": "code",
   "execution_count": 10,
   "metadata": {},
   "outputs": [
    {
     "data": {
      "text/html": [
       "<div>\n",
       "<style scoped>\n",
       "    .dataframe tbody tr th:only-of-type {\n",
       "        vertical-align: middle;\n",
       "    }\n",
       "\n",
       "    .dataframe tbody tr th {\n",
       "        vertical-align: top;\n",
       "    }\n",
       "\n",
       "    .dataframe thead th {\n",
       "        text-align: right;\n",
       "    }\n",
       "</style>\n",
       "<table border=\"1\" class=\"dataframe\">\n",
       "  <thead>\n",
       "    <tr style=\"text-align: right;\">\n",
       "      <th></th>\n",
       "      <th>pays</th>\n",
       "      <th>quantité</th>\n",
       "      <th>charbon</th>\n",
       "      <th>gaz</th>\n",
       "      <th>pétrole</th>\n",
       "      <th>hydraulique</th>\n",
       "      <th>renouvelable</th>\n",
       "      <th>nucléaire</th>\n",
       "      <th>%pop</th>\n",
       "      <th>pop</th>\n",
       "      <th>hab</th>\n",
       "    </tr>\n",
       "  </thead>\n",
       "  <tbody>\n",
       "    <tr>\n",
       "      <th>0</th>\n",
       "      <td>Albania</td>\n",
       "      <td>4.7</td>\n",
       "      <td>0.0</td>\n",
       "      <td>0.0</td>\n",
       "      <td>0.0</td>\n",
       "      <td>100.0</td>\n",
       "      <td>0.0</td>\n",
       "      <td>0.0</td>\n",
       "      <td>100.0</td>\n",
       "      <td>2986952</td>\n",
       "      <td>2986952.00</td>\n",
       "    </tr>\n",
       "    <tr>\n",
       "      <th>1</th>\n",
       "      <td>Algeria</td>\n",
       "      <td>64.2</td>\n",
       "      <td>0.0</td>\n",
       "      <td>97.8</td>\n",
       "      <td>1.8</td>\n",
       "      <td>0.4</td>\n",
       "      <td>0.0</td>\n",
       "      <td>0.0</td>\n",
       "      <td>100.0</td>\n",
       "      <td>34586184</td>\n",
       "      <td>34586184.00</td>\n",
       "    </tr>\n",
       "    <tr>\n",
       "      <th>2</th>\n",
       "      <td>Angola</td>\n",
       "      <td>9.5</td>\n",
       "      <td>0.0</td>\n",
       "      <td>0.0</td>\n",
       "      <td>46.8</td>\n",
       "      <td>53.2</td>\n",
       "      <td>0.0</td>\n",
       "      <td>0.0</td>\n",
       "      <td>32.0</td>\n",
       "      <td>13068161</td>\n",
       "      <td>4181811.52</td>\n",
       "    </tr>\n",
       "    <tr>\n",
       "      <th>3</th>\n",
       "      <td>Argentina</td>\n",
       "      <td>141.3</td>\n",
       "      <td>2.9</td>\n",
       "      <td>47.7</td>\n",
       "      <td>13.8</td>\n",
       "      <td>29.0</td>\n",
       "      <td>2.5</td>\n",
       "      <td>4.1</td>\n",
       "      <td>100.0</td>\n",
       "      <td>41343201</td>\n",
       "      <td>41343201.00</td>\n",
       "    </tr>\n",
       "    <tr>\n",
       "      <th>4</th>\n",
       "      <td>Armenia</td>\n",
       "      <td>7.8</td>\n",
       "      <td>0.0</td>\n",
       "      <td>42.4</td>\n",
       "      <td>0.0</td>\n",
       "      <td>25.7</td>\n",
       "      <td>0.1</td>\n",
       "      <td>31.8</td>\n",
       "      <td>100.0</td>\n",
       "      <td>2968000</td>\n",
       "      <td>2968000.00</td>\n",
       "    </tr>\n",
       "  </tbody>\n",
       "</table>\n",
       "</div>"
      ],
      "text/plain": [
       "        pays  quantité  charbon   gaz  pétrole  hydraulique  renouvelable  \\\n",
       "0    Albania       4.7      0.0   0.0      0.0        100.0           0.0   \n",
       "1    Algeria      64.2      0.0  97.8      1.8          0.4           0.0   \n",
       "2     Angola       9.5      0.0   0.0     46.8         53.2           0.0   \n",
       "3  Argentina     141.3      2.9  47.7     13.8         29.0           2.5   \n",
       "4    Armenia       7.8      0.0  42.4      0.0         25.7           0.1   \n",
       "\n",
       "   nucléaire   %pop       pop          hab  \n",
       "0        0.0  100.0   2986952   2986952.00  \n",
       "1        0.0  100.0  34586184  34586184.00  \n",
       "2        0.0   32.0  13068161   4181811.52  \n",
       "3        4.1  100.0  41343201  41343201.00  \n",
       "4       31.8  100.0   2968000   2968000.00  "
      ]
     },
     "execution_count": 10,
     "metadata": {},
     "output_type": "execute_result"
    }
   ],
   "source": [
    "T['hab'] = T['%pop'] / 100 * T['pop']\n",
    "T.head()"
   ]
  },
  {
   "cell_type": "markdown",
   "metadata": {},
   "source": [
    "<span style=\"font-size:2em;font-weight:bold;padding-right: 30px;\"> b.</span> Ajouter à la table <code style=\"background-color:white;font-size:1.1em\">T</code> la colonne <b>qua/hab</b> qui contient pour chaque pays la quantité annuelle d'électricité consommée par habitant."
   ]
  },
  {
   "cell_type": "code",
   "execution_count": 11,
   "metadata": {},
   "outputs": [
    {
     "data": {
      "text/html": [
       "<div>\n",
       "<style scoped>\n",
       "    .dataframe tbody tr th:only-of-type {\n",
       "        vertical-align: middle;\n",
       "    }\n",
       "\n",
       "    .dataframe tbody tr th {\n",
       "        vertical-align: top;\n",
       "    }\n",
       "\n",
       "    .dataframe thead th {\n",
       "        text-align: right;\n",
       "    }\n",
       "</style>\n",
       "<table border=\"1\" class=\"dataframe\">\n",
       "  <thead>\n",
       "    <tr style=\"text-align: right;\">\n",
       "      <th></th>\n",
       "      <th>pays</th>\n",
       "      <th>quantité</th>\n",
       "      <th>charbon</th>\n",
       "      <th>gaz</th>\n",
       "      <th>pétrole</th>\n",
       "      <th>hydraulique</th>\n",
       "      <th>renouvelable</th>\n",
       "      <th>nucléaire</th>\n",
       "      <th>%pop</th>\n",
       "      <th>pop</th>\n",
       "      <th>hab</th>\n",
       "      <th>qua/hab</th>\n",
       "    </tr>\n",
       "  </thead>\n",
       "  <tbody>\n",
       "    <tr>\n",
       "      <th>0</th>\n",
       "      <td>Albania</td>\n",
       "      <td>4.7</td>\n",
       "      <td>0.0</td>\n",
       "      <td>0.0</td>\n",
       "      <td>0.0</td>\n",
       "      <td>100.0</td>\n",
       "      <td>0.0</td>\n",
       "      <td>0.0</td>\n",
       "      <td>100.0</td>\n",
       "      <td>2986952</td>\n",
       "      <td>2986952.00</td>\n",
       "      <td>0.000002</td>\n",
       "    </tr>\n",
       "    <tr>\n",
       "      <th>1</th>\n",
       "      <td>Algeria</td>\n",
       "      <td>64.2</td>\n",
       "      <td>0.0</td>\n",
       "      <td>97.8</td>\n",
       "      <td>1.8</td>\n",
       "      <td>0.4</td>\n",
       "      <td>0.0</td>\n",
       "      <td>0.0</td>\n",
       "      <td>100.0</td>\n",
       "      <td>34586184</td>\n",
       "      <td>34586184.00</td>\n",
       "      <td>0.000002</td>\n",
       "    </tr>\n",
       "    <tr>\n",
       "      <th>2</th>\n",
       "      <td>Angola</td>\n",
       "      <td>9.5</td>\n",
       "      <td>0.0</td>\n",
       "      <td>0.0</td>\n",
       "      <td>46.8</td>\n",
       "      <td>53.2</td>\n",
       "      <td>0.0</td>\n",
       "      <td>0.0</td>\n",
       "      <td>32.0</td>\n",
       "      <td>13068161</td>\n",
       "      <td>4181811.52</td>\n",
       "      <td>0.000002</td>\n",
       "    </tr>\n",
       "    <tr>\n",
       "      <th>3</th>\n",
       "      <td>Argentina</td>\n",
       "      <td>141.3</td>\n",
       "      <td>2.9</td>\n",
       "      <td>47.7</td>\n",
       "      <td>13.8</td>\n",
       "      <td>29.0</td>\n",
       "      <td>2.5</td>\n",
       "      <td>4.1</td>\n",
       "      <td>100.0</td>\n",
       "      <td>41343201</td>\n",
       "      <td>41343201.00</td>\n",
       "      <td>0.000003</td>\n",
       "    </tr>\n",
       "    <tr>\n",
       "      <th>4</th>\n",
       "      <td>Armenia</td>\n",
       "      <td>7.8</td>\n",
       "      <td>0.0</td>\n",
       "      <td>42.4</td>\n",
       "      <td>0.0</td>\n",
       "      <td>25.7</td>\n",
       "      <td>0.1</td>\n",
       "      <td>31.8</td>\n",
       "      <td>100.0</td>\n",
       "      <td>2968000</td>\n",
       "      <td>2968000.00</td>\n",
       "      <td>0.000003</td>\n",
       "    </tr>\n",
       "  </tbody>\n",
       "</table>\n",
       "</div>"
      ],
      "text/plain": [
       "        pays  quantité  charbon   gaz  pétrole  hydraulique  renouvelable  \\\n",
       "0    Albania       4.7      0.0   0.0      0.0        100.0           0.0   \n",
       "1    Algeria      64.2      0.0  97.8      1.8          0.4           0.0   \n",
       "2     Angola       9.5      0.0   0.0     46.8         53.2           0.0   \n",
       "3  Argentina     141.3      2.9  47.7     13.8         29.0           2.5   \n",
       "4    Armenia       7.8      0.0  42.4      0.0         25.7           0.1   \n",
       "\n",
       "   nucléaire   %pop       pop          hab   qua/hab  \n",
       "0        0.0  100.0   2986952   2986952.00  0.000002  \n",
       "1        0.0  100.0  34586184  34586184.00  0.000002  \n",
       "2        0.0   32.0  13068161   4181811.52  0.000002  \n",
       "3        4.1  100.0  41343201  41343201.00  0.000003  \n",
       "4       31.8  100.0   2968000   2968000.00  0.000003  "
      ]
     },
     "execution_count": 11,
     "metadata": {},
     "output_type": "execute_result"
    }
   ],
   "source": [
    "T['qua/hab'] = T['quantité'] / T['hab']\n",
    "T.head()"
   ]
  },
  {
   "cell_type": "markdown",
   "metadata": {},
   "source": [
    "<span style=\"font-size:2em;font-weight:bold;padding-right: 30px;\"> c.</span> Exécuter le code suivant pour trier la table <code style=\"background-color:white;font-size:1.1em\">T</code> par ordre croissant selon la colonne <b>qua/hab</b>."
   ]
  },
  {
   "cell_type": "code",
   "execution_count": 12,
   "metadata": {},
   "outputs": [
    {
     "data": {
      "text/html": [
       "<div>\n",
       "<style scoped>\n",
       "    .dataframe tbody tr th:only-of-type {\n",
       "        vertical-align: middle;\n",
       "    }\n",
       "\n",
       "    .dataframe tbody tr th {\n",
       "        vertical-align: top;\n",
       "    }\n",
       "\n",
       "    .dataframe thead th {\n",
       "        text-align: right;\n",
       "    }\n",
       "</style>\n",
       "<table border=\"1\" class=\"dataframe\">\n",
       "  <thead>\n",
       "    <tr style=\"text-align: right;\">\n",
       "      <th></th>\n",
       "      <th>pays</th>\n",
       "      <th>quantité</th>\n",
       "      <th>charbon</th>\n",
       "      <th>gaz</th>\n",
       "      <th>pétrole</th>\n",
       "      <th>hydraulique</th>\n",
       "      <th>renouvelable</th>\n",
       "      <th>nucléaire</th>\n",
       "      <th>%pop</th>\n",
       "      <th>pop</th>\n",
       "      <th>hab</th>\n",
       "      <th>qua/hab</th>\n",
       "    </tr>\n",
       "  </thead>\n",
       "  <tbody>\n",
       "    <tr>\n",
       "      <th>118</th>\n",
       "      <td>Togo</td>\n",
       "      <td>0.1</td>\n",
       "      <td>0.0</td>\n",
       "      <td>0.0</td>\n",
       "      <td>12.0</td>\n",
       "      <td>84.5</td>\n",
       "      <td>3.5</td>\n",
       "      <td>0.0</td>\n",
       "      <td>45.7</td>\n",
       "      <td>6587239</td>\n",
       "      <td>3.010368e+06</td>\n",
       "      <td>3.321853e-08</td>\n",
       "    </tr>\n",
       "    <tr>\n",
       "      <th>12</th>\n",
       "      <td>Benin</td>\n",
       "      <td>0.2</td>\n",
       "      <td>0.0</td>\n",
       "      <td>0.0</td>\n",
       "      <td>99.5</td>\n",
       "      <td>0.0</td>\n",
       "      <td>0.5</td>\n",
       "      <td>0.0</td>\n",
       "      <td>34.1</td>\n",
       "      <td>9056010</td>\n",
       "      <td>3.088099e+06</td>\n",
       "      <td>6.476475e-08</td>\n",
       "    </tr>\n",
       "    <tr>\n",
       "      <th>35</th>\n",
       "      <td>Eritrea</td>\n",
       "      <td>0.4</td>\n",
       "      <td>0.0</td>\n",
       "      <td>0.0</td>\n",
       "      <td>99.5</td>\n",
       "      <td>0.0</td>\n",
       "      <td>0.5</td>\n",
       "      <td>0.0</td>\n",
       "      <td>45.8</td>\n",
       "      <td>5792984</td>\n",
       "      <td>2.653187e+06</td>\n",
       "      <td>1.507621e-07</td>\n",
       "    </tr>\n",
       "    <tr>\n",
       "      <th>84</th>\n",
       "      <td>Nepal</td>\n",
       "      <td>3.8</td>\n",
       "      <td>0.0</td>\n",
       "      <td>0.0</td>\n",
       "      <td>0.0</td>\n",
       "      <td>99.8</td>\n",
       "      <td>0.2</td>\n",
       "      <td>0.0</td>\n",
       "      <td>84.9</td>\n",
       "      <td>28951852</td>\n",
       "      <td>2.458012e+07</td>\n",
       "      <td>1.545965e-07</td>\n",
       "    </tr>\n",
       "    <tr>\n",
       "      <th>46</th>\n",
       "      <td>Haiti</td>\n",
       "      <td>1.0</td>\n",
       "      <td>0.0</td>\n",
       "      <td>0.0</td>\n",
       "      <td>91.3</td>\n",
       "      <td>8.7</td>\n",
       "      <td>0.0</td>\n",
       "      <td>0.0</td>\n",
       "      <td>37.9</td>\n",
       "      <td>9648924</td>\n",
       "      <td>3.656942e+06</td>\n",
       "      <td>2.734525e-07</td>\n",
       "    </tr>\n",
       "    <tr>\n",
       "      <th>...</th>\n",
       "      <td>...</td>\n",
       "      <td>...</td>\n",
       "      <td>...</td>\n",
       "      <td>...</td>\n",
       "      <td>...</td>\n",
       "      <td>...</td>\n",
       "      <td>...</td>\n",
       "      <td>...</td>\n",
       "      <td>...</td>\n",
       "      <td>...</td>\n",
       "      <td>...</td>\n",
       "      <td>...</td>\n",
       "    </tr>\n",
       "    <tr>\n",
       "      <th>65</th>\n",
       "      <td>Kuwait</td>\n",
       "      <td>65.1</td>\n",
       "      <td>0.0</td>\n",
       "      <td>33.7</td>\n",
       "      <td>66.3</td>\n",
       "      <td>0.0</td>\n",
       "      <td>0.0</td>\n",
       "      <td>0.0</td>\n",
       "      <td>100.0</td>\n",
       "      <td>2789132</td>\n",
       "      <td>2.789132e+06</td>\n",
       "      <td>2.334059e-05</td>\n",
       "    </tr>\n",
       "    <tr>\n",
       "      <th>90</th>\n",
       "      <td>Norway</td>\n",
       "      <td>141.6</td>\n",
       "      <td>0.1</td>\n",
       "      <td>1.8</td>\n",
       "      <td>0.0</td>\n",
       "      <td>96.0</td>\n",
       "      <td>1.7</td>\n",
       "      <td>0.0</td>\n",
       "      <td>100.0</td>\n",
       "      <td>5009150</td>\n",
       "      <td>5.009150e+06</td>\n",
       "      <td>2.826827e-05</td>\n",
       "    </tr>\n",
       "    <tr>\n",
       "      <th>8</th>\n",
       "      <td>Bahrain</td>\n",
       "      <td>27.3</td>\n",
       "      <td>0.0</td>\n",
       "      <td>100.0</td>\n",
       "      <td>0.0</td>\n",
       "      <td>0.0</td>\n",
       "      <td>0.0</td>\n",
       "      <td>0.0</td>\n",
       "      <td>100.0</td>\n",
       "      <td>738004</td>\n",
       "      <td>7.380040e+05</td>\n",
       "      <td>3.699167e-05</td>\n",
       "    </tr>\n",
       "    <tr>\n",
       "      <th>99</th>\n",
       "      <td>Qatar</td>\n",
       "      <td>38.7</td>\n",
       "      <td>0.0</td>\n",
       "      <td>100.0</td>\n",
       "      <td>0.0</td>\n",
       "      <td>0.0</td>\n",
       "      <td>0.0</td>\n",
       "      <td>0.0</td>\n",
       "      <td>100.0</td>\n",
       "      <td>840926</td>\n",
       "      <td>8.409260e+05</td>\n",
       "      <td>4.602070e-05</td>\n",
       "    </tr>\n",
       "    <tr>\n",
       "      <th>49</th>\n",
       "      <td>Iceland</td>\n",
       "      <td>18.1</td>\n",
       "      <td>0.0</td>\n",
       "      <td>0.0</td>\n",
       "      <td>0.0</td>\n",
       "      <td>71.0</td>\n",
       "      <td>28.9</td>\n",
       "      <td>0.0</td>\n",
       "      <td>100.0</td>\n",
       "      <td>308910</td>\n",
       "      <td>3.089100e+05</td>\n",
       "      <td>5.859312e-05</td>\n",
       "    </tr>\n",
       "  </tbody>\n",
       "</table>\n",
       "<p>134 rows × 12 columns</p>\n",
       "</div>"
      ],
      "text/plain": [
       "        pays  quantité  charbon    gaz  pétrole  hydraulique  renouvelable  \\\n",
       "118     Togo       0.1      0.0    0.0     12.0         84.5           3.5   \n",
       "12     Benin       0.2      0.0    0.0     99.5          0.0           0.5   \n",
       "35   Eritrea       0.4      0.0    0.0     99.5          0.0           0.5   \n",
       "84     Nepal       3.8      0.0    0.0      0.0         99.8           0.2   \n",
       "46     Haiti       1.0      0.0    0.0     91.3          8.7           0.0   \n",
       "..       ...       ...      ...    ...      ...          ...           ...   \n",
       "65    Kuwait      65.1      0.0   33.7     66.3          0.0           0.0   \n",
       "90    Norway     141.6      0.1    1.8      0.0         96.0           1.7   \n",
       "8    Bahrain      27.3      0.0  100.0      0.0          0.0           0.0   \n",
       "99     Qatar      38.7      0.0  100.0      0.0          0.0           0.0   \n",
       "49   Iceland      18.1      0.0    0.0      0.0         71.0          28.9   \n",
       "\n",
       "     nucléaire   %pop       pop           hab       qua/hab  \n",
       "118        0.0   45.7   6587239  3.010368e+06  3.321853e-08  \n",
       "12         0.0   34.1   9056010  3.088099e+06  6.476475e-08  \n",
       "35         0.0   45.8   5792984  2.653187e+06  1.507621e-07  \n",
       "84         0.0   84.9  28951852  2.458012e+07  1.545965e-07  \n",
       "46         0.0   37.9   9648924  3.656942e+06  2.734525e-07  \n",
       "..         ...    ...       ...           ...           ...  \n",
       "65         0.0  100.0   2789132  2.789132e+06  2.334059e-05  \n",
       "90         0.0  100.0   5009150  5.009150e+06  2.826827e-05  \n",
       "8          0.0  100.0    738004  7.380040e+05  3.699167e-05  \n",
       "99         0.0  100.0    840926  8.409260e+05  4.602070e-05  \n",
       "49         0.0  100.0    308910  3.089100e+05  5.859312e-05  \n",
       "\n",
       "[134 rows x 12 columns]"
      ]
     },
     "execution_count": 12,
     "metadata": {},
     "output_type": "execute_result"
    }
   ],
   "source": [
    "T.sort_values('qua/hab', inplace = True)\n",
    "T"
   ]
  },
  {
   "cell_type": "markdown",
   "metadata": {},
   "source": [
    "<span style=\"font-size:2em;font-weight:bold;padding-right: 30px;\"> d.</span> Exécuter le code suivant et interpréter le résultat obtenu."
   ]
  },
  {
   "cell_type": "code",
   "execution_count": 13,
   "metadata": {},
   "outputs": [
    {
     "data": {
      "text/plain": [
       "118        0.1\n",
       "12         0.3\n",
       "35         0.7\n",
       "84         4.5\n",
       "46         5.5\n",
       "        ...   \n",
       "65     22952.3\n",
       "90     23093.9\n",
       "8      23121.2\n",
       "99     23159.9\n",
       "49     23178.0\n",
       "Name: quantité, Length: 134, dtype: float64"
      ]
     },
     "execution_count": 13,
     "metadata": {},
     "output_type": "execute_result"
    }
   ],
   "source": [
    "T['quantité'].cumsum()"
   ]
  },
  {
   "cell_type": "markdown",
   "metadata": {},
   "source": [
    "<span style=\"font-size:2em;font-weight:bold;padding-right: 30px;\"> e.</span> L'instruction <code style=\"background-color:white;font-size:1.1em\">T['quantité'].sum()</code> calcule la somme des éléments de la colonne <b>quantité</b>.\n",
    "<blockquote style=\"border-left: 3px solid black;background-color:white;margin-left: 60px;\">\n",
    " Compléter l'instruction qui permet de créer la liste nommée <code style=\"background-color:white;font-size:1.1em\">Y</code> contenant les parts cummulées <em>(croissantes)</em> de la quantité d'électricité consommée par pays.\n",
    "</blockquote>"
   ]
  },
  {
   "cell_type": "code",
   "execution_count": 14,
   "metadata": {},
   "outputs": [],
   "source": [
    "Y = [0] + list(T['quantité'].cumsum() / T['quantité'].sum())"
   ]
  },
  {
   "cell_type": "markdown",
   "metadata": {},
   "source": [
    "<span style=\"font-size:2em;font-weight:bold;padding-right: 30px;\"> f.</span> Créer la liste nommée <code style=\"background-color:white;font-size:1.1em\">X</code> contenant les parts cummulées <em>(croissantes)</em> de la population concernée par pays."
   ]
  },
  {
   "cell_type": "code",
   "execution_count": 15,
   "metadata": {},
   "outputs": [],
   "source": [
    "X = [0] + list(T['hab'].cumsum() / T['hab'].sum())"
   ]
  },
  {
   "cell_type": "markdown",
   "metadata": {},
   "source": [
    "<span style=\"font-size:2em;font-weight:bold;padding-right: 30px;\"> g.</span> Exécuter le code suivant pour représenter la courbe de Lorenz associée aux listes <code style=\"background-color:white;font-size:1.1em\">X</code> et <code style=\"background-color:white;font-size:1.1em\">Y</code>."
   ]
  },
  {
   "cell_type": "code",
   "execution_count": 16,
   "metadata": {},
   "outputs": [
    {
     "data": {
      "image/png": "[encoded data removed]",
      "text/plain": [
       "<Figure size 432x432 with 1 Axes>"
      ]
     },
     "metadata": {
      "needs_background": "light"
     },
     "output_type": "display_data"
    }
   ],
   "source": [
    "pl.figure(figsize = (6, 6))\n",
    "pl.plot(X, Y, 'o-', \n",
    "        markerfacecolor = 'white', \n",
    "        color = 'darkgreen', markersize = 6, linewidth = 3)\n",
    "pl.plot([0, 1], [0, 1], color = 'red', linewidth = 3)\n",
    "pl.grid()"
   ]
  },
  {
   "cell_type": "markdown",
   "metadata": {},
   "source": [
    "Compléter.\n",
    "<blockquote style=\"border-left: 3px solid black;background-color:white;margin-left: 60px;\">\n",
    "<ul>\n",
    "    <li> 20 % des plus gros consommateurs utilise <span style=\"color:red\">$50\\,\\%$</span> de l'électricité mondiale.</li>\n",
    "    <li> 50 % des moins gros consommateurs utilise <span style=\"color:red\">$20\\,\\%$</span> de l'électricité mondiale.</li>\n",
    "    </ul>\n",
    "</blockquote>"
   ]
  },
  {
   "cell_type": "markdown",
   "metadata": {},
   "source": [
    "<span style=\"font-size:2em;font-weight:bold;padding-right: 30px;\"> h.</span> Calculer l'indice de Gini de la quantité d'électricité consommée dans le monde en 2015."
   ]
  },
  {
   "cell_type": "code",
   "execution_count": 17,
   "metadata": {},
   "outputs": [
    {
     "data": {
      "text/plain": [
       "0.45317091959506406"
      ]
     },
     "execution_count": 17,
     "metadata": {},
     "output_type": "execute_result"
    }
   ],
   "source": [
    "gini(X, Y)"
   ]
  },
  {
   "cell_type": "markdown",
   "metadata": {},
   "source": [
    "<span style=\"font-size:2em;font-weight:bold;padding-right: 30px;\"> 3.</span> <b>Inégalités de consommation d'électricité selon son origine</b>"
   ]
  },
  {
   "cell_type": "markdown",
   "metadata": {},
   "source": [
    "<div style='background-color:#DDD;padding:10px;border-left: 1rem solid'>\n",
    "    On représente ci-dessous, la courbe de Lorenz liée à la consommation d'électricité mondiale, selon son type. \n",
    "<p align=\"center\"><br><img src=\"https://raw.githubusercontent.com/lyceeHM/Terminale_Spe/master/Chap11/Consommation_mondiale_electricite.png\" width=\"60%\"></p>\n",
    "</div>"
   ]
  },
  {
   "cell_type": "markdown",
   "metadata": {},
   "source": [
    "<span style=\"font-size:2em;font-weight:bold;padding-right: 30px;\"> a.</span> Quelle est l'énergie la plus égalitairement utilisée dans le monde ?"
   ]
  },
  {
   "cell_type": "markdown",
   "metadata": {},
   "source": [
    "<div style='background-color:#DAF7A6;padding:10px;border-left: 4px solid;margin-left: 60px;'>\n",
    "    Le charbon\n",
    "</div>"
   ]
  },
  {
   "cell_type": "markdown",
   "metadata": {},
   "source": [
    "<span style=\"font-size:2em;font-weight:bold;padding-right: 30px;\"> b.</span> Quelle est l'énergie la plus inégalitairement utilisée dans le monde ?"
   ]
  },
  {
   "cell_type": "markdown",
   "metadata": {},
   "source": [
    "<div style='background-color:#DAF7A6;padding:10px;border-left: 4px solid;margin-left: 60px;'>\n",
    "    Le nucléaire\n",
    "</div>"
   ]
  },
  {
   "cell_type": "markdown",
   "metadata": {},
   "source": [
    "<span style=\"font-size:2em;font-weight:bold;padding-right: 30px;\"> c.</span> Calculer l'indice de Gini du nucléaire, <b>arrondi au millième</b>."
   ]
  },
  {
   "cell_type": "code",
   "execution_count": 18,
   "metadata": {},
   "outputs": [
    {
     "data": {
      "text/plain": [
       "0.8949351633653873"
      ]
     },
     "execution_count": 18,
     "metadata": {},
     "output_type": "execute_result"
    }
   ],
   "source": [
    "T['q'] = T['nucléaire'] / 100 * T['quantité']\n",
    "T['q/hab'] = T['q'] / T['hab']\n",
    "T.sort_values('q/hab', inplace = True)\n",
    "Y = [0] + list(T['q'].cumsum() / T['q'].sum())\n",
    "gini(X, Y)"
   ]
  },
  {
   "cell_type": "code",
   "execution_count": 19,
   "metadata": {},
   "outputs": [
    {
     "data": {
      "text/html": [
       "<div>\n",
       "<style scoped>\n",
       "    .dataframe tbody tr th:only-of-type {\n",
       "        vertical-align: middle;\n",
       "    }\n",
       "\n",
       "    .dataframe tbody tr th {\n",
       "        vertical-align: top;\n",
       "    }\n",
       "\n",
       "    .dataframe thead th {\n",
       "        text-align: right;\n",
       "    }\n",
       "</style>\n",
       "<table border=\"1\" class=\"dataframe\">\n",
       "  <thead>\n",
       "    <tr style=\"text-align: right;\">\n",
       "      <th></th>\n",
       "      <th>pays</th>\n",
       "      <th>quantité</th>\n",
       "      <th>charbon</th>\n",
       "      <th>gaz</th>\n",
       "      <th>pétrole</th>\n",
       "      <th>hydraulique</th>\n",
       "      <th>renouvelable</th>\n",
       "      <th>nucléaire</th>\n",
       "      <th>%pop</th>\n",
       "      <th>pop</th>\n",
       "      <th>hab</th>\n",
       "      <th>qua/hab</th>\n",
       "      <th>q</th>\n",
       "      <th>q/hab</th>\n",
       "    </tr>\n",
       "  </thead>\n",
       "  <tbody>\n",
       "    <tr>\n",
       "      <th>39</th>\n",
       "      <td>France</td>\n",
       "      <td>557.0</td>\n",
       "      <td>2.2</td>\n",
       "      <td>2.3</td>\n",
       "      <td>0.3</td>\n",
       "      <td>11.3</td>\n",
       "      <td>5.1</td>\n",
       "      <td>78.4</td>\n",
       "      <td>100.0</td>\n",
       "      <td>64768389</td>\n",
       "      <td>64768389.0</td>\n",
       "      <td>0.000009</td>\n",
       "      <td>436.688</td>\n",
       "      <td>0.000007</td>\n",
       "    </tr>\n",
       "  </tbody>\n",
       "</table>\n",
       "</div>"
      ],
      "text/plain": [
       "      pays  quantité  charbon  gaz  pétrole  hydraulique  renouvelable  \\\n",
       "39  France     557.0      2.2  2.3      0.3         11.3           5.1   \n",
       "\n",
       "    nucléaire   %pop       pop         hab   qua/hab        q     q/hab  \n",
       "39       78.4  100.0  64768389  64768389.0  0.000009  436.688  0.000007  "
      ]
     },
     "execution_count": 19,
     "metadata": {},
     "output_type": "execute_result"
    }
   ],
   "source": [
    "T.query('pays == \"France\"')"
   ]
  },
  {
   "cell_type": "code",
   "execution_count": 20,
   "metadata": {},
   "outputs": [
    {
     "data": {
      "text/html": [
       "<div>\n",
       "<style scoped>\n",
       "    .dataframe tbody tr th:only-of-type {\n",
       "        vertical-align: middle;\n",
       "    }\n",
       "\n",
       "    .dataframe tbody tr th {\n",
       "        vertical-align: top;\n",
       "    }\n",
       "\n",
       "    .dataframe thead th {\n",
       "        text-align: right;\n",
       "    }\n",
       "</style>\n",
       "<table border=\"1\" class=\"dataframe\">\n",
       "  <thead>\n",
       "    <tr style=\"text-align: right;\">\n",
       "      <th></th>\n",
       "      <th>pays</th>\n",
       "      <th>quantité</th>\n",
       "      <th>charbon</th>\n",
       "      <th>gaz</th>\n",
       "      <th>pétrole</th>\n",
       "      <th>hydraulique</th>\n",
       "      <th>renouvelable</th>\n",
       "      <th>nucléaire</th>\n",
       "      <th>%pop</th>\n",
       "      <th>pop</th>\n",
       "      <th>hab</th>\n",
       "      <th>qua/hab</th>\n",
       "      <th>q</th>\n",
       "      <th>q/hab</th>\n",
       "    </tr>\n",
       "  </thead>\n",
       "  <tbody>\n",
       "    <tr>\n",
       "      <th>11</th>\n",
       "      <td>Belgium</td>\n",
       "      <td>71.5</td>\n",
       "      <td>6.2</td>\n",
       "      <td>27.0</td>\n",
       "      <td>0.3</td>\n",
       "      <td>0.4</td>\n",
       "      <td>16.6</td>\n",
       "      <td>47.2</td>\n",
       "      <td>100.0</td>\n",
       "      <td>10403000</td>\n",
       "      <td>10403000.0</td>\n",
       "      <td>0.000007</td>\n",
       "      <td>33.7480</td>\n",
       "      <td>0.000003</td>\n",
       "    </tr>\n",
       "    <tr>\n",
       "      <th>114</th>\n",
       "      <td>Switzerland</td>\n",
       "      <td>70.1</td>\n",
       "      <td>0.0</td>\n",
       "      <td>0.7</td>\n",
       "      <td>0.1</td>\n",
       "      <td>54.3</td>\n",
       "      <td>3.8</td>\n",
       "      <td>39.3</td>\n",
       "      <td>100.0</td>\n",
       "      <td>7581000</td>\n",
       "      <td>7581000.0</td>\n",
       "      <td>0.000009</td>\n",
       "      <td>27.5493</td>\n",
       "      <td>0.000004</td>\n",
       "    </tr>\n",
       "    <tr>\n",
       "      <th>38</th>\n",
       "      <td>Finland</td>\n",
       "      <td>68.1</td>\n",
       "      <td>17.4</td>\n",
       "      <td>8.1</td>\n",
       "      <td>0.3</td>\n",
       "      <td>19.7</td>\n",
       "      <td>18.9</td>\n",
       "      <td>34.6</td>\n",
       "      <td>100.0</td>\n",
       "      <td>5244000</td>\n",
       "      <td>5244000.0</td>\n",
       "      <td>0.000013</td>\n",
       "      <td>23.5626</td>\n",
       "      <td>0.000004</td>\n",
       "    </tr>\n",
       "    <tr>\n",
       "      <th>39</th>\n",
       "      <td>France</td>\n",
       "      <td>557.0</td>\n",
       "      <td>2.2</td>\n",
       "      <td>2.3</td>\n",
       "      <td>0.3</td>\n",
       "      <td>11.3</td>\n",
       "      <td>5.1</td>\n",
       "      <td>78.4</td>\n",
       "      <td>100.0</td>\n",
       "      <td>64768389</td>\n",
       "      <td>64768389.0</td>\n",
       "      <td>0.000009</td>\n",
       "      <td>436.6880</td>\n",
       "      <td>0.000007</td>\n",
       "    </tr>\n",
       "    <tr>\n",
       "      <th>113</th>\n",
       "      <td>Sweden</td>\n",
       "      <td>153.6</td>\n",
       "      <td>0.6</td>\n",
       "      <td>0.3</td>\n",
       "      <td>0.2</td>\n",
       "      <td>41.5</td>\n",
       "      <td>14.3</td>\n",
       "      <td>42.3</td>\n",
       "      <td>100.0</td>\n",
       "      <td>9555893</td>\n",
       "      <td>9555893.0</td>\n",
       "      <td>0.000016</td>\n",
       "      <td>64.9728</td>\n",
       "      <td>0.000007</td>\n",
       "    </tr>\n",
       "  </tbody>\n",
       "</table>\n",
       "</div>"
      ],
      "text/plain": [
       "            pays  quantité  charbon   gaz  pétrole  hydraulique  renouvelable  \\\n",
       "11       Belgium      71.5      6.2  27.0      0.3          0.4          16.6   \n",
       "114  Switzerland      70.1      0.0   0.7      0.1         54.3           3.8   \n",
       "38       Finland      68.1     17.4   8.1      0.3         19.7          18.9   \n",
       "39        France     557.0      2.2   2.3      0.3         11.3           5.1   \n",
       "113       Sweden     153.6      0.6   0.3      0.2         41.5          14.3   \n",
       "\n",
       "     nucléaire   %pop       pop         hab   qua/hab         q     q/hab  \n",
       "11        47.2  100.0  10403000  10403000.0  0.000007   33.7480  0.000003  \n",
       "114       39.3  100.0   7581000   7581000.0  0.000009   27.5493  0.000004  \n",
       "38        34.6  100.0   5244000   5244000.0  0.000013   23.5626  0.000004  \n",
       "39        78.4  100.0  64768389  64768389.0  0.000009  436.6880  0.000007  \n",
       "113       42.3  100.0   9555893   9555893.0  0.000016   64.9728  0.000007  "
      ]
     },
     "execution_count": 20,
     "metadata": {},
     "output_type": "execute_result"
    }
   ],
   "source": [
    "T.tail()"
   ]
  },
  {
   "cell_type": "code",
   "execution_count": null,
   "metadata": {},
   "outputs": [],
   "source": []
  }
 ],
 "metadata": {
  "kernelspec": {
   "display_name": "Python 3",
   "language": "python",
   "name": "python3"
  },
  "language_info": {
   "codemirror_mode": {
    "name": "ipython",
    "version": 3
   },
   "file_extension": ".py",
   "mimetype": "text/x-python",
   "name": "python",
   "nbconvert_exporter": "python",
   "pygments_lexer": "ipython3",
   "version": "3.8.6"
  }
 },
 "nbformat": 4,
 "nbformat_minor": 4
}
