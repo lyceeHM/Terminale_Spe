{
 "cells": [
  {
   "cell_type": "markdown",
   "metadata": {},
   "source": [
    "<img src=\"https://raw.githubusercontent.com/lyceeHM/Terminale_Spe/master/python_lycee.png\">\n",
    "<div id=\"titre\">\n",
    "<h1 style=\"color:white;\n",
    "  font-family:Comic Sans MS;\n",
    "  font-size:3em;\n",
    "  background-color:black;\n",
    "  text-align:center;\n",
    "  padding:5px\">Inégalités de la consommation d'électricité mondiale</h1>\n",
    "<div style=\"font-family:Comic Sans MS; background-color:#888;box-shadow: 8px 8px 0px #aaa; text-align:center; width: 50%; color:white\">TSPE : Chapitres 11</div>\n",
    "</div>"
   ]
  },
  {
   "cell_type": "markdown",
   "metadata": {},
   "source": [
    "<h1 style=\"font-family:Comic Sans MS;color:white;background-color:#B9B9B9;text-align:center\"> <span style=\"font-size:2em;font-weight:bold;padding-right: 60px;color:black;\"> A.</span> Indice de Gini à travers un exemple</h1>"
   ]
  },
  {
   "cell_type": "markdown",
   "metadata": {},
   "source": [
    "<div style='background-color:#DDD;padding:10px;border-left: 1rem solid'>\n",
    "Des billes sont réparties parmi un groupe d'enfants comme suit :\n",
    "<table style=\"border-width:2px;border-style:solid;border-color:black;border-collapse:collapse;\">\n",
    "   <tr style=\"border:2px solid black;\">\n",
    "       <td style=\"border:2px solid black;text-align:center;width:50px\"><b>Enfants</b></td>\n",
    "       <td style=\"border:2px solid black;text-align:center;\"><b>Billes</b></td>\n",
    "       <td style=\"border:2px solid black;text-align:center;\"><b>Billes/enfant</b></td>\n",
    "   </tr>\n",
    "    <tr>\n",
    "       <td style=\"border:2px solid black;text-align:center;\">5</td>\n",
    "        <td style=\"border:2px solid black;text-align:center;\">20</td>\n",
    "        <td style=\"border:2px solid black;text-align:center;\"></td>\n",
    "   </tr>\n",
    "    <tr>\n",
    "       <td style=\"border:2px solid black;text-align:center;\">15</td>\n",
    "        <td style=\"border:2px solid black;text-align:center;\">15</td>\n",
    "        <td style=\"border:2px solid black;text-align:center;\"></td>\n",
    "   </tr>\n",
    "    <tr>\n",
    "       <td style=\"border:2px solid black;text-align:center;\">20</td>\n",
    "        <td style=\"border:2px solid black;text-align:center;\">50</td>\n",
    "        <td style=\"border:2px solid black;text-align:center;\"></td>\n",
    "   </tr>\n",
    "    <tr>\n",
    "       <td style=\"border:2px solid black;text-align:center;\">10</td>\n",
    "        <td style=\"border:2px solid black;text-align:center;\">15</td>\n",
    "        <td style=\"border:2px solid black;text-align:center;\"></td>\n",
    "   </tr>\n",
    "</table>\n",
    "Objectifs :\n",
    "    <ul>\n",
    "        <li><b>Déterminer si la répartition des billes est-elle égalitaire.</b></li>\n",
    "         <li><b>Mesurer le défaut d'égalité de répartition des billes auprès des enfants.</b></li>\n",
    "    </ul>\n",
    "</div>"
   ]
  },
  {
   "cell_type": "markdown",
   "metadata": {},
   "source": [
    "<span style=\"font-size:2em;font-weight:bold;padding-right: 30px;\"> 1.</span> Compléter le tableau ci-dessous après avoir trier par ordre <b>croissant</b> selon la colonne <b>Billes/enfant</b>. \n",
    "<table style=\"border-width:2px;border-style:solid;border-color:black;border-collapse:collapse;\">\n",
    "   <tr style=\"border:2px solid black;\">\n",
    "       <td style=\"border:2px solid black;text-align:center;width:50px\"><b>Enfants</b></td>\n",
    "       <td style=\"border:2px solid black;text-align:center;\"><b>Billes</b></td>\n",
    "       <td style=\"border:2px solid black;text-align:center;\"><b>Billes/enfant</b></td>\n",
    "   </tr>\n",
    "    <tr>\n",
    "       <td style=\"border:2px solid black;text-align:center;\">0</td>\n",
    "        <td style=\"border:2px solid black;text-align:center;\">0</td>\n",
    "        <td style=\"border:2px solid black;text-align:center;background-color:black\"></td>\n",
    "   </tr>\n",
    "    <tr>\n",
    "       <td style=\"border:2px solid black;text-align:center;\">$\\ldots$</td>\n",
    "        <td style=\"border:2px solid black;text-align:center;\">$\\ldots$</td>\n",
    "        <td style=\"border:2px solid black;text-align:center;\">$\\ldots$</td>\n",
    "   </tr>\n",
    "    <tr>\n",
    "       <td style=\"border:2px solid black;text-align:center;\">$\\ldots$</td>\n",
    "        <td style=\"border:2px solid black;text-align:center;\">$\\ldots$</td>\n",
    "        <td style=\"border:2px solid black;text-align:center;\">$\\ldots$</td>\n",
    "   </tr>\n",
    "    <tr>\n",
    "       <td style=\"border:2px solid black;text-align:center;\">$\\ldots$</td>\n",
    "        <td style=\"border:2px solid black;text-align:center;\">$\\ldots$</td>\n",
    "        <td style=\"border:2px solid black;text-align:center;\">$\\ldots$</td>\n",
    "   </tr>\n",
    "    <tr>\n",
    "       <td style=\"border:2px solid black;text-align:center;\">$\\ldots$</td>\n",
    "        <td style=\"border:2px solid black;text-align:center;\">$\\ldots$</td>\n",
    "        <td style=\"border:2px solid black;text-align:center;\">$\\ldots$</td>\n",
    "   </tr>\n",
    "</table>"
   ]
  },
  {
   "cell_type": "markdown",
   "metadata": {},
   "source": [
    "<span style=\"font-size:2em;font-weight:bold;padding-right: 30px;\"> 2.</span> Au tableau précédent, ajouter : \n",
    "<ul>\n",
    "    <li> la colonne <b>PCE</b> qui contient les Parts Cumulées croissantes des enfants</li>\n",
    "    <li> la colonne <b>PCB</b> qui contient les Parts Cumulées croissantes des Billes</li>\n",
    "</ul>\n",
    "<table style=\"border-width:2px;border-style:solid;border-color:black;border-collapse:collapse;\">\n",
    "   <tr style=\"border:2px solid black;\">\n",
    "       <td style=\"border:2px solid black;text-align:center;width:50px\"><b>Enfants</b></td>\n",
    "       <td style=\"border:2px solid black;text-align:center;\"><b>Billes</b></td>\n",
    "       <td style=\"border:2px solid black;text-align:center;\"><b>Billes/enfant</b></td>\n",
    "       <td style=\"border:2px solid black;text-align:center;\"><b>PCE</b></td>\n",
    "       <td style=\"border:2px solid black;text-align:center;\"><b>PCB</b></td>\n",
    "   </tr>\n",
    "    <tr>\n",
    "       <td style=\"border:2px solid black;text-align:center;\">0</td>\n",
    "        <td style=\"border:2px solid black;text-align:center;\">0</td>\n",
    "        <td style=\"border:2px solid black;text-align:center;background-color:black\"></td>\n",
    "        <td style=\"border:2px solid black;text-align:center;\">0</td>\n",
    "        <td style=\"border:2px solid black;text-align:center;\">0</td>\n",
    "   </tr>\n",
    "    <tr>\n",
    "       <td style=\"border:2px solid black;text-align:center;\">$\\ldots$</td>\n",
    "        <td style=\"border:2px solid black;text-align:center;\">$\\ldots$</td>\n",
    "        <td style=\"border:2px solid black;text-align:center;\">$\\ldots$</td>\n",
    "        <td style=\"border:2px solid black;text-align:center;\">$\\ldots$</td>\n",
    "        <td style=\"border:2px solid black;text-align:center;\">$\\ldots$</td>\n",
    "   </tr>\n",
    "    <tr>\n",
    "       <td style=\"border:2px solid black;text-align:center;\">$\\ldots$</td>\n",
    "        <td style=\"border:2px solid black;text-align:center;\">$\\ldots$</td>\n",
    "        <td style=\"border:2px solid black;text-align:center;\">$\\ldots$</td>\n",
    "        <td style=\"border:2px solid black;text-align:center;\">$\\ldots$</td>\n",
    "        <td style=\"border:2px solid black;text-align:center;\">$\\ldots$</td>\n",
    "   </tr>\n",
    "    <tr>\n",
    "       <td style=\"border:2px solid black;text-align:center;\">$\\ldots$</td>\n",
    "        <td style=\"border:2px solid black;text-align:center;\">$\\ldots$</td>\n",
    "        <td style=\"border:2px solid black;text-align:center;\">$\\ldots$</td>\n",
    "        <td style=\"border:2px solid black;text-align:center;\">$\\ldots$</td>\n",
    "        <td style=\"border:2px solid black;text-align:center;\">$\\ldots$</td>\n",
    "   </tr>\n",
    "    <tr>\n",
    "       <td style=\"border:2px solid black;text-align:center;\">$\\ldots$</td>\n",
    "        <td style=\"border:2px solid black;text-align:center;\">$\\ldots$</td>\n",
    "        <td style=\"border:2px solid black;text-align:center;\">$\\ldots$</td>\n",
    "        <td style=\"border:2px solid black;text-align:center;\">$\\ldots$</td>\n",
    "        <td style=\"border:2px solid black;text-align:center;\">$\\ldots$</td>\n",
    "   </tr>\n",
    "</table>"
   ]
  },
  {
   "cell_type": "markdown",
   "metadata": {},
   "source": [
    "<span style=\"font-size:2em;font-weight:bold;padding-right: 30px;\"> 3.</span> La répartition des billes est-elle égalitaire ? "
   ]
  },
  {
   "cell_type": "markdown",
   "metadata": {},
   "source": [
    "<span style=\"font-size:2em;font-weight:bold;padding-right: 30px;\"> 4.</span> <b>Représentation du défaut d'égalité de répartition des billes</b>"
   ]
  },
  {
   "cell_type": "markdown",
   "metadata": {},
   "source": [
    "<span style=\"font-size:2em;font-weight:bold;padding-right: 30px;\"> a.</span> Stocker dans \n",
    "<blockquote style=\"border-left: 3px solid black;background-color:white;margin-left: 60px;\">\n",
    "<ul>\n",
    "    <li> <code style=\"background-color:white;font-size:1.1em\">X</code> la liste des parts cumulées croissantes des enfants</li>\n",
    "    <li> <code style=\"background-color:white;font-size:1.1em\">Y</code> la liste des parts cumulées croissantes des billes</li>\n",
    "    </ul>\n",
    "</blockquote>"
   ]
  },
  {
   "cell_type": "code",
   "execution_count": null,
   "metadata": {},
   "outputs": [],
   "source": [
    "X = \n",
    "Y = "
   ]
  },
  {
   "cell_type": "markdown",
   "metadata": {},
   "source": [
    "<span style=\"font-size:2em;font-weight:bold;padding-right: 30px;\"> b.</span> Exécuter le code suivant :"
   ]
  },
  {
   "cell_type": "code",
   "execution_count": null,
   "metadata": {},
   "outputs": [],
   "source": [
    "import pandas as pa\n",
    "import pylab as pl\n",
    "\n",
    "pl.figure(figsize = (6, 6))\n",
    "pl.plot(X, Y, 'o-', markerfacecolor = 'white', \n",
    "        color = 'darkgreen', markersize = 8, linewidth = 3)\n",
    "pl.plot([0, 1], [0, 1], color = 'red', linewidth = 3)\n",
    "pl.grid()"
   ]
  },
  {
   "cell_type": "markdown",
   "metadata": {},
   "source": [
    "<span style=\"font-size:2em;font-weight:bold;padding-right: 30px;\"> c.</span> La courbe verte, appelée <span style=\"color:green\"><b>courbe de Lorenz</b></span>, représente une fonction $f$ affine par morceaux sur $\\left[0\\,;\\,1\\right]$. \n",
    "<p align=\"center\"><br><img src=\"https://raw.githubusercontent.com/lyceeHM/Terminale_Spe/master/Chap11/Gini_billes_1.png\" width=\"60%\"></p>\n",
    "Compléter.\n",
    "<blockquote style=\"border-left: 3px solid black;background-color:white;margin-left: 60px;\">\n",
    "<ul>\n",
    "    <li> A partir du point $A_2$, 50 % des enfants les moins équipés possèdent  $\\ldots$ % des billes.</li>\n",
    "    <li> A partir du point $A_3$, $\\ldots$ % des enfants les mieux équipés possèdent  20 % des billes.</li>\n",
    "    <li> Dans le cas d'une répartition égalitaire des billes, le point de la courbe de Lorenz d'abscisse $0,25$ aurait comme ordonnée $\\ldots$.</li>\n",
    "    </ul>\n",
    "</blockquote>\n",
    "<span style=\"font-size:2em;font-weight:bold;padding-right: 30px;\"> d.</span> Dans le cas d’une répartition  égalitaire des billes, comment serait la courbe de Lorenz ?"
   ]
  },
  {
   "cell_type": "markdown",
   "metadata": {},
   "source": [
    "<span style=\"font-size:2em;font-weight:bold;padding-right: 30px;\"> 5.</span> <b>Propriétés de $\\mathscr{C}_f$</b>"
   ]
  },
  {
   "cell_type": "markdown",
   "metadata": {},
   "source": [
    "<span style=\"font-size:2em;font-weight:bold;padding-right: 30px;\"> a.</span> Quel est le coefficient directeur du segment de droite $\\left[A_0\\,;\\,A_1\\right]$ ?\n",
    "<br><span style=\"font-size:2em;font-weight:bold;padding-right: 30px;color:white\"> a.</span> Quel est le coefficient directeur du segment de droite $\\left[A_1\\,;\\,A_2\\right]$ ?\n",
    "<br>\n",
    "<span style=\"font-size:2em;font-weight:bold;padding-right: 30px;color:white\"> a.</span> Compléter :\n",
    "<blockquote style=\"border-left: 3px solid black;background-color:white;margin-left: 60px;\">\n",
    "<span style=\"font-size:2em\">&laquo;</span> La pente du segment de droite $\\left[A_i\\,;\\,A_{i+1}\\right]$ est ............... du nombre moyen de billes par enfant<span style=\"font-size:2em\">&raquo;</span>"
   ]
  },
  {
   "cell_type": "markdown",
   "metadata": {},
   "source": [
    "<span style=\"font-size:2em;font-weight:bold;padding-right: 30px;\"> b.</span> Déterminer la convexité de $f$."
   ]
  },
  {
   "cell_type": "markdown",
   "metadata": {},
   "source": [
    "<span style=\"font-size:2em;font-weight:bold;padding-right: 30px;\"> c.</span> En déduire la position de la courbe de Lorenz par rapport au segment de droite $y=x$. "
   ]
  },
  {
   "cell_type": "markdown",
   "metadata": {},
   "source": [
    "<span style=\"font-size:2em;font-weight:bold;padding-right: 30px;\"> 6.</span> <b>Mesure du défaut de répartition des billes auprès des enfants</b>"
   ]
  },
  {
   "cell_type": "markdown",
   "metadata": {},
   "source": [
    "<div style='background-color:#DDD;padding:10px;border-left: 1rem solid'>\n",
    "    L'indice de <b>Gini</b> est par définition égal à $2\\times \\text{Aire hachurée}$ représentée ci-dessous :\n",
    "<p align=\"center\"><br><img src=\"https://raw.githubusercontent.com/lyceeHM/Terminale_Spe/master/Chap11/Gini_billes_2.png\" width=\"60%\"></p>\n",
    "</div>"
   ]
  },
  {
   "cell_type": "markdown",
   "metadata": {},
   "source": [
    "<span style=\"font-size:2em;font-weight:bold;padding-right: 30px;\"> a.</span> Dans quelle situation cet indice serait-il nul ? "
   ]
  },
  {
   "cell_type": "markdown",
   "metadata": {},
   "source": [
    "<span style=\"font-size:2em;font-weight:bold;padding-right: 30px;\"> b.</span> Compléter : <span style=\"font-size:2em\">&laquo;</span> plus la répartition est inégalitaire, plus cet indice approche $\\ldots$. <span style=\"font-size:2em\">&raquo;</span>"
   ]
  },
  {
   "cell_type": "markdown",
   "metadata": {},
   "source": [
    "<span style=\"font-size:2em;font-weight:bold;padding-right: 30px;\"> c.</span> Considérons un trapèze de petite base <b>b</b>, de grande base <b>B</b> et de hauteur <b>h</b>.\n",
    "<br><span style=\"font-size:2em;font-weight:bold;padding-right: 30px;color:white\"> c.</span> Ecrire la fonction nommée <b>trapeze</b> de paramètres <code style=\"background-color:white;font-size:1.1em\">b</code>, <code style=\"background-color:white;font-size:1.1em\">B</code> et <code style=\"background-color:white;font-size:1.1em\">h</code> <em>(les dimensions d'un trapèze)</em> qui renvoie son aire."
   ]
  },
  {
   "cell_type": "code",
   "execution_count": null,
   "metadata": {},
   "outputs": [],
   "source": [
    "# Code"
   ]
  },
  {
   "cell_type": "markdown",
   "metadata": {},
   "source": [
    "<span style=\"font-size:2em;font-weight:bold;padding-right: 30px;\"> d.</span> Utiliser <b>trapeze</b> pour calculer :\n",
    "<blockquote style=\"border-left: 3px solid black;background-color:white;margin-left: 60px;\">\n",
    "<ul>\n",
    "    <li> l'aire du triangle bleu.</li>\n",
    "    <li> l'aire du trapèze orange </li>\n",
    "</ul>\n",
    "</blockquote>"
   ]
  },
  {
   "cell_type": "code",
   "execution_count": null,
   "metadata": {},
   "outputs": [],
   "source": [
    "# Code"
   ]
  },
  {
   "cell_type": "code",
   "execution_count": null,
   "metadata": {},
   "outputs": [],
   "source": [
    "# Code"
   ]
  },
  {
   "cell_type": "markdown",
   "metadata": {},
   "source": [
    "<span style=\"font-size:2em;font-weight:bold;padding-right: 30px;\"> e.</span> Compléter la fonction nommée <b>trapezes</b> de paramètres <code style=\"background-color:white;font-size:1.1em\">X</code> et <code style=\"background-color:white;font-size:1.1em\">Y</code> <em>(respectivement la liste des abscisses puis celles des ordonnées d'une courbe de Lorenz)</em> qui renvoie l'aire totale des trapèzes associés à la courbe de Lorenz :"
   ]
  },
  {
   "cell_type": "code",
   "execution_count": null,
   "metadata": {},
   "outputs": [],
   "source": [
    "def trapezes(X, Y):\n",
    "    T = 0\n",
    "    for k in range(len(X) - 1):\n",
    "        T = .....................\n",
    "    return T"
   ]
  },
  {
   "cell_type": "markdown",
   "metadata": {},
   "source": [
    "<span style=\"font-size:2em;font-weight:bold;padding-right: 30px;\"> f.</span> Créer la fonction nommée <b>gini</b> de paramètres les listes <code style=\"background-color:white;font-size:1.1em\">X</code> et <code style=\"background-color:white;font-size:1.1em\">Y</code> et renvoie son indice de Gini. "
   ]
  },
  {
   "cell_type": "code",
   "execution_count": null,
   "metadata": {},
   "outputs": [],
   "source": [
    "# Code"
   ]
  },
  {
   "cell_type": "markdown",
   "metadata": {},
   "source": [
    "<span style=\"font-size:2em;font-weight:bold;padding-right: 30px;color:white\"> a.</span> Ici l'indice de Gini vaut :"
   ]
  },
  {
   "cell_type": "code",
   "execution_count": null,
   "metadata": {},
   "outputs": [],
   "source": [
    "# Code"
   ]
  },
  {
   "cell_type": "markdown",
   "metadata": {},
   "source": [
    "<h1 style=\"font-family:Comic Sans MS;color:white;background-color:#B9B9B9;text-align:center\"> <span style=\"font-size:2em;font-weight:bold;padding-right: 60px;color:black;\"> B.</span> Consommation de l'électricité dans le monde</h1>"
   ]
  },
  {
   "cell_type": "markdown",
   "metadata": {},
   "source": [
    "<div style='background-color:#DDD;padding:10px;border-left: 1rem solid'>\n",
    "    L'accès à l'électricité dans le monde n'est pas chose aisée.\n",
    "    <p align=\"center\"><br><img src=\"https://encrypted-tbn0.gstatic.com/images?q=tbn:ANd9GcSpaJjqvvf3LTnuKBuINmtrrJybRS031MdHIQ&usqp=CAU\"\n",
    "        width=\"40%\"></p>\n",
    "    <br> Le fichier <code style=\"background-color:#DDD;font-size:1.1em\">'electricite.csv'</code> provenant de <em><strong><a href=\"http://wdi.worldbank.org/table/3.7\" style=\"color:red\" target=\"_blank\">(lien)</a></strong></em> recense tout particulièrement, pour chacun pays en 2015 : \n",
    "    <ul>\n",
    "        <li>son nom, la quantité annuelle d'électricité consommée <em>(en billions de kilowatt/heure)</em> </li>\n",
    "        <li>la distribution des origines : <span style=\"color:darkgreen\"><b>charbon</b></span>, <span style=\"color:darkgreen\"><b>gaz</b></span>, <span style=\"color:darkgreen\"><b>pétrole</b></span>, <span style=\"color:darkgreen\"><b>hydraulique</b></span>, <span style=\"color:darkgreen\"><b>renouvelable</b></span>, <span style=\"color:darkgreen\"><b>nucléaire</b></span></li>\n",
    "        <li>le pourcentage d'accès à l'électricité et la population concernée</li>\n",
    "    </ul>\n",
    "</div>"
   ]
  },
  {
   "cell_type": "markdown",
   "metadata": {},
   "source": [
    "<span style=\"font-size:2em;font-weight:bold;padding-right: 30px;\"> 1.</span> Exécuter le code suivant pour créer la table <code style=\"background-color:white;font-size:1.1em\">T</code> associée au jeu de données."
   ]
  },
  {
   "cell_type": "code",
   "execution_count": 5,
   "metadata": {},
   "outputs": [],
   "source": [
    "import requests\n",
    "from io import StringIO\n",
    "\n",
    "response = requests.get(\"https://raw.githubusercontent.com/lyceeHM/Terminale_Spe/master/Chap11/electricite.csv\")"
   ]
  },
  {
   "cell_type": "code",
   "execution_count": 7,
   "metadata": {},
   "outputs": [
    {
     "ename": "AttributeError",
     "evalue": "'Response' object has no attribute 'decode'",
     "output_type": "error",
     "traceback": [
      "\u001b[0;31m---------------------------------------------------------------------------\u001b[0m",
      "\u001b[0;31mAttributeError\u001b[0m                            Traceback (most recent call last)",
      "\u001b[0;32m<ipython-input-7-5911789ebea5>\u001b[0m in \u001b[0;36m<module>\u001b[0;34m\u001b[0m\n\u001b[1;32m      1\u001b[0m \u001b[0;32mimport\u001b[0m \u001b[0mpandas\u001b[0m \u001b[0;32mas\u001b[0m \u001b[0mpd\u001b[0m\u001b[0;34m\u001b[0m\u001b[0;34m\u001b[0m\u001b[0m\n\u001b[1;32m      2\u001b[0m \u001b[0;34m\u001b[0m\u001b[0m\n\u001b[0;32m----> 3\u001b[0;31m \u001b[0mdf\u001b[0m \u001b[0;34m=\u001b[0m \u001b[0mpd\u001b[0m\u001b[0;34m.\u001b[0m\u001b[0mread_csv\u001b[0m\u001b[0;34m(\u001b[0m\u001b[0mStringIO\u001b[0m\u001b[0;34m(\u001b[0m\u001b[0mresponse\u001b[0m\u001b[0;34m.\u001b[0m\u001b[0mdecode\u001b[0m\u001b[0;34m(\u001b[0m\u001b[0;34m)\u001b[0m\u001b[0;34m)\u001b[0m\u001b[0;34m)\u001b[0m\u001b[0;34m\u001b[0m\u001b[0;34m\u001b[0m\u001b[0m\n\u001b[0m\u001b[1;32m      4\u001b[0m \u001b[0;34m\u001b[0m\u001b[0m\n\u001b[1;32m      5\u001b[0m \u001b[0mdf\u001b[0m\u001b[0;34m\u001b[0m\u001b[0;34m\u001b[0m\u001b[0m\n",
      "\u001b[0;31mAttributeError\u001b[0m: 'Response' object has no attribute 'decode'"
     ]
    }
   ],
   "source": [
    "import pandas as pa\n",
    "\n",
    "T = pa.read_csv(StringIO(response.decode()))\n",
    "\n",
    "T"
   ]
  },
  {
   "cell_type": "code",
   "execution_count": null,
   "metadata": {},
   "outputs": [],
   "source": [
    "import pandas as pa\n",
    "import pylab as pl\n",
    "\n",
    "T = pa.read_csv('electricite.csv')\n",
    "T"
   ]
  },
  {
   "cell_type": "markdown",
   "metadata": {},
   "source": [
    "<span style=\"font-size:2em;font-weight:bold;padding-right: 30px;\"> 2.</span> <b>Inégalités de consommation d'électicité</b>"
   ]
  },
  {
   "cell_type": "markdown",
   "metadata": {},
   "source": [
    "<span style=\"font-size:2em;font-weight:bold;padding-right: 30px;\"> a.</span> Compléter le code suivant pour ajouter à la table <code style=\"background-color:white;font-size:1.1em\">T</code> la colonne nommée <b>hab</b> contenant le nombre d'habitants ayant accès à l'électricité pour chaque pays renseigné."
   ]
  },
  {
   "cell_type": "code",
   "execution_count": null,
   "metadata": {},
   "outputs": [],
   "source": [
    "T['hab'] = T['%pop'] / 100 * T['....']"
   ]
  },
  {
   "cell_type": "markdown",
   "metadata": {},
   "source": [
    "<span style=\"font-size:2em;font-weight:bold;padding-right: 30px;\"> b.</span> Ajouter à la table <code style=\"background-color:white;font-size:1.1em\">T</code> la colonne <b>qua/hab</b> qui contient pour chaque pays la quantité annuelle d'électricité consommée par habitant."
   ]
  },
  {
   "cell_type": "code",
   "execution_count": null,
   "metadata": {},
   "outputs": [],
   "source": [
    "T['qua/hab'] = ......"
   ]
  },
  {
   "cell_type": "markdown",
   "metadata": {},
   "source": [
    "<span style=\"font-size:2em;font-weight:bold;padding-right: 30px;\"> c.</span> Exécuter le code suivant pour trier la table <code style=\"background-color:white;font-size:1.1em\">T</code> par ordre croissant selon la colonne <b>qua/hab</b>."
   ]
  },
  {
   "cell_type": "code",
   "execution_count": null,
   "metadata": {},
   "outputs": [],
   "source": [
    "T.sort_values('qua/hab', inplace = True)"
   ]
  },
  {
   "cell_type": "markdown",
   "metadata": {},
   "source": [
    "<span style=\"font-size:2em;font-weight:bold;padding-right: 30px;\"> d.</span> Exécuter le code suivant et interpréter le résultat obtenu."
   ]
  },
  {
   "cell_type": "code",
   "execution_count": null,
   "metadata": {},
   "outputs": [],
   "source": [
    "T['quantité'].cumsum()"
   ]
  },
  {
   "cell_type": "markdown",
   "metadata": {},
   "source": [
    "<span style=\"font-size:2em;font-weight:bold;padding-right: 30px;\"> e.</span> L'instruction <code style=\"background-color:white;font-size:1.1em\">T['quantité'].sum()</code> calcule la somme des éléments de la colonne <b>quantité</b>.\n",
    "<blockquote style=\"border-left: 3px solid black;background-color:white;margin-left: 60px;\">\n",
    " Compléter l'instruction qui permet de créer la liste nommée <code style=\"background-color:white;font-size:1.1em\">Y</code> contenant les parts cummulées <em>(croissantes)</em> de la quantité d'électricité consommée par pays.\n",
    "</blockquote>"
   ]
  },
  {
   "cell_type": "code",
   "execution_count": null,
   "metadata": {},
   "outputs": [],
   "source": [
    "Y = [0] + list(T['quantité'].cumsum() / ......)"
   ]
  },
  {
   "cell_type": "markdown",
   "metadata": {},
   "source": [
    "<span style=\"font-size:2em;font-weight:bold;padding-right: 30px;\"> f.</span> Créer la liste nommée <code style=\"background-color:white;font-size:1.1em\">X</code> contenant les parts cummulées <em>(croissantes)</em> de la population concernée par pays."
   ]
  },
  {
   "cell_type": "code",
   "execution_count": null,
   "metadata": {},
   "outputs": [],
   "source": [
    "X = [0] + list(......)"
   ]
  },
  {
   "cell_type": "markdown",
   "metadata": {},
   "source": [
    "<span style=\"font-size:2em;font-weight:bold;padding-right: 30px;\"> g.</span> Exécuter le code suivant pour représenter la courbe de Lorenz associée aux listes <code style=\"background-color:white;font-size:1.1em\">X</code> et <code style=\"background-color:white;font-size:1.1em\">Y</code>."
   ]
  },
  {
   "cell_type": "code",
   "execution_count": null,
   "metadata": {},
   "outputs": [],
   "source": [
    "pl.figure(figsize = (6, 6))\n",
    "pl.plot(X, Y, 'o-', markerfacecolor = 'white', \n",
    "        color = 'darkgreen', markersize = 6, linewidth = 3)\n",
    "pl.plot([0, 1], [0, 1], color = 'red', linewidth = 3)\n",
    "pl.grid()"
   ]
  },
  {
   "cell_type": "markdown",
   "metadata": {},
   "source": [
    "Compléter.\n",
    "<blockquote style=\"border-left: 3px solid black;background-color:white;margin-left: 60px;\">\n",
    "<ul>\n",
    "    <li> 20 % des plus gros consommateurs utilise $\\ldots$ % de l'électricité mondiale.</li>\n",
    "    <li> 50 % des moins gros consommateurs utilise $\\ldots$ % de l'électricité mondiale.</li>\n",
    "    </ul>\n",
    "</blockquote>"
   ]
  },
  {
   "cell_type": "markdown",
   "metadata": {},
   "source": [
    "<span style=\"font-size:2em;font-weight:bold;padding-right: 30px;\"> h.</span> Calculer l'indice de Gini de la quantité d'électricité consommée dans le monde en 2015."
   ]
  },
  {
   "cell_type": "code",
   "execution_count": null,
   "metadata": {},
   "outputs": [],
   "source": [
    "gini(X, Y)"
   ]
  },
  {
   "cell_type": "markdown",
   "metadata": {},
   "source": [
    "<span style=\"font-size:2em;font-weight:bold;padding-right: 30px;\"> 3.</span> <b>Inégalités de consommation d'électricité selon son origine</b>"
   ]
  },
  {
   "cell_type": "markdown",
   "metadata": {},
   "source": [
    "<div style='background-color:#DDD;padding:10px;border-left: 1rem solid'>\n",
    "    On représente ci-dessous, la courbe de Lorenz liée à la consommation d'électricité mondiale, selon son type. \n",
    "<p align=\"center\"><br><img src=\"https://raw.githubusercontent.com/lyceeHM/Terminale_Spe/master/Chap11/Consommation_mondiale_electricite.png\" width=\"60%\"></p>\n",
    "</div>"
   ]
  },
  {
   "cell_type": "markdown",
   "metadata": {},
   "source": [
    "<span style=\"font-size:2em;font-weight:bold;padding-right: 30px;\"> a.</span> Quelle est l'énergie la plus égalitairement utilisée dans le monde ?"
   ]
  },
  {
   "cell_type": "markdown",
   "metadata": {},
   "source": [
    "<span style=\"font-size:2em;font-weight:bold;padding-right: 30px;\"> b.</span> Quelle est l'énergie la plus inégalitairement utilisée dans le monde ?"
   ]
  },
  {
   "cell_type": "markdown",
   "metadata": {},
   "source": [
    "<span style=\"font-size:2em;font-weight:bold;padding-right: 30px;\"> c.</span> Calculer l'indice de Gini du nucléaire, <b>arrondi au millième</b>."
   ]
  },
  {
   "cell_type": "code",
   "execution_count": null,
   "metadata": {},
   "outputs": [],
   "source": []
  }
 ],
 "metadata": {
  "kernelspec": {
   "display_name": "Python 3",
   "language": "python",
   "name": "python3"
  },
  "language_info": {
   "codemirror_mode": {
    "name": "ipython",
    "version": 3
   },
   "file_extension": ".py",
   "mimetype": "text/x-python",
   "name": "python",
   "nbconvert_exporter": "python",
   "pygments_lexer": "ipython3",
   "version": "3.8.6"
  }
 },
 "nbformat": 4,
 "nbformat_minor": 4
}
