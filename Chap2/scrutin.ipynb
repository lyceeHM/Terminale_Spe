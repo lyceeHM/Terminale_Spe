{
 "cells": [
  {
   "cell_type": "code",
   "execution_count": null,
   "metadata": {},
   "outputs": [],
   "source": [
    "from random import choice\n",
    "\n",
    "def depouillement(n, p):\n",
    "    voix = ['A'] * n + ['B'] * p\n",
    "    nA = 0\n",
    "    nB = 0\n",
    "    for k in range(n + p):\n",
    "        bulletin = choice(...)\n",
    "        voix.remove(bulletin)\n",
    "        if bulletin == 'A':\n",
    "            nA = ...\n",
    "        else:\n",
    "            nB = ...\n",
    "        if nA ... nB:\n",
    "            return 0\n",
    "    return 1"
   ]
  },
  {
   "cell_type": "code",
   "execution_count": null,
   "metadata": {},
   "outputs": [],
   "source": []
  }
 ],
 "metadata": {
  "kernelspec": {
   "display_name": "Python 3",
   "language": "python",
   "name": "python3"
  },
  "language_info": {
   "codemirror_mode": {
    "name": "ipython",
    "version": 3
   },
   "file_extension": ".py",
   "mimetype": "text/x-python",
   "name": "python",
   "nbconvert_exporter": "python",
   "pygments_lexer": "ipython3",
   "version": "3.8.6"
  }
 },
 "nbformat": 4,
 "nbformat_minor": 4
}
