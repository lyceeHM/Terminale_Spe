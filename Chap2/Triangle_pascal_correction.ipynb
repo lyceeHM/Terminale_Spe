{
 "cells": [
  {
   "cell_type": "markdown",
   "metadata": {},
   "source": [
    "<img src=\"https://raw.githubusercontent.com/lyceeHM/Terminale_Spe/master/python_lycee.png\">\n",
    "<div id=\"titre\">\n",
    "<h1 style=\"color:white;\n",
    "  font-family:Comic Sans MS;\n",
    "  font-size:3em;\n",
    "  background-color:black;\n",
    "  text-align:center;\n",
    "  padding:5px\">Triangle de Pascal</h1>\n",
    "<div style=\"font-family:Comic Sans MS; background-color:#888;box-shadow: 8px 8px 0px #aaa; text-align:center; width: 50%; color:white\">TSPE : Chapitre 2 - Combinatoire & Dénombrement</div>\n",
    "</div>"
   ]
  },
  {
   "cell_type": "markdown",
   "metadata": {},
   "source": [
    "<div style=\"color:black;font-weight:bold\"> <span style=\"font-size:4em\">A </span> <span style=\"font-family:Comic Sans MS;font-size:2em;color:white;background-color:gray;text-align:center\"> Triangle de Pascal</span></div> "
   ]
  },
  {
   "cell_type": "markdown",
   "metadata": {},
   "source": [
    "<div style=\"color:black;font-size:2em;font-weight:bold\">Rappel :</div>\n",
    "<blockquote style=\"border-left: 3px solid black;background-color:white\">\n",
    "<img src=\"http://maths.bro.free.fr/Files/triangle_pascal.png\" width=450px>\n",
    "    Animation : \n",
    "<img src=\"https://www.geogebra.org/resource/vf3usjq7/anPHEha4kpN3QpwV/material-vf3usjq7.png\" width=300px>\n",
    "</blockquote>"
   ]
  },
  {
   "cell_type": "markdown",
   "metadata": {},
   "source": [
    "<span style=\"font-size:2em;font-weight:bold\">1.</span> <span style=\"font-size:1.5em;font-weight:bold\">a.</span> Créer la liste <code style=\"background-color:white\">T = [[1], [1, 1]]</code>"
   ]
  },
  {
   "cell_type": "code",
   "execution_count": 1,
   "metadata": {},
   "outputs": [
    {
     "data": {
      "text/plain": [
       "[[1], [1, 1]]"
      ]
     },
     "execution_count": 1,
     "metadata": {},
     "output_type": "execute_result"
    }
   ],
   "source": [
    "T = [[1], [1, 1]]\n",
    "T"
   ]
  },
  {
   "cell_type": "markdown",
   "metadata": {},
   "source": [
    "<span style=\"font-size:1.5em;font-weight:bold\">b.</span> Quelle instruction permet d'accéder à la deuxième liste de <code style=\"background-color:white\">T</code> ?"
   ]
  },
  {
   "cell_type": "code",
   "execution_count": 2,
   "metadata": {},
   "outputs": [
    {
     "data": {
      "text/plain": [
       "[1, 1]"
      ]
     },
     "execution_count": 2,
     "metadata": {},
     "output_type": "execute_result"
    }
   ],
   "source": [
    "T[1]"
   ]
  },
  {
   "cell_type": "markdown",
   "metadata": {},
   "source": [
    "<span style=\"font-size:1.5em;font-weight:bold\">c.</span> Interpréter chaque coefficient de liste suivante : "
   ]
  },
  {
   "cell_type": "code",
   "execution_count": 3,
   "metadata": {},
   "outputs": [
    {
     "data": {
      "text/plain": [
       "[1, 2, 1]"
      ]
     },
     "execution_count": 3,
     "metadata": {},
     "output_type": "execute_result"
    }
   ],
   "source": [
    "[1] + [T[1][0] + T[1][1]] + [1]"
   ]
  },
  {
   "cell_type": "markdown",
   "metadata": {},
   "source": [
    "<blockquote style=\"border-left: 3px solid black;background-color:white\"> \n",
    "        <div style=\"text-align:center\"> $\\left[\\dbinom{2}{0}\\,,\\,\\dbinom{2}{1}\\,,\\,\\dbinom{2}{2}\\right]$</div>\n",
    "        </blockquote>"
   ]
  },
  {
   "cell_type": "markdown",
   "metadata": {},
   "source": [
    "<span style=\"font-size:2em;font-weight:bold\">2.</span> Considérons La fonction <code style=\"background-color:white\">pascal</code> de paramètre <code style=\"background-color:white\">n</code> qui renvoie la liste des lignes $0$ à $n$ associées au triangle de Pascal.\n",
    "<ul> \n",
    "    <li> Au départ la liste <code style=\"background-color:white\">T</code> contient <code style=\"background-color:white\">[[1], [1, 1]]</code>.\n",
    "    <blockquote style=\"border-left: 3px solid black;background-color:white\">\n",
    "    <ul>\n",
    "        <li><code style=\"background-color:white\">T[0] = [1]</code> <i>(c'est la ligne $0$ du triangle de Pascal)</i></li>\n",
    "        <li><code style=\"background-color:white\">T[1] = [1, 1]</code> <i>(c'est la ligne $1$ du triangle de Pascal)</i></li>\n",
    "    </ul>\n",
    "        </blockquote>\n",
    "        </li>\n",
    "    <li> Pour $i$ allant de $2$ à $n$, on ajoute à <code style=\"background-color:white\">T</code> la ligne $i$ du triangle de Pascal, à partir de la ligne $i-1$. \n",
    "        <blockquote style=\"border-left: 3px solid black;background-color:white\">\n",
    "         Autrement dit, pour chaque $i$,  on ajoute à <code style=\"background-color:white\">T</code> : \n",
    "        <div style=\"text-align:center\"> <code style=\"background-color:white\">T[i]</code> qui correspond à <code style=\"background-color:white\">[1]</code> + $\\left[\\dbinom{i}{1}\\,,\\,\\ldots\\,,\\,\\dbinom{i}{k}\\,,\\,\\ldots\\,,\\,\\dbinom{i}{i-1}\\right]$ + <code style=\"background-color:white\">[1]</code></div>\n",
    "        </blockquote>\n",
    "        </li>\n",
    "</ul>  "
   ]
  },
  {
   "cell_type": "code",
   "execution_count": 4,
   "metadata": {},
   "outputs": [],
   "source": [
    "def pascal(n):\n",
    "    T = [[1], [1, 1]]\n",
    "    for i in range(2, n + 1):\n",
    "        T.append([1] + [T[i - 1][k - 1] + T[i - 1][k] for k in range(1, i)] + [1])\n",
    "    return T"
   ]
  },
  {
   "cell_type": "markdown",
   "metadata": {},
   "source": [
    "<span style=\"font-size:2em;font-weight:bold\">3.</span> <b>Un triangle binaire de Pascal</b>\n",
    "<br><span style=\"font-size:1.5em;font-weight:bold\">a.</span> Exécuter la fonction <code style=\"background-color:white\">pascal_bin</code> pour <code style=\"background-color:white\">n</code> = 4, puis <code style=\"background-color:white\">n</code> = 15"
   ]
  },
  {
   "cell_type": "code",
   "execution_count": 5,
   "metadata": {},
   "outputs": [],
   "source": [
    "def pascal_bin(n):\n",
    "    T = pascal(n)\n",
    "    for ligne in T:\n",
    "        s = ''\n",
    "        for coef in ligne:\n",
    "            s = s + str(coef % 2) +' '\n",
    "        print(format(s, '^81'))"
   ]
  },
  {
   "cell_type": "code",
   "execution_count": 6,
   "metadata": {},
   "outputs": [
    {
     "name": "stdout",
     "output_type": "stream",
     "text": [
      "                                       1                                         \n",
      "                                      1 1                                        \n",
      "                                     1 0 1                                       \n",
      "                                    1 1 1 1                                      \n",
      "                                   1 0 0 0 1                                     \n"
     ]
    }
   ],
   "source": [
    "pascal_bin(4)"
   ]
  },
  {
   "cell_type": "code",
   "execution_count": 7,
   "metadata": {},
   "outputs": [
    {
     "name": "stdout",
     "output_type": "stream",
     "text": [
      "                                       1                                         \n",
      "                                      1 1                                        \n",
      "                                     1 0 1                                       \n",
      "                                    1 1 1 1                                      \n",
      "                                   1 0 0 0 1                                     \n",
      "                                  1 1 0 0 1 1                                    \n",
      "                                 1 0 1 0 1 0 1                                   \n",
      "                                1 1 1 1 1 1 1 1                                  \n",
      "                               1 0 0 0 0 0 0 0 1                                 \n",
      "                              1 1 0 0 0 0 0 0 1 1                                \n",
      "                             1 0 1 0 0 0 0 0 1 0 1                               \n",
      "                            1 1 1 1 0 0 0 0 1 1 1 1                              \n",
      "                           1 0 0 0 1 0 0 0 1 0 0 0 1                             \n",
      "                          1 1 0 0 1 1 0 0 1 1 0 0 1 1                            \n",
      "                         1 0 1 0 1 0 1 0 1 0 1 0 1 0 1                           \n",
      "                        1 1 1 1 1 1 1 1 1 1 1 1 1 1 1 1                          \n"
     ]
    }
   ],
   "source": [
    "pascal_bin(15)"
   ]
  },
  {
   "cell_type": "markdown",
   "metadata": {},
   "source": [
    "<span style=\"font-size:1.5em;font-weight:bold\">b.</span> Quel est le rôle de la fonction <code style=\"background-color:white\">pascal_bin</code> ?\n",
    "<blockquote style=\"border-left: 3px solid black;background-color:white\"> \n",
    "    <ul>\n",
    "        <li><code style=\"background-color:white\">pascal_bin</code> permet d'afficher les lignes $0$, $1$, jusque $n$ du triangle de Pascal en substituant chaque coefficient binomial par le reste de sa division euclidienne par $2$.</li>\n",
    "        <li> D'un coup d'oeil, on voit la distribution des coefficients binomiaux pairs <i>(par $0$)</i> et impairs <i>(par $1$)</i>.</li>\n",
    "    </ul>\n",
    "</blockquote>"
   ]
  },
  {
   "cell_type": "markdown",
   "metadata": {},
   "source": [
    "<span style=\"font-size:2em;font-weight:bold\">4.</span> <b>Vers le triangle de Siepinski</b>"
   ]
  },
  {
   "cell_type": "markdown",
   "metadata": {},
   "source": [
    "<span style=\"font-size:1.5em;font-weight:bold\">a.</span> Exécuter le code suivant."
   ]
  },
  {
   "cell_type": "code",
   "execution_count": 8,
   "metadata": {},
   "outputs": [],
   "source": [
    "import numpy as np\n",
    "import matplotlib.pyplot as plt\n",
    "import matplotlib as mpl\n",
    "import matplotlib.transforms as mtransforms\n",
    "\n",
    "def pascal_bis(n):\n",
    "    T = pascal(n)\n",
    "    for i in range(len(T)):\n",
    "        T[i] = [c % 2 for c in T[i]] + [np.nan] * (n - i)\n",
    "    return np.array(T)\n",
    "\n",
    "def triangle(n):\n",
    "    M = np.array(pascal_bis(n))\n",
    "\n",
    "    fig, ax = plt.subplots(figsize = (9, 9))\n",
    "    ax.set_xlim(-1, n + 1)\n",
    "    ax.axis('off')\n",
    "\n",
    "    im = ax.imshow(M, cmap = mpl.colors.ListedColormap([\"white\", \"black\"]), aspect = 'auto')\n",
    "\n",
    "    angle = np.arctan(1/2)\n",
    "    xtrans = n * np.tan(angle)\n",
    "    im.set_transform(mtransforms.Affine2D().skew(-angle, 0).translate(xtrans, 0) + ax.transData)\n",
    "    plt.show()"
   ]
  },
  {
   "cell_type": "markdown",
   "metadata": {},
   "source": [
    "<span style=\"font-size:1.5em;font-weight:bold\">b.</span> Exécuter la fonction <code style=\"background-color:white\">triangle</code> pour $n = 2^5-1$"
   ]
  },
  {
   "cell_type": "code",
   "execution_count": 9,
   "metadata": {},
   "outputs": [
    {
     "data": {
      "image/png": "[encoded data removed]",
      "text/plain": [
       "<Figure size 648x648 with 1 Axes>"
      ]
     },
     "metadata": {
      "needs_background": "light"
     },
     "output_type": "display_data"
    }
   ],
   "source": [
    "triangle(2 ** 5 - 1)"
   ]
  },
  {
   "cell_type": "markdown",
   "metadata": {},
   "source": [
    "<span style=\"font-size:1.5em;font-weight:bold\">c.</span> Exécuter la fonction <code style=\"background-color:white\">triangle</code> pour $n = 2^{9}-1$"
   ]
  },
  {
   "cell_type": "code",
   "execution_count": 10,
   "metadata": {},
   "outputs": [
    {
     "data": {
      "image/png": "[encoded data removed]",
      "text/plain": [
       "<Figure size 648x648 with 1 Axes>"
      ]
     },
     "metadata": {
      "needs_background": "light"
     },
     "output_type": "display_data"
    }
   ],
   "source": [
    "triangle(2 ** 9 - 1)"
   ]
  },
  {
   "cell_type": "markdown",
   "metadata": {},
   "source": [
    "Visiter le lien suivant https://fr.wikipedia.org/wiki/Triangle_de_Sierpiński"
   ]
  },
  {
   "cell_type": "markdown",
   "metadata": {},
   "source": [
    "<div style=\"color:black;font-weight:bold\"> <span style=\"font-size:4em\">B </span> <span style=\"font-family:Comic Sans MS;font-size:2em;color:white;background-color:gray;text-align:center\"> Binome de Newton</span> "
   ]
  },
  {
   "cell_type": "markdown",
   "metadata": {},
   "source": [
    "<div style=\"color:black;font-size:2em;font-weight:bold\">Objectif :</div>\n",
    "<blockquote style=\"border-left: 3px solid black;background-color:white\">\n",
    "Quels que soient les réels $a$ et $b$ pour $n\\in\\mathbb{N}$, on souhaite développer $$\\left(a+b\\right)^n$$\n",
    "</blockquote>"
   ]
  },
  {
   "cell_type": "markdown",
   "metadata": {},
   "source": [
    "<span style=\"font-size:2em;font-weight:bold\">1.</span> Exécuter les cellules suivantes."
   ]
  },
  {
   "cell_type": "code",
   "execution_count": 11,
   "metadata": {},
   "outputs": [],
   "source": [
    "from sympy import *\n",
    "\n",
    "n, a, b = symbols('n a b')"
   ]
  },
  {
   "cell_type": "code",
   "execution_count": 12,
   "metadata": {},
   "outputs": [
    {
     "name": "stdout",
     "output_type": "stream",
     "text": [
      "1\n",
      "\n",
      "\n",
      "a + b\n",
      "\n",
      "\n",
      " 2            2\n",
      "a  + 2⋅a⋅b + b \n",
      "\n",
      "\n",
      " 3      2          2    3\n",
      "a  + 3⋅a ⋅b + 3⋅a⋅b  + b \n",
      "\n",
      "\n",
      " 4      3        2  2        3    4\n",
      "a  + 4⋅a ⋅b + 6⋅a ⋅b  + 4⋅a⋅b  + b \n",
      "\n",
      "\n"
     ]
    }
   ],
   "source": [
    "for n in range(5):\n",
    "    pprint(expand((a + b) ** n))\n",
    "    print('\\n')"
   ]
  },
  {
   "cell_type": "markdown",
   "metadata": {},
   "source": [
    "<span style=\"font-size:2em;font-weight:bold\">2.</span> Conjecturer la formule dite du binôme de Newton.\n",
    "<blockquote style=\"border-left: 3px solid black;background-color:white\"> $$\\left(a+b\\right)^n=\\sum_{k=0}^n\\dbinom{n}{k} a^kb^{n-k}$$\n",
    "</blockquote> "
   ]
  },
  {
   "cell_type": "markdown",
   "metadata": {},
   "source": [
    "<span style=\"font-size:2em;font-weight:bold\">3.</span> Démontrer cette formule par récurrence.\n",
    "<br>\n",
    "<blockquote style=\"border-left: 3px solid black;background-color:white\">\n",
    "Soit $\\mathscr{P}_n$ : &#xAB; $\\displaystyle{\\left(a+b\\right)^n=\\sum_{k=0}^n\\dbinom{n}{k} a^kb^{n-k}}$ &#187; \n",
    "<ul>\n",
    "    <li><b><u>Initialisation :</u></b>\n",
    "        <ul>\n",
    "            <li>$\\left(a+b\\right)^{0}=1$</li>\n",
    "            <li>$\\displaystyle{\\sum_{k=0}^0\\dbinom{n}{k} a^kb^{n-k}}=a^0b^0=1$</li>\n",
    "        </ul>\n",
    "        Donc $\\displaystyle{\\left(a+b\\right)^0=\\sum_{k=0}^0\\dbinom{n}{k} a^kb^{n-k}}$ et $\\mathscr{P}_0$ est vraie.\n",
    "    </li>\n",
    "    <li><b><u>Hérédité :</u></b> Supposons que $\\mathscr{P}_n$ est vraie et démontrons alors que $\\mathscr{P}_{n+1}$ l'est aussi.  \n",
    "        $$\\begin{array}{ccll}\n",
    "\\left(a+b\\right)^{n} & = & \\left(a+b\\right)^{n}\\left(a+b\\right)\\\\\n",
    " & = & \\sum_{k=0}^{n}\\dbinom{n}{k}a^{k}b^{n-k}\\left(a+b\\right) & \\text{, cf. HR}\\\\\n",
    " & = & \\sum_{k=0}^{n}\\dbinom{n}{k}a^{k+1}b^{n-k}+\\sum_{k=0}^{n}\\dbinom{n}{k}a^{k}b^{n+1-k} & \\text{, on réécrit la première somme}\\\\\n",
    " & = & \\underbrace{\\sum_{k=1}^{n+1}\\dbinom{n}{k-1}a^{k}b^{n+1-k}}_{\\boxed{1}}+\\underbrace{\\sum_{k=0}^{n}\\dbinom{n}{k}a^{k}b^{n+1-k}}_{\\boxed{2}}\\\\\n",
    " & = & \\underbrace{a^{n+1}+\\sum_{k=1}^{n}\\dbinom{n}{k-1}a^{k}b^{n+1-k}}_{\\boxed{1}}+\\underbrace{b^{n+1}+\\sum_{k=1}^{n}\\dbinom{n}{k}a^{k}b^{n+1-k}}_{\\boxed{2}}\\\\\n",
    " & = & b^{n+1}+\\sum_{k=1}^{n}\\left(\\dbinom{n}{k-1}+\\dbinom{n}{k}\\right)a^{k}b^{n+1-k}+a^{n+1} & \\text{, par la formule de Pascal}\\\\\n",
    " & = & b^{n+1}+\\sum_{k=1}^{n}\\dbinom{n+1}{k}a^{k}b^{n+1-k}+a^{n+1}\\\\\n",
    " & = & \\dbinom{n+1}{0}a^{n+1}b^{n+1-0}+\\sum_{k=1}^{n}\\dbinom{n+1}{k}a^{k}b^{n+1-k}+\\dbinom{n+1}{n+1}a^{n+1}b^{n+1-\\left(n+1\\right)}\\\\\n",
    " & = & \\sum_{k=0}^{n+1}\\dbinom{n+1}{k}a^{k}b^{n+1-k}\n",
    "\\end{array}$$\n",
    "    </li>\n",
    "    <li><b><u>Conclusion :</u></b>  $\\mathscr{P}_0$ est vraie et $\\mathscr{P}_n$ est héréditaire, donc par <b>récurrence</b> $\\mathscr{P}_n$ ets vraie pour tout $n\\in\\mathbb{N}$.\n",
    "    </li>\n",
    "</ul>\n",
    "</blockquote>"
   ]
  }
 ],
 "metadata": {
  "kernelspec": {
   "display_name": "Python 3",
   "language": "python",
   "name": "python3"
  },
  "language_info": {
   "codemirror_mode": {
    "name": "ipython",
    "version": 3
   },
   "file_extension": ".py",
   "mimetype": "text/x-python",
   "name": "python",
   "nbconvert_exporter": "python",
   "pygments_lexer": "ipython3",
   "version": "3.8.6"
  }
 },
 "nbformat": 4,
 "nbformat_minor": 2
}
