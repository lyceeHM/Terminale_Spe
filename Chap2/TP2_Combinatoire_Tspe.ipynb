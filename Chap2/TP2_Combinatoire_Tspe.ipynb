{
 "cells": [
  {
   "cell_type": "markdown",
   "metadata": {},
   "source": [
    "<div id=\"titre\">\n",
    "<h1 style=\"color:white;\n",
    "  font-family:Comic Sans MS;\n",
    "  font-size:3em;\n",
    "  background-color:#D0573B;\n",
    "  text-align:center;\n",
    "  padding:10px\">Combinatoire - Dénombrement</h1>\n",
    "<div style=\"font-family:Comic Sans MS; background-color:black;box-shadow: 8px 8px 0px #aaa; text-align:center; width: 50%; color:white\">TP 2  - Terminale</div>\n",
    "</div>"
   ]
  },
  {
   "cell_type": "markdown",
   "metadata": {},
   "source": [
    "<h1 style=\"font-family:Comic Sans MS;color:white;background-color:black;text-align:center\"> Exercice 1 : <i>Tirage aléatoire d'une permuation</i></h1>"
   ]
  },
  {
   "cell_type": "markdown",
   "metadata": {},
   "source": [
    "<span style='color:white;font-weight:bold;background-color:black;width:12px;padding: 2px;font-size:20px'>1.</span> <b>Exemple</b>"
   ]
  },
  {
   "cell_type": "markdown",
   "metadata": {},
   "source": [
    "<span style='color:white;font-weight:bold;background-color:#F0573B;padding: 2px;font-size:20px'>a.</span>  Donner le nombre de permutations de l'ensemble $E=\\left\\{ 1\\,,\\,2\\,,\\,3\\right\\}$, puis les lister."
   ]
  },
  {
   "cell_type": "markdown",
   "metadata": {},
   "source": [
    "<span style='color:white;font-weight:bold;background-color:#F0573B;padding: 2px;font-size:20px'>b.</span> Exécuter les deux cellules qui suivent et donner le rôle de l'instruction <b>pop</b>."
   ]
  },
  {
   "cell_type": "code",
   "execution_count": 1,
   "metadata": {},
   "outputs": [
    {
     "data": {
      "text/plain": [
       "4"
      ]
     },
     "execution_count": 1,
     "metadata": {},
     "output_type": "execute_result"
    }
   ],
   "source": [
    "L = [1, 3, 4, 8]\n",
    "L.pop(2)"
   ]
  },
  {
   "cell_type": "code",
   "execution_count": 2,
   "metadata": {},
   "outputs": [
    {
     "data": {
      "text/plain": [
       "[1, 3, 8]"
      ]
     },
     "execution_count": 2,
     "metadata": {},
     "output_type": "execute_result"
    }
   ],
   "source": [
    "L"
   ]
  },
  {
   "cell_type": "markdown",
   "metadata": {},
   "source": [
    "<span style='color:white;font-weight:bold;background-color:#F0573B;padding: 2px;font-size:20px'>c.</span> Donner le résultat de l'instruction suivante, sans l'exécuter :\n",
    "```python \n",
    "pop(1)\n",
    "```"
   ]
  },
  {
   "cell_type": "markdown",
   "metadata": {},
   "source": [
    "<span style='color:white;font-weight:bold;background-color:#F0573B;padding: 2px;font-size:20px'>c.</span> On propose la fonction nommée <b>perm</b>, sans paramètre. "
   ]
  },
  {
   "cell_type": "code",
   "execution_count": 3,
   "metadata": {},
   "outputs": [],
   "source": [
    "from random import randint\n",
    "\n",
    "def perm():\n",
    "    E = list(range(1, 4))\n",
    "    L = []\n",
    "    for i in range(3):\n",
    "        j = randint(0, len(E) - 1)\n",
    "        L.append(E[j])\n",
    "        E.pop(j)\n",
    "    return L"
   ]
  },
  {
   "cell_type": "markdown",
   "metadata": {},
   "source": [
    "<b>Rappel python : </b>\n",
    "<blockquote style=\"border-left: 2px solid black;background-color:lightblue\">\n",
    "<b>randint</b> est une fonction du module <b>random</b> :\n",
    "\n",
    "```python\n",
    "randint(a, b)     # choisit aléatoirement un entier compris entre a et b\n",
    "```\n",
    "</blockquote>"
   ]
  },
  {
   "cell_type": "markdown",
   "metadata": {},
   "source": [
    "- Exécuter cette fonction 10 fois de suite à l'aide d'une instruction."
   ]
  },
  {
   "cell_type": "code",
   "execution_count": 4,
   "metadata": {},
   "outputs": [
    {
     "name": "stdout",
     "output_type": "stream",
     "text": [
      "[3, 1, 2]\n",
      "[2, 3, 1]\n",
      "[3, 1, 2]\n",
      "[2, 1, 3]\n",
      "[1, 3, 2]\n",
      "[1, 2, 3]\n",
      "[1, 2, 3]\n",
      "[3, 2, 1]\n",
      "[3, 2, 1]\n",
      "[2, 1, 3]\n"
     ]
    }
   ],
   "source": [
    "for k in range(10):\n",
    "    print(perm())"
   ]
  },
  {
   "cell_type": "markdown",
   "metadata": {},
   "source": [
    "- Quels sont les résultats possibles renvoyés par <b>perm</b> ?"
   ]
  },
  {
   "cell_type": "markdown",
   "metadata": {},
   "source": [
    "<span style='color:white;font-weight:bold;background-color:black;width:12px;padding: 2px;font-size:20px'>2.</span> <b>Généralisation</b>"
   ]
  },
  {
   "cell_type": "markdown",
   "metadata": {},
   "source": [
    "<span style='color:white;font-weight:bold;background-color:#F0573B;padding: 2px;font-size:20px'>a.</span> Ecrire une fonction nommée <b>perm_alea</b> de paramètre $n$ <i>(un entier naturel non nul)</i> qui génère aléatoirement une permutation de l'ensemble $E=\\left\\{ 1\\,,\\,2\\,,\\,\\ldots\\,,\\,n\\right\\}$"
   ]
  },
  {
   "cell_type": "code",
   "execution_count": 5,
   "metadata": {},
   "outputs": [],
   "source": [
    "def perm_alea(n):\n",
    "    E = list(range(1, n + 1))\n",
    "    L = []\n",
    "    for i in range(n):\n",
    "        j = randint(0, len(E) - 1)\n",
    "        L.append(E[j])\n",
    "        E.pop(j)\n",
    "    return L"
   ]
  },
  {
   "cell_type": "code",
   "execution_count": 6,
   "metadata": {},
   "outputs": [
    {
     "data": {
      "text/plain": [
       "[5, 2, 4, 1, 3]"
      ]
     },
     "execution_count": 6,
     "metadata": {},
     "output_type": "execute_result"
    }
   ],
   "source": [
    "perm_alea(5)"
   ]
  },
  {
   "cell_type": "markdown",
   "metadata": {},
   "source": [
    "<span style='color:white;font-weight:bold;background-color:#F0573B;padding: 2px;font-size:20px'>b.</span> Ecrire une fonction nommée <b>arran_alea</b> de paramètres : \n",
    "<ul>\n",
    "    <li> $p$ <i>(entier vérifiant $0\\leqslant p\\leqslant n$)</i></li>\n",
    "    <li> $n$ <i>(un entier naturel non nul)</i></li> \n",
    "</ul>\n",
    "Elle génère aléatoirement un p-arrangement de l'ensemble $E=\\left\\{ 1\\,,\\,2\\,,\\,\\ldots\\,,\\,n\\right\\}$ "
   ]
  },
  {
   "cell_type": "code",
   "execution_count": 7,
   "metadata": {},
   "outputs": [],
   "source": [
    "def arran_alea(p, n):\n",
    "    E = list(range(1, n+1))\n",
    "    L = []\n",
    "    for i in range(p):\n",
    "        j = randint(0, len(E) - 1)\n",
    "        L.append(E[j])\n",
    "        E.pop(j)\n",
    "    return L"
   ]
  },
  {
   "cell_type": "markdown",
   "metadata": {},
   "source": [
    "La tester pour obtenir un 3-arrangement d'un ensemble $E$ à $5$ éléments."
   ]
  },
  {
   "cell_type": "code",
   "execution_count": 8,
   "metadata": {},
   "outputs": [
    {
     "data": {
      "text/plain": [
       "[1, 4, 2]"
      ]
     },
     "execution_count": 8,
     "metadata": {},
     "output_type": "execute_result"
    }
   ],
   "source": [
    "arran_alea(3, 5)"
   ]
  },
  {
   "cell_type": "markdown",
   "metadata": {},
   "source": [
    "<h1 style=\"font-family:Comic Sans MS;color:white;background-color:black;text-align:center\"> Exercice 2 : <i>Génération de toutes les parties à $p$ éléments</i></h1>"
   ]
  },
  {
   "cell_type": "markdown",
   "metadata": {},
   "source": [
    "<span style='color:white;font-weight:bold;background-color:black;width:12px;padding: 2px;font-size:20px'>1.</span> <b>Parties de 2 éléments d'un ensemble</b>"
   ]
  },
  {
   "cell_type": "markdown",
   "metadata": {},
   "source": [
    "<span style='color:white;font-weight:bold;background-color:#F0573B;padding: 2px;font-size:20px'>a.</span> Combien y-a-t-il de parties à $2$ éléments de l'ensemble $E=\\left\\{ 1\\,,\\,2\\,,\\,3\\,,\\,4\\right\\}$.\n",
    "Lister les."
   ]
  },
  {
   "cell_type": "markdown",
   "metadata": {},
   "source": [
    "<span style='color:white;font-weight:bold;background-color:#F0573B;padding: 2px;font-size:20px'>b.</span> Compléter l'instruction en pointillé pour que la fonction ci-dessous renvoie la liste des parties à 2 éléments de l'ensemble $E=\\left\\{ 1\\,,\\,2\\,,\\,\\ldots\\,,\\,n\\right\\}$."
   ]
  },
  {
   "cell_type": "code",
   "execution_count": 9,
   "metadata": {},
   "outputs": [],
   "source": [
    "def parties(n):\n",
    "    E = list(range(1, n+1))\n",
    "    L = []\n",
    "    for i in range(n):\n",
    "        for j in range(i+1, n+1):\n",
    "            L.append([i, j])\n",
    "    return L"
   ]
  },
  {
   "cell_type": "markdown",
   "metadata": {},
   "source": [
    "Vérifier si votre réponse est bonne."
   ]
  },
  {
   "cell_type": "code",
   "execution_count": 10,
   "metadata": {},
   "outputs": [
    {
     "data": {
      "text/plain": [
       "[[0, 1],\n",
       " [0, 2],\n",
       " [0, 3],\n",
       " [0, 4],\n",
       " [1, 2],\n",
       " [1, 3],\n",
       " [1, 4],\n",
       " [2, 3],\n",
       " [2, 4],\n",
       " [3, 4]]"
      ]
     },
     "execution_count": 10,
     "metadata": {},
     "output_type": "execute_result"
    }
   ],
   "source": [
    "parties(4)"
   ]
  },
  {
   "cell_type": "markdown",
   "metadata": {},
   "source": [
    "<span style='color:white;font-weight:bold;background-color:black;width:12px;padding: 2px;font-size:20px'>2.</span> En modifiant la fonction précédente, écrire la fonction nommée <b>parties3</b> qui renvoie la liste des parties à 3 éléments de l'ensemble $E=\\left\\{ 1\\,,\\,2\\,,\\,\\ldots\\,,\\,n\\right\\}$."
   ]
  },
  {
   "cell_type": "code",
   "execution_count": 11,
   "metadata": {},
   "outputs": [],
   "source": [
    "def parties3(n):\n",
    "    E = list(range(1, n+1))\n",
    "    L = []\n",
    "    for i in range(n):\n",
    "        for j in range(i+1, n+1):\n",
    "            for k in range(j+1, n+1): \n",
    "                L.append([i, j, k])\n",
    "    return L"
   ]
  },
  {
   "cell_type": "code",
   "execution_count": 12,
   "metadata": {},
   "outputs": [
    {
     "data": {
      "text/plain": [
       "[[0, 1, 2],\n",
       " [0, 1, 3],\n",
       " [0, 1, 4],\n",
       " [0, 1, 5],\n",
       " [0, 2, 3],\n",
       " [0, 2, 4],\n",
       " [0, 2, 5],\n",
       " [0, 3, 4],\n",
       " [0, 3, 5],\n",
       " [0, 4, 5],\n",
       " [1, 2, 3],\n",
       " [1, 2, 4],\n",
       " [1, 2, 5],\n",
       " [1, 3, 4],\n",
       " [1, 3, 5],\n",
       " [1, 4, 5],\n",
       " [2, 3, 4],\n",
       " [2, 3, 5],\n",
       " [2, 4, 5],\n",
       " [3, 4, 5]]"
      ]
     },
     "execution_count": 12,
     "metadata": {},
     "output_type": "execute_result"
    }
   ],
   "source": [
    "parties3(5)"
   ]
  },
  {
   "cell_type": "code",
   "execution_count": null,
   "metadata": {},
   "outputs": [],
   "source": []
  }
 ],
 "metadata": {
  "kernelspec": {
   "display_name": "Python 3",
   "language": "python",
   "name": "python3"
  },
  "language_info": {
   "codemirror_mode": {
    "name": "ipython",
    "version": 3
   },
   "file_extension": ".py",
   "mimetype": "text/x-python",
   "name": "python",
   "nbconvert_exporter": "python",
   "pygments_lexer": "ipython3",
   "version": "3.7.6"
  }
 },
 "nbformat": 4,
 "nbformat_minor": 2
}
