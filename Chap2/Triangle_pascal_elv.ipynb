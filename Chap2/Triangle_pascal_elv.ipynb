{
 "cells": [
  {
   "cell_type": "markdown",
   "metadata": {},
   "source": [
    "<img src=\"https://raw.githubusercontent.com/lyceeHM/Terminale_Spe/master/python_lycee.png\">\n",
    "<div id=\"titre\">\n",
    "<h1 style=\"color:white;\n",
    "  font-family:Comic Sans MS;\n",
    "  font-size:3em;\n",
    "  background-color:black;\n",
    "  text-align:center;\n",
    "  padding:5px\">Triangle de Pascal</h1>\n",
    "<div style=\"font-family:Comic Sans MS; background-color:#888;box-shadow: 8px 8px 0px #aaa; text-align:center; width: 50%; color:white\">TSPE : Chapitre 2 - Combinatoire & Dénombrement</div>\n",
    "</div>"
   ]
  },
  {
   "cell_type": "markdown",
   "metadata": {},
   "source": [
    "<div style=\"color:black;font-weight:bold\"> <span style=\"font-size:4em\">A </span> <span style=\"font-family:Comic Sans MS;font-size:2em;color:white;background-color:gray;text-align:center\"> Triangle de Pascal</span></div> "
   ]
  },
  {
   "cell_type": "markdown",
   "metadata": {},
   "source": [
    "<div style=\"color:black;font-size:2em;font-weight:bold\">Rappel :</div>\n",
    "<blockquote style=\"border-left: 3px solid black;background-color:white\">\n",
    "<img src=\"triangle_pascal.png\" width=450px>\n",
    "    Animation : \n",
    "<img src=\"https://www.geogebra.org/resource/vf3usjq7/anPHEha4kpN3QpwV/material-vf3usjq7.png\" width=300px>\n",
    "</blockquote>"
   ]
  },
  {
   "cell_type": "markdown",
   "metadata": {},
   "source": [
    "<span style=\"font-size:2em;font-weight:bold\">1.</span> <span style=\"font-size:1.5em;font-weight:bold\">a.</span> Créer la liste <code style=\"background-color:white\">T = [[1], [1, 1]]</code>"
   ]
  },
  {
   "cell_type": "code",
   "execution_count": null,
   "metadata": {},
   "outputs": [],
   "source": [
    "?"
   ]
  },
  {
   "cell_type": "markdown",
   "metadata": {},
   "source": [
    "<span style=\"font-size:1.5em;font-weight:bold\">b.</span> Quelle instruction permet d'accéder à la deuxième liste de <code style=\"background-color:white\">T</code> ?"
   ]
  },
  {
   "cell_type": "code",
   "execution_count": null,
   "metadata": {},
   "outputs": [],
   "source": [
    "?"
   ]
  },
  {
   "cell_type": "markdown",
   "metadata": {},
   "source": [
    "<span style=\"font-size:1.5em;font-weight:bold\">c.</span> Interpréter chaque coefficient de liste suivante : "
   ]
  },
  {
   "cell_type": "code",
   "execution_count": null,
   "metadata": {},
   "outputs": [],
   "source": [
    "[1] + [T[1][0] + T[1][1]] + [1]"
   ]
  },
  {
   "cell_type": "markdown",
   "metadata": {},
   "source": [
    "<span style=\"font-size:2em;font-weight:bold\">2.</span> Considérons La fonction <code style=\"background-color:white\">pascal</code> de paramètre <code style=\"background-color:white\">n</code> qui renvoie la liste des lignes $0$ à $n$ associées au triangle de Pascal.\n",
    "<ul> \n",
    "    <li> Au départ la liste <code style=\"background-color:white\">T</code> contient <code style=\"background-color:white\">[[1], [1, 1]]</code>.\n",
    "    <blockquote style=\"border-left: 3px solid black;background-color:white\">\n",
    "    <ul>\n",
    "        <li><code style=\"background-color:white\">T[0] = [1]</code> <i>(c'est la ligne $0$ du triangle de Pascal)</i></li>\n",
    "        <li><code style=\"background-color:white\">T[1] = [1, 1]</code> <i>(c'est la ligne $1$ du triangle de Pascal)</i></li>\n",
    "    </ul>\n",
    "        </blockquote>\n",
    "        </li>\n",
    "    <li> Pour $i$ allant de $2$ à $n$, on ajoute à <code style=\"background-color:white\">T</code> la ligne $i$ du triangle de Pascal, à partir de la ligne $i-1$. \n",
    "        <blockquote style=\"border-left: 3px solid black;background-color:white\">\n",
    "         Autrement dit, pour chaque $i$,  on ajoute à <code style=\"background-color:white\">T</code> : \n",
    "        <div style=\"text-align:center\"> <code style=\"background-color:white\">T[i]</code> qui correspond à <code style=\"background-color:white\">[1]</code> + $\\left[\\dbinom{i}{1}\\,,\\,\\ldots\\,,\\,\\dbinom{i}{k}\\,,\\,\\ldots\\,,\\,\\dbinom{i}{i-1}\\right]$ + <code style=\"background-color:white\">[1]</code></div>\n",
    "        </blockquote>\n",
    "        </li>\n",
    "</ul>  "
   ]
  },
  {
   "cell_type": "code",
   "execution_count": null,
   "metadata": {},
   "outputs": [],
   "source": [
    "def pascal(n):\n",
    "    T = [[1], [1, 1]]\n",
    "    for i in range(2, n + 1):\n",
    "        T.append([1] + [T[i - 1][k - 1] + ......... for k in range(1, i)] + [...])\n",
    "    return ..."
   ]
  },
  {
   "cell_type": "markdown",
   "metadata": {},
   "source": [
    "<span style=\"font-size:2em;font-weight:bold\">3.</span> <b>Un triangle binaire de Pascal</b>\n",
    "<br><span style=\"font-size:1.5em;font-weight:bold\">a.</span> Exécuter la fonction <code style=\"background-color:white\">pascal_bin</code> pour <code style=\"background-color:white\">n</code> = 4, puis <code style=\"background-color:white\">n</code> = 15"
   ]
  },
  {
   "cell_type": "code",
   "execution_count": null,
   "metadata": {},
   "outputs": [],
   "source": [
    "def pascal_bin(n):\n",
    "    T = pascal(n)\n",
    "    for ligne in T:\n",
    "        s = ''\n",
    "        for coef in ligne:\n",
    "            s = s + str(coef % 2) +' '\n",
    "        print(format(s, '^81'))"
   ]
  },
  {
   "cell_type": "code",
   "execution_count": null,
   "metadata": {},
   "outputs": [],
   "source": [
    "pascal_bin(...)"
   ]
  },
  {
   "cell_type": "code",
   "execution_count": null,
   "metadata": {},
   "outputs": [],
   "source": [
    "pascal_bin(...)"
   ]
  },
  {
   "cell_type": "markdown",
   "metadata": {},
   "source": [
    "<span style=\"font-size:1.5em;font-weight:bold\">b.</span> Quel est le rôle de la fonction <code style=\"background-color:white\">pascal_bin</code> ?"
   ]
  },
  {
   "cell_type": "markdown",
   "metadata": {},
   "source": [
    "<span style=\"font-size:2em;font-weight:bold\">4.</span> <b>Vers le triangle de Siepinski</b>"
   ]
  },
  {
   "cell_type": "markdown",
   "metadata": {},
   "source": [
    "<span style=\"font-size:1.5em;font-weight:bold\">a.</span> Exécuter le code suivant."
   ]
  },
  {
   "cell_type": "code",
   "execution_count": null,
   "metadata": {},
   "outputs": [],
   "source": [
    "import numpy as np\n",
    "import matplotlib.pyplot as plt\n",
    "import matplotlib as mpl\n",
    "import matplotlib.transforms as mtransforms\n",
    "\n",
    "def pascal_bis(n):\n",
    "    T = pascal(n)\n",
    "    for i in range(len(T)):\n",
    "        T[i] = [c % 2 for c in T[i]] + [np.nan] * (n - i)\n",
    "    return np.array(T)\n",
    "\n",
    "def triangle(n):\n",
    "    M = np.array(pascal_bis(n))\n",
    "\n",
    "    fig, ax = plt.subplots(figsize = (9, 9))\n",
    "    ax.set_xlim(-1, n + 1)\n",
    "    ax.axis('off')\n",
    "\n",
    "    im = ax.imshow(M, cmap = mpl.colors.ListedColormap([\"white\", \"black\"]), aspect = 'auto')\n",
    "\n",
    "    angle = np.arctan(1/2)\n",
    "    xtrans = n * np.tan(angle)\n",
    "    im.set_transform(mtransforms.Affine2D().skew(-angle, 0).translate(xtrans, 0) + ax.transData)\n",
    "    plt.show()"
   ]
  },
  {
   "cell_type": "markdown",
   "metadata": {},
   "source": [
    "<span style=\"font-size:1.5em;font-weight:bold\">b.</span> Exécuter la fonction <code style=\"background-color:white\">triangle</code> pour $n = 2^5-1$"
   ]
  },
  {
   "cell_type": "code",
   "execution_count": null,
   "metadata": {},
   "outputs": [],
   "source": [
    "triangle(...)"
   ]
  },
  {
   "cell_type": "markdown",
   "metadata": {},
   "source": [
    "<span style=\"font-size:1.5em;font-weight:bold\">c.</span> Exécuter la fonction <code style=\"background-color:white\">triangle</code> pour $n = 2^{9}-1$"
   ]
  },
  {
   "cell_type": "code",
   "execution_count": null,
   "metadata": {},
   "outputs": [],
   "source": [
    "triangle(....)"
   ]
  },
  {
   "cell_type": "markdown",
   "metadata": {},
   "source": [
    "Visiter le lien suivant https://fr.wikipedia.org/wiki/Triangle_de_Sierpiński"
   ]
  },
  {
   "cell_type": "markdown",
   "metadata": {},
   "source": [
    "<div style=\"color:black;font-weight:bold\"> <span style=\"font-size:4em\">B </span> <span style=\"font-family:Comic Sans MS;font-size:2em;color:white;background-color:gray;text-align:center\"> Binome de Newton</span> "
   ]
  },
  {
   "cell_type": "markdown",
   "metadata": {},
   "source": [
    "<div style=\"color:black;font-size:2em;font-weight:bold\">Objectif :</div>\n",
    "<blockquote style=\"border-left: 3px solid black;background-color:white\">\n",
    "Quels que soient les réels $a$ et $b$ pour $n\\in\\mathbb{N}$, on souhaite développer $$\\left(a+b\\right)^n$$\n",
    "</blockquote>"
   ]
  },
  {
   "cell_type": "markdown",
   "metadata": {},
   "source": [
    "<span style=\"font-size:2em;font-weight:bold\">1.</span> Exécuter les cellules suivantes."
   ]
  },
  {
   "cell_type": "code",
   "execution_count": null,
   "metadata": {},
   "outputs": [],
   "source": [
    "from sympy import *\n",
    "\n",
    "n, a, b = symbols('n a b')"
   ]
  },
  {
   "cell_type": "code",
   "execution_count": null,
   "metadata": {},
   "outputs": [],
   "source": [
    "for n in range(5):\n",
    "    pprint(expand((a + b) ** n))\n",
    "    print('\\n')"
   ]
  },
  {
   "cell_type": "markdown",
   "metadata": {},
   "source": [
    "<span style=\"font-size:2em;font-weight:bold\">2.</span> Conjecturer la formule dite du binôme de Newton.\n",
    "<blockquote style=\"border-left: 3px solid black;background-color:white\"> $$\\left(a+b\\right)^n=\\sum_{k=0}^{\\ldots}\\ldots\\ldots a^kb^{n-k}$$\n",
    "</blockquote> "
   ]
  },
  {
   "cell_type": "markdown",
   "metadata": {},
   "source": [
    "<span style=\"font-size:2em;font-weight:bold\">3.</span> Démontrer cette formule par récurrence."
   ]
  },
  {
   "cell_type": "code",
   "execution_count": null,
   "metadata": {},
   "outputs": [],
   "source": []
  }
 ],
 "metadata": {
  "kernelspec": {
   "display_name": "Python 3",
   "language": "python",
   "name": "python3"
  },
  "language_info": {
   "codemirror_mode": {
    "name": "ipython",
    "version": 3
   },
   "file_extension": ".py",
   "mimetype": "text/x-python",
   "name": "python",
   "nbconvert_exporter": "python",
   "pygments_lexer": "ipython3",
   "version": "3.8.6"
  }
 },
 "nbformat": 4,
 "nbformat_minor": 2
}
