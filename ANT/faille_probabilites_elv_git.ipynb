{
 "cells": [
  {
   "cell_type": "markdown",
   "metadata": {},
   "source": [
    "<img src=\"https://raw.githubusercontent.com/lyceeHM/Terminale_Spe/master/python_lycee.png\">\n",
    "<div id=\"titre\">\n",
    "<h1 style=\"color:white;\n",
    "  font-family:Comic Sans MS;\n",
    "  font-size:3em;\n",
    "  background-color:black;\n",
    "  text-align:center;\n",
    "  padding:5px\">The Big One & la faille de San Andréa</h1>\n",
    "<div style=\"font-family:Comic Sans MS; background-color:#888;box-shadow: 8px 8px 0px #aaa; text-align:center; width: 50%; color:white\">TSPE : Probabilité</div>\n",
    "</div>"
   ]
  },
  {
   "cell_type": "markdown",
   "metadata": {},
   "source": [
    "<div style='background-color:#DDD;padding:10px;border-left: 0.4rem solid;border-radius: 25px;'>\n",
    "<div style='background-color:white;padding:10px;border-left: 0rem solid;border-radius: 25px;padding: 20px;font-family:Comic Sans MS;'>\n",
    "<b><u>Présentation du problème : </u></b>\n",
    "   <br> Le dernier grand tremblement de terre de cette région a été provoqué par un mouvement le long de la faille de San Andreas, le 18 avril 1906 avec une magnitude de $8,2$.\n",
    "    <img src=\"https://i.f1g.fr/media/figaro/704x396_cropupscale/2016/04/15/XVMda85691a-fcd3-11e5-935b-0e93b7b89a6d.jpg\" width=\"600px\">\n",
    "    <br> Trois minutes ont suffi pour anéantir tout un quartier -le plus riche- de San Francisco, et l'incendie provoqué par les explosions de gaz étend d'heure en heure ses ravages.\n",
    "    <br> Le prochain séisme de magnitude 8 est appelé <b>The Big One</b>.\n",
    "    </div>\n",
    "<br>\n",
    "<div style='background-color:white;padding:10px;border-left: 0rem solid;border-radius: 25px;padding: 20px;font-family:Comic Sans MS;'>\n",
    "    <b><u>Données fournies :</u></b>\n",
    "    <ul>\n",
    "        <li> L'université de Columbia à New-York fournit sur son site  <i><b><a href=\"https://www.ldeo.columbia.edu/~felixw/NCAeqDD/\" style=\"color:red\" target=\"_blank\">(Lien)</a></b></i> tous les séismes qui se sont produits entre 1984 et 2011. </li>\n",
    "        <li> Le fichier <code style=\"font-size:1.1em;background-color:'white\">San_andrea_mag_plus2.csv</code> contient les enrigistrements des séismes de magnitude supérieure à 2, relevés durant ces 28 ans écoulés.\n",
    "</li> \n",
    "        <li>L'ensemble de ces données est appelé <b>catalogue sismique</b>.</li>\n",
    "    </ul>\n",
    "</div>\n",
    "    <br>\n",
    "<div style='background-color:white;padding:10px;border-left: 0rem solid;border-radius: 25px;padding: 20px;font-family:Comic Sans MS;'>\n",
    "    <b><u>Objectifs : </u></b>\n",
    "    <ol>\n",
    "        <li> Estimons le temps de retour d'un tel séisme</li>\n",
    "        <li> Quelle est la probabilité que le Big One au moins une fois avant l'année estimée de son retour ? </li>\n",
    "    </ol>\n",
    "    </div>   \n",
    "</div>"
   ]
  },
  {
   "cell_type": "markdown",
   "metadata": {},
   "source": [
    "<span style=\"font-size:1.5em;font-weight:bold;padding-right: 30px;\"> 1.</span> <b>Lecture du catalogue sismique</b>"
   ]
  },
  {
   "cell_type": "markdown",
   "metadata": {},
   "source": [
    "<span style=\"font-size:1.5em;font-weight:bold;padding-left: 50px;padding-right:10px\"> a.</span> Exécuter le code suivant pour ouvrir <code style=\"background-color:white\">san_andrea.csv</code> et créer la table <code style=\"background-color:white\">T</code> associée grâce au module <b>pandas</b>. "
   ]
  },
  {
   "cell_type": "code",
   "execution_count": null,
   "metadata": {},
   "outputs": [],
   "source": [
    "import pandas as pa\n",
    "import pylab as pl\n",
    "pl.rcParams['font.size'] = 12\n",
    "\n",
    "import requests\n",
    "from io import StringIO\n",
    "\n",
    "url = requests.get(\"https://raw.githubusercontent.com/lyceeHM/Terminale_Spe/master/ANT/San_andrea_mag_plus2.csv\")\n",
    "\n",
    "T = pa.read_csv(StringIO(url.decode()), sep = ';')\n",
    "T"
   ]
  },
  {
   "cell_type": "markdown",
   "metadata": {},
   "source": [
    "<span style=\"font-size:1.5em;font-weight:bold;padding-left: 50px;padding-right:10px\"> b.</span> Quel fut le plus grand séisme observé entre 1984 et 2011 ? \n",
    "<blockquote style=\"padding-left: 20px;border-left: 2px solid;margin-left:60px\"> Compléter le code ci-dessous pour savoir la magnitude maximale.\n",
    "</blockquote>"
   ]
  },
  {
   "cell_type": "code",
   "execution_count": null,
   "metadata": {},
   "outputs": [],
   "source": [
    "T['...'].max()"
   ]
  },
  {
   "cell_type": "markdown",
   "metadata": {},
   "source": [
    "<blockquote style=\"padding-left: 20px;border-left: 2px solid;margin-left:60px\"> Compléter le code ci-dessous pour sélectionner sélectionner dans les données le séisme associé.\n",
    "</blockquote>"
   ]
  },
  {
   "cell_type": "code",
   "execution_count": null,
   "metadata": {},
   "outputs": [],
   "source": [
    "T.query('MAG == ...')"
   ]
  },
  {
   "cell_type": "markdown",
   "metadata": {},
   "source": [
    "<span style=\"font-size:1.5em;font-weight:bold;padding-right: 30px;\"> 2.</span> <b>Nombre $N(m)$ de séismes de magnitude supérieure ou égale à $m$ <em>(avec $m\\geqslant 2$)</em></b>"
   ]
  },
  {
   "cell_type": "markdown",
   "metadata": {},
   "source": [
    "<span style=\"font-size:1.5em;font-weight:bold;padding-left: 50px;padding-right:10px\"> a.</span> Compléter la fonction <code style=\"background-color:white\">prop</code> de paramètre <code style=\"background-color:white\">m</code> qui renvoie $N\\left(m\\right)$ <em>(parmi les séismes de magnitude $m\\geqslant 2$)</em>."
   ]
  },
  {
   "cell_type": "code",
   "execution_count": null,
   "metadata": {},
   "outputs": [],
   "source": [
    "def prop(m):\n",
    "    k = 0\n",
    "    for x in T.query('MAG ......')['MAG']:\n",
    "        if x >= m:\n",
    "            k = ...\n",
    "    return k"
   ]
  },
  {
   "cell_type": "markdown",
   "metadata": {},
   "source": [
    "<span style=\"font-size:1.5em;font-weight:bold;padding-left: 50px;padding-right:10px\"> b.</span> Compléter le code suivant pour créer <code style=\"background-color:white\">L</code> des valeurs de $N\\left(m\\right)$ pour $m$ allant de $2$ à $7,1$ avec un pas de $0,1$. "
   ]
  },
  {
   "cell_type": "code",
   "execution_count": null,
   "metadata": {},
   "outputs": [],
   "source": [
    "M = [k / 10 for k in range(20, ...)]\n",
    "L = [......... for x in M]"
   ]
  },
  {
   "cell_type": "markdown",
   "metadata": {},
   "source": [
    "<span style=\"font-size:1.5em;font-weight:bold;padding-left: 50px;padding-right:10px\"> c.</span> Exécuter les codes suivant pour représenter $N$ et $\\mathrm{Log}\\left(N\\right)$ sur l'intervalle $\\left[2\\,;\\,7,1\\right]$."
   ]
  },
  {
   "cell_type": "code",
   "execution_count": null,
   "metadata": {},
   "outputs": [],
   "source": [
    "pl.figure(figsize = (14, 4))\n",
    "pl.subplot(121)\n",
    "pl.grid(color = 'b')\n",
    "pl.plot(M, L, '.', color = 'black')\n",
    "pl.title(r'Représentation de $m\\longmapsto N(m)$ de 1984 à 2011')\n",
    "pl.xlabel('Magnitude $m$')\n",
    "\n",
    "pl.subplot(122)\n",
    "pl.plot(M, np.log10(L), '.', color = 'black')\n",
    "pl.grid(color = 'b')\n",
    "pl.title('Représentation de $m\\longmapsto \\mathrm{Log}N(m)$ de 1984 à 2011')\n",
    "pl.xlabel('Magnitude $m$')\n",
    "pl.show()"
   ]
  },
  {
   "cell_type": "markdown",
   "metadata": {},
   "source": [
    "<div style='background-color:#F7F5C3;padding:10px;border-left: 0.4rem solid;border-radius: 25px;margin-left:50px'>\n",
    "<div style='background-color:white;padding:10px;border-left: 0rem solid;border-radius: 25px;padding: 20px;font-family:Comic Sans MS;'>\n",
    "    <u><b>Rappel - complément :</b></u>\n",
    "    <ul>\n",
    "        <li>Par définition, on définit sur $\\mathbb{R}$ la fonction $x\\mapsto 10^x$ par $10^x=\\text{e}^{x\\ln(10)}$.<br>On dit que c'est la fonction <b>exponentielle de base</b> $10$.</li>\n",
    "        <li>L'équation $10^x=b$ admet <u>une unique solution</u>, appelée <b>logarithme décimal</b> de $x$, noté $\\text{Log}\\left(b\\right).$\n",
    "    <div style='border-color:red;padding:12px;border-radius: 10px;border: solid 0.1em;width:120px;margin-left:auto;margin-right:auto;background-color:#F7F5C3'>$10^{\\text{Log}\\left(b\\right)}=b$</div>\n",
    "        </li>\n",
    "        <li> On va utiliser en ordonnée une <b>échelle logarithmique</b>. \n",
    "            <img src=\"https://raw.githubusercontent.com/lyceeHM/Terminale_Spe/master/chap10/echelle_logarithmique.png\">\n",
    "            <br> C'est une échelle où l'on positionne $N\\left(m\\right)$ en son <b>logarithme décimal</b> $\\mathrm{Log}\\left(N\\left(m\\right)\\right)$.\n",
    "    </ul>\n",
    "    </div>\n",
    "</div>"
   ]
  },
  {
   "cell_type": "code",
   "execution_count": null,
   "metadata": {},
   "outputs": [],
   "source": [
    "pl.figure(figsize = (10, 6))\n",
    "\n",
    "pl.plot(M, L, '.', color = 'black')\n",
    "pl.grid(color = 'b')\n",
    "pl.grid(b = True, which = 'minor', color = 'orange', linestyle = '--')\n",
    "pl.title('Représentation \"logarithmique\" de $m\\longmapsto N(m)$ de 1984 à 2011')\n",
    "pl.xlabel('Magnitude $m$')\n",
    "pl.ylabel('Echelle logarithmique')\n",
    "pl.ylim(0.1, 10 ** 5)\n",
    "pl.yscale('log')\n",
    "pl.show()"
   ]
  },
  {
   "cell_type": "markdown",
   "metadata": {},
   "source": [
    "<span style=\"font-size:1.5em;font-weight:bold;padding-right: 30px;\"> 3.</span> <b>Loi de Gutemberg - Ritcher</b>"
   ]
  },
  {
   "cell_type": "markdown",
   "metadata": {},
   "source": [
    "<div style='background-color:#DDD;padding:10px;border-left: 0.4rem solid;border-radius: 25px;margin-left:50px'>\n",
    "    <div style='background-color:white;padding:10px;border-left: 0rem solid;border-radius: 25px;padding: 20px;font-family:Comic Sans MS;'>\n",
    "    <b><u>Observation : </u></b>\n",
    "<br>\n",
    "    <ul>\n",
    "        <li> Les points semblent se répartir autour d'une droite d'équation $y=ax+b$.</li>\n",
    "        <li>Le module <b>scipy.stats</b> fournit les coefficients $a$ et $b$ pour obtenir la droite la plus proche du nuage de points.</li>\n",
    "    </ul>\n",
    "    </div>\n",
    "</div>"
   ]
  },
  {
   "cell_type": "markdown",
   "metadata": {},
   "source": [
    "<span style=\"font-size:1.5em;font-weight:bold;padding-left: 50px;padding-right:10px\"> a.</span> Exécuter le code suivant pour déterminer les coefficients $a$ et $b$. <em>(Arrondir à $10^{-4}$ près)</em>."
   ]
  },
  {
   "cell_type": "code",
   "execution_count": null,
   "metadata": {},
   "outputs": [],
   "source": [
    "import numpy as np\n",
    "from scipy.stats import linregress\n",
    "\n",
    "a, b = linregress(M, np.log10(L))[:2]\n",
    "a, b"
   ]
  },
  {
   "cell_type": "markdown",
   "metadata": {},
   "source": [
    "<span style=\"font-size:1.5em;font-weight:bold;padding-left: 50px;padding-right:10px\"> b.</span> Exécuter le code suivant pour représenter cette droite sur le nuage de points précédent."
   ]
  },
  {
   "cell_type": "code",
   "execution_count": null,
   "metadata": {},
   "outputs": [],
   "source": [
    "pl.figure(figsize = (10, 7))\n",
    "\n",
    "pl.plot(M, L, '.', color = 'black')\n",
    "pl.plot([2, 8], [10 ** (a * 2 + b), 10 ** (a * 8 + b)], color = 'red')\n",
    "\n",
    "pl.grid(color = 'b')\n",
    "pl.grid(b = True, which = 'minor', color = 'orange', linestyle = '--')\n",
    "pl.title('Représentation \"logarithmique\" de $m\\longmapsto N(m)$ de 1984 à 2011')\n",
    "pl.xlabel('Magnitude $m$')\n",
    "pl.ylabel('Echelle logarithmique')\n",
    "pl.ylim(0.1, 10 ** 5)\n",
    "pl.yscale('log')"
   ]
  },
  {
   "cell_type": "markdown",
   "metadata": {},
   "source": [
    "<div style='background-color:#DDD;padding:10px;border-left: 0.4rem solid;border-radius: 25px;margin-left:50px'>\n",
    "    <div style='background-color:white;padding:10px;border-left: 0rem solid;border-radius: 25px;padding: 20px;font-family:Comic Sans MS;'>\n",
    "    <b><u>Conclusion : </u></b>\n",
    "<br><br>\n",
    "    <div style='border-color:red;padding:12px;border-radius:10px;border:solid 0.1em;width:150px;margin-left:auto;margin-right:auto;background-color:#F7F5C3'>$N\\left(m\\right)=10^{am+b}$</div> \n",
    "    <br><br> On vient de vérifier la validité de la loi de <b>Gutemberg - Ritcher</b> <i><b><a href=\"https://fr.wikipedia.org/wiki/Loi_de_Gutenberg-Richter\" style=\"color:red\" target=\"_blank\">(wikipedia)</a></b></i>.\n",
    "</div> \n",
    " </div>"
   ]
  },
  {
   "cell_type": "markdown",
   "metadata": {},
   "source": [
    "<span style=\"font-size:1.5em;font-weight:bold;padding-right: 30px;\"> 4.</span> <b>Temps de retour du prochain Big One</b> "
   ]
  },
  {
   "cell_type": "markdown",
   "metadata": {},
   "source": [
    "<span style=\"font-size:1.5em;font-weight:bold;padding-left: 50px;padding-right:10px\"> a.</span> Estimer selon ce modèle, le nombre de séismes de magnitude supérieure à $8$ en l'espace des 28 années :"
   ]
  },
  {
   "cell_type": "code",
   "execution_count": null,
   "metadata": {},
   "outputs": [],
   "source": [
    "..."
   ]
  },
  {
   "cell_type": "markdown",
   "metadata": {},
   "source": [
    "<span style=\"font-size:1.5em;font-weight:bold;padding-left: 50px;padding-right:10px\"> b.</span> Estimer selon ce modèle, le nombre $p$ de séismes de magnitude supérieure à $8$ en l'espace d'une année :"
   ]
  },
  {
   "cell_type": "code",
   "execution_count": null,
   "metadata": {},
   "outputs": [],
   "source": [
    "..."
   ]
  },
  {
   "cell_type": "markdown",
   "metadata": {},
   "source": [
    "<span style=\"font-size:1.5em;font-weight:bold;padding-left: 50px;padding-right:10px\"> c.</span> Compléter : &laquo;il y a 1 séisme tous les ........ ans&raquo; <em>(Arrondir à l'unité)</em>."
   ]
  },
  {
   "cell_type": "code",
   "execution_count": null,
   "metadata": {},
   "outputs": [],
   "source": [
    "..."
   ]
  },
  {
   "cell_type": "markdown",
   "metadata": {},
   "source": [
    "<span style=\"font-size:1.5em;font-weight:bold;padding-left: 50px;padding-right:10px\"> d.</span> En quelle année devrait se produire le prochain Big One ?"
   ]
  },
  {
   "cell_type": "markdown",
   "metadata": {},
   "source": [
    "..."
   ]
  },
  {
   "cell_type": "markdown",
   "metadata": {},
   "source": [
    "<span style=\"font-size:1.5em;font-weight:bold;padding-right: 30px;\"> 5.</span> <b>Probabilité d'avoir au moins un Big One sur $n$ années conscutives</b> "
   ]
  },
  {
   "cell_type": "markdown",
   "metadata": {},
   "source": [
    "<div style='background-color:#DDD;padding:10px;border-left: 0.4rem solid;border-radius: 25px;margin-left:50px'>\n",
    "    <div style='background-color:white;padding:10px;border-left: 0rem solid;border-radius: 25px;padding: 20px;font-family:Comic Sans MS;'>\n",
    "    <b><u>Modèle : </u></b>\n",
    "        <ul>\n",
    "            <li> On suppose qu'un Big One peut apparaître ou non de façon indépendante d'une année à l'autre avec une probabilité $p\\approx0,008$.</li>\n",
    "            <li>Soit $X_n$ la variable aléatoire qui donne le nombre de Big One qui peuvent se produire sur $n$ années consécutives.</li>\n",
    "        </ul>\n",
    "    </div>\n",
    "</div>"
   ]
  },
  {
   "cell_type": "markdown",
   "metadata": {},
   "source": [
    "<span style=\"font-size:1.5em;font-weight:bold;padding-left: 50px;padding-right:10px\"> a.</span> Exprimer  $\\mathbb{P}\\left(X_n\\geqslant 1\\right)$ en fonction de $n$ et $p$."
   ]
  },
  {
   "cell_type": "markdown",
   "metadata": {},
   "source": [
    "<span style=\"font-size:1.5em;font-weight:bold;padding-left: 50px;padding-right:10px\"> b.</span> Calculer la probabilité de voir au moins un Big sur $125$ ans."
   ]
  },
  {
   "cell_type": "code",
   "execution_count": null,
   "metadata": {},
   "outputs": [],
   "source": [
    "..."
   ]
  },
  {
   "cell_type": "markdown",
   "metadata": {},
   "source": [
    "<span style=\"font-size:1.5em;font-weight:bold;padding-left: 50px;padding-right:10px\"> b.</span> Calculer la probabilité de voir au moins un Big avant fin 2031."
   ]
  },
  {
   "cell_type": "code",
   "execution_count": null,
   "metadata": {},
   "outputs": [],
   "source": [
    "..."
   ]
  },
  {
   "cell_type": "code",
   "execution_count": null,
   "metadata": {},
   "outputs": [],
   "source": []
  }
 ],
 "metadata": {
  "kernelspec": {
   "display_name": "Python 3",
   "language": "python",
   "name": "python3"
  },
  "language_info": {
   "codemirror_mode": {
    "name": "ipython",
    "version": 3
   },
   "file_extension": ".py",
   "mimetype": "text/x-python",
   "name": "python",
   "nbconvert_exporter": "python",
   "pygments_lexer": "ipython3",
   "version": "3.8.6"
  }
 },
 "nbformat": 4,
 "nbformat_minor": 4
}
