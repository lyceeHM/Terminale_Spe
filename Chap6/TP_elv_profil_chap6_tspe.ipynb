{
 "cells": [
  {
   "cell_type": "markdown",
   "metadata": {
    "slideshow": {
     "slide_type": "slide"
    }
   },
   "source": [
    "<img src=\"http://maths.bro.free.fr/python_lycee.png\">\n",
    "<div id=\"titre\">\n",
    "<h1 style=\"color:white;\n",
    "  font-family:Comic Sans MS;\n",
    "  font-size:3em;\n",
    "  background-color:black;\n",
    "  text-align:center;\n",
    "  padding:5px\">Meilleur profil</h1>\n",
    "<div style=\"font-family:Comic Sans MS; background-color:#888;box-shadow: 8px 8px 0px #aaa; text-align:center; width: 50%; color:white\">TSPE : Chapitre 6 - Géométrie dans l'espace II</div>\n",
    "</div>"
   ]
  },
  {
   "cell_type": "markdown",
   "metadata": {
    "slideshow": {
     "slide_type": "slide"
    }
   },
   "source": [
    "# Présentation"
   ]
  },
  {
   "cell_type": "markdown",
   "metadata": {
    "slideshow": {
     "slide_type": "subslide"
    }
   },
   "source": [
    "<div style='background-color:#AAA;padding:10px;border-left: 1rem solid'>\n",
    "    <b>Obelix</b> est représenté par un nuage de points.\n",
    "    <ul>\n",
    "        <li> Chaque point $M_i$ du nuage a pour coordonnées $\\left(x_i\\,,\\,y_i\\,,\\,z_i\\right)$ dans le repère orthonormé  $\\left(O\\,;\\,\\overrightarrow{i}\\,,\\,\\overrightarrow{j}\\,,\\,\\overrightarrow{k}\\right)$.</li>\n",
    "        <li> On projette orthogonalement chaque point du nuage sur plan. \n",
    "            <br>Le nuage obtenu est appelé &laquo; profil &raquo;.</li>\n",
    "    </ul>\n",
    "    <table>\n",
    "    <tbody>\n",
    "        <tr>\n",
    "            <td style=\"background-color:#AAA;border:none\"><img src=\"http://maths.bro.free.fr/Files/obelix1.png\" width=\"300px\"></td>\n",
    "            <td style=\"background-color:#AAA;border:none\"><img src=\"http://maths.bro.free.fr/Files/obelix2.png\" width=\"300px\"></td>\n",
    "            <td style=\"background-color:#AAA;border:none\"><img src=\"http://maths.bro.free.fr/Files/obelix3.png\" width=\"300px\"></td>\n",
    "            <td style=\"background-color:#AAA;border:none\"><img src=\"http://maths.bro.free.fr/Files/obelix4.png\" width=\"300px\"></td>\n",
    "        </tr>\n",
    "    </tbody>\n",
    "</table>\n",
    "    Le &laquo; meilleur profil &raquo; d'Obelix est lorsque le nuage de points des projetés est le plus &laquo; éclaté &raquo; ou &laquo; dispersé &raquo;. \n",
    "  <img src=\"http://maths.bro.free.fr/Files/obelix.png\" width=\"500px\" style=\"margin-left:auto;margin-right:auto\">\n",
    "</div>"
   ]
  },
  {
   "cell_type": "markdown",
   "metadata": {
    "slideshow": {
     "slide_type": "slide"
    }
   },
   "source": [
    "# Problème "
   ]
  },
  {
   "cell_type": "markdown",
   "metadata": {},
   "source": [
    "<div style='background-color:#AAA;padding:10px;border-left: 1rem solid'>\n",
    "Le fichier <code style=\"background-color:#AAA\">'profil.csv'</code> <em><strong><a href=\"http://maths.bro.free.fr/Files/profil.csv\" style=\"color:red\" target=\"_blank\">(lien)</a></strong></em>  contient les coordonnées d'un nuage de points inconnu.\n",
    "<br><br>Tout comme pour Obelix, déterminons son &laquo; meilleur profil &raquo;.\n",
    "</div>"
   ]
  },
  {
   "cell_type": "markdown",
   "metadata": {
    "slideshow": {
     "slide_type": "slide"
    }
   },
   "source": [
    "# <span style=\"font-size:1.3em;font-weight:bold;padding-right: 30px;\"> A.</span> ouverture avec Pandas"
   ]
  },
  {
   "cell_type": "markdown",
   "metadata": {},
   "source": [
    "## <span style=\"font-size:1.3em;font-weight:bold;padding-right: 30px;\"> 1.</span> Traitement du jeu de données\n",
    "Exécuter la cellule ci-dessous pour ouvrir le jeu de données avec <b>pandas</b> :"
   ]
  },
  {
   "cell_type": "code",
   "execution_count": null,
   "metadata": {
    "slideshow": {
     "slide_type": "-"
    }
   },
   "outputs": [],
   "source": [
    "import pandas as pa\n",
    "import pylab as pl\n",
    "\n",
    "T = pa.read_csv('http://maths.bro.free.fr/Files/profil.csv')\n",
    "T"
   ]
  },
  {
   "cell_type": "markdown",
   "metadata": {
    "slideshow": {
     "slide_type": "subslide"
    }
   },
   "source": [
    "## <span style=\"font-size:1.3em;font-weight:bold;padding-right: 30px;\"> 2.</span> Première projection du nuage de points"
   ]
  },
  {
   "cell_type": "markdown",
   "metadata": {
    "slideshow": {
     "slide_type": "-"
    }
   },
   "source": [
    "<span style=\"font-size:2em;font-weight:bold;padding-right: 30px;\"> a.</span> Exécuter le code suivant pour représenter  <b>'y'</b> en fonction de <b>'x'</b>. "
   ]
  },
  {
   "cell_type": "code",
   "execution_count": null,
   "metadata": {},
   "outputs": [],
   "source": [
    "pl.axis('equal')\n",
    "pl.scatter(T['x'], T['y'], marker = 'o', color = 'brown', s = 0.1)\n",
    "pl.show()"
   ]
  },
  {
   "cell_type": "markdown",
   "metadata": {
    "slideshow": {
     "slide_type": "subslide"
    }
   },
   "source": [
    "<span style=\"font-size:2em;font-weight:bold;padding-right: 30px;\"> b.</span> Exécuter le code suivant. Quel est le point moyen du nuage ?"
   ]
  },
  {
   "cell_type": "code",
   "execution_count": null,
   "metadata": {},
   "outputs": [],
   "source": [
    "T.mean()"
   ]
  },
  {
   "cell_type": "markdown",
   "metadata": {},
   "source": [
    "<span style=\"font-size:1.6em;font-weight:bold;padding-right: 30px;\"> c.</span> Sur quel plan a-t-on projeté le nuage ? <em>(on donnera 2 vecteurs directeurs de ce plan)</em>. "
   ]
  },
  {
   "cell_type": "markdown",
   "metadata": {
    "slideshow": {
     "slide_type": "slide"
    }
   },
   "source": [
    "# <span style=\"font-size:1.3em;font-weight:bold;padding-right: 30px;\"> B.</span> projection du nuage sur une droite"
   ]
  },
  {
   "cell_type": "markdown",
   "metadata": {
    "slideshow": {
     "slide_type": "subslide"
    }
   },
   "source": [
    "<b><u>On note</u></b>\n",
    "<div style='background-color:#AAA;padding:10px;border-left: 1rem solid;margin-left: 70px;'>\n",
    "          <ul>\n",
    "                <li>$\\overrightarrow{d}$ le vecteur de l'espace de coordonnées $\\begin{pmatrix}a\\\\\n",
    "b\\\\\n",
    "c\n",
    "\\end{pmatrix}$ </li>\n",
    "                <li>$\\overrightarrow{u} = \\dfrac{\\overrightarrow{d}}{\\left\\Vert \\overrightarrow{d}\\right\\Vert }$ le vecteur colinéaire à $\\overrightarrow{d}$ de norme 1</li>\n",
    "        <br>\n",
    "        <li>$\\mathscr{D}$ la droite dirigée par $\\overrightarrow{u}$ et passant par $O$.\n",
    "        </li>\n",
    "    </ul>\n",
    "</div>"
   ]
  },
  {
   "cell_type": "markdown",
   "metadata": {
    "slideshow": {
     "slide_type": "subslide"
    }
   },
   "source": [
    "<b><u>Projection orthogonale du nuage sur $\\mathscr{D}$</u></b>\n",
    "<div style='background-color:#AAA;padding:10px;border-left: 1rem solid;margin-left: 70px;'>\n",
    "<table>\n",
    "    <tbody>\n",
    "        <tr>\n",
    "            <td style=\"text-align:left;background-color:#AAA;width:500px;border:none;font-size:1.3em;\">Soit $P_i$ le projeté orthogonal de $M_i$ sur $\\mathscr{D}$.\n",
    "    <br> <ul>\n",
    "    <li>Par construction, on a $$\\overrightarrow{OP_i}=p_i\\overrightarrow{u}$$ avec $p_i\\in \\mathbb{R}$.</li>\n",
    "    <li>Ainsi le point $P_i$ est repéré sur $\\mathscr{D}$ par son abscisse $p_i$.</li>\n",
    "    </ul></td>\n",
    "            <td style=\"text-align:left;background-color:#AAA;width:400px;border:none\"><img src=http://maths.bro.free.fr/Files/figure1_profil.png width='400px'></td>\n",
    "        </tr>\n",
    "    </tbody>\n",
    "</table>\n",
    "</div>"
   ]
  },
  {
   "cell_type": "markdown",
   "metadata": {
    "slideshow": {
     "slide_type": "subslide"
    }
   },
   "source": [
    "## <span style=\"font-size:1.3em;font-weight:bold;padding-right: 30px;\"> 1.</span> Calcul de $p_i$"
   ]
  },
  {
   "cell_type": "markdown",
   "metadata": {},
   "source": [
    "<span style=\"font-size:2em;font-weight:bold;padding-right: 30px;\"> a.</span> Calculer $\\overrightarrow{OM_i}\\,\\bullet\\,\\overrightarrow{u}$ de 2 façons différentes."
   ]
  },
  {
   "cell_type": "markdown",
   "metadata": {},
   "source": [
    "<span style=\"font-size:2em;font-weight:bold;padding-right: 30px;\"> b.</span> En déduire que : $$p_i=\\dfrac{ax_i+by_i+cz_i}{\\left\\Vert \\overrightarrow{d}\\right\\Vert}$$"
   ]
  },
  {
   "cell_type": "markdown",
   "metadata": {
    "slideshow": {
     "slide_type": "subslide"
    }
   },
   "source": [
    "## <span style=\"font-size:1.3em;font-weight:bold;padding-right: 30px;\"> 2.</span> Variance des $\\left(p_i\\right)$"
   ]
  },
  {
   "cell_type": "markdown",
   "metadata": {},
   "source": [
    "Compléter la fonction nommée <code style=\"background-color:white\">variance</code> de paramètres <code style=\"background-color:white\">a</code>, <code style=\"background-color:white\">b</code> et <code style=\"background-color:white\">c</code>.\n",
    "<br> Elle renvoie la variance de la série statistique $(p_i)$ :"
   ]
  },
  {
   "cell_type": "code",
   "execution_count": null,
   "metadata": {},
   "outputs": [],
   "source": [
    "def variance(a, b, c):\n",
    "    C = a * T['x'] + b * T['y'] + c * T['z']\n",
    "    norm = (... + ... + c ** 2) ** 0.5\n",
    "    C = C / ...\n",
    "    return C.var()"
   ]
  },
  {
   "cell_type": "markdown",
   "metadata": {
    "slideshow": {
     "slide_type": "slide"
    }
   },
   "source": [
    "<b><u>Objectif</u></b>\n",
    "<div style='background-color:#AAA;padding:10px;border-left: 1rem solid;text-align:left;margin-left: 70px;'>\n",
    "On cherche à déterminer le vecteur $\\overrightarrow{u_0}$ de :<br>\n",
    "    <ul>\n",
    "        <li>norme 1</li>\n",
    "        <li>coordonnées $\\begin{pmatrix}a_0\\\\\n",
    "b_0\\\\\n",
    "c_0\n",
    "\\end{pmatrix}$</li>\n",
    "    </ul>\n",
    "    <br>qui maximise la variance de la série statistique des $(p_i)$.\n",
    "<br> Ainsi la droite $\\mathscr{D}_0$ engendrée par $\\overrightarrow{u_0}$ maximisera la dispersion du nuage projeté.\n",
    "</div>"
   ]
  },
  {
   "cell_type": "markdown",
   "metadata": {
    "slideshow": {
     "slide_type": "slide"
    }
   },
   "source": [
    "# <span style=\"font-size:1.3em;font-weight:bold;padding-right: 30px;\"> C.</span> Recherche de $\\mathscr{D_0}$ par simulations aléatoires"
   ]
  },
  {
   "cell_type": "markdown",
   "metadata": {
    "slideshow": {
     "slide_type": "subslide"
    }
   },
   "source": [
    "## <span style=\"font-size:1.3em;font-weight:bold;padding-right: 30px;\"> 1.</span> Import de <code style=\"background-color:white\">uniform</code>\n",
    "Exécuter le code suivant pour charger la fonction <code style=\"background-color:white\">uniform</code> du module random. "
   ]
  },
  {
   "cell_type": "code",
   "execution_count": null,
   "metadata": {},
   "outputs": [],
   "source": [
    "from random import uniform"
   ]
  },
  {
   "cell_type": "markdown",
   "metadata": {
    "slideshow": {
     "slide_type": "subslide"
    }
   },
   "source": [
    "## <span style=\"font-size:1.3em;font-weight:bold;padding-right: 30px;\"> 2.</span> Recherche de $a_0$, $b_0$ et $c_0$ par simulations aléatoires "
   ]
  },
  {
   "cell_type": "markdown",
   "metadata": {
    "slideshow": {
     "slide_type": "subslide"
    }
   },
   "source": [
    "<span style=\"font-size:2em;font-weight:bold;padding-right: 30px;\"> a.</span> La fonction <b>tirage1</b> a pour paramètre <b>n</b> <em>(un nombre entier non nul)</em>.\n",
    "<div style='background-color:#AAA;padding:10px;border-left: 1rem solid;margin-left: 60px;'>\n",
    "Elle génère <b>n</b> fois de suite :\n",
    "<ul>\n",
    "    <li>3 nombres <code style=\"background-color:#AAA\">a</code>, <code style=\"background-color:#AAA\">b</code> et <code style=\"background-color:#AAA\">c</code> choisis aléatoirement dans $[-1\\,;\\,1]$</li>\n",
    "    <li>calcule la norme notée <code style=\"background-color:#AAA\">norm</code> du vecteur $\\begin{pmatrix}a\\\\\n",
    "b\\\\\n",
    "c\n",
    "\\end{pmatrix}$ </li>\n",
    "                <li>calcule la variance <code style=\"background-color:#AAA\">v</code> de la série statistique $(p_i)$</li>\n",
    "</ul>\n",
    "<br> Elle calcule les valeurs de <code style=\"background-color:#AAA\">a</code>, <code style=\"background-color:#AAA\">b</code> et <code style=\"background-color:#AAA\">c</code> qui rendent la variance des $(p_i)$ maximale.\n",
    "    <br>Les valeurs renvoyées sont :\n",
    "    <ul>\n",
    "        <li>$a_0$, $b_0$ et $c_0$ respectivement égales à <code style=\"background-color:#AAA\">a / norm</code>, <code style=\"background-color:#AAA\">b / norm</code>, <code style=\"background-color:#AAA\">c / norm</code></li>\n",
    "        <li> <code style=\"background-color:#AAA\">m</code> la valeur maximale de la variance</li>\n",
    "    </ul>\n",
    "</div>"
   ]
  },
  {
   "cell_type": "markdown",
   "metadata": {
    "slideshow": {
     "slide_type": "subslide"
    }
   },
   "source": [
    "Compléter les intructions en pointillés puis exécuter la cellule :"
   ]
  },
  {
   "cell_type": "code",
   "execution_count": null,
   "metadata": {
    "slideshow": {
     "slide_type": "-"
    }
   },
   "outputs": [],
   "source": [
    "def tirage1(n):\n",
    "    m = 0\n",
    "    for k in range(n):\n",
    "        a = uniform(-1, 1)\n",
    "        b = ...\n",
    "        c = ...\n",
    "        v = variance(a, b, c)\n",
    "        norm = (... + ... + c ** 2) ** 0.5\n",
    "        if v > m:\n",
    "            m = v\n",
    "            a0, b0, c0 = ..., ..., c / norm\n",
    "    return a0, b0, c0, m"
   ]
  },
  {
   "cell_type": "markdown",
   "metadata": {
    "slideshow": {
     "slide_type": "subslide"
    }
   },
   "source": [
    "<span style=\"font-size:2em;font-weight:bold;padding-right: 30px;\"> b.</span> Exécuter la fonction <b>tirage1</b> pour <code style=\"background-color:white\">n</code>$=10\\,000$"
   ]
  },
  {
   "cell_type": "code",
   "execution_count": null,
   "metadata": {},
   "outputs": [],
   "source": [
    "a0, b0, c0, m = tirage1(...)\n",
    "a0, b0, c0, m"
   ]
  },
  {
   "cell_type": "markdown",
   "metadata": {},
   "source": [
    "<span style=\"font-size:2em;font-weight:bold;padding-right: 30px;\"> c.</span> Après ces simulations, lire les coordonnées obtenues du vecteur $\\overrightarrow{u_0}$."
   ]
  },
  {
   "cell_type": "markdown",
   "metadata": {
    "slideshow": {
     "slide_type": "slide"
    }
   },
   "source": [
    "# <span style=\"font-size:1.3em;font-weight:bold;padding-right: 30px;\"> D.</span> Projection du nuage sur une droite orthogonale à $\\mathscr{D}_0$"
   ]
  },
  {
   "cell_type": "markdown",
   "metadata": {
    "slideshow": {
     "slide_type": "subslide"
    }
   },
   "source": [
    "<b><u>Objectif :</u></b>\n",
    "<div style='background-color:#AAA;padding:10px;border-left: 1rem solid;margin-left: 70px;'>\n",
    "    On cherche une droite $\\mathscr{D}_1$ une droite orthogonale à $\\mathscr{D}_0$ passant par l'origine du repère de sorte que le nuage des projetés soit le plus éclaté possible\n",
    "</div>\n",
    "<br>\n",
    "    On notera $\\overrightarrow{u}_1$ un vecteur directeur de $\\mathscr{D}_1$ de norme $1$."
   ]
  },
  {
   "cell_type": "markdown",
   "metadata": {
    "slideshow": {
     "slide_type": "subslide"
    }
   },
   "source": [
    "<b><u>Projection orthogonale du nuage sur $\\mathscr{D}_1$</u></b>\n",
    "<div style='background-color:#AAA;padding:10px;border-left: 1rem solid;margin-left: 70px;'>\n",
    "<table>\n",
    "    <tbody>\n",
    "        <tr>\n",
    "            <td style=\"text-align:left;background-color:#AAA;width:500px;border:none;font-size:1.3em;\">Soit $Q_i$ le projeté orthogonal de $M_i$ sur $\\mathscr{D}_1$.\n",
    "    <br> <ul>\n",
    "    <li>Par construction, on a $$\\overrightarrow{OQ_i}=q_i\\overrightarrow{u_1}$$ avec $q_i\\in \\mathbb{R}$.</li>\n",
    "    <li>Ainsi le point $Q_i$ est repéré sur $\\mathscr{D}_1$ par son abscisse $q_i$.</li>\n",
    "    </ul></td>\n",
    "            <td style=\"text-align:left;background-color:#AAA;width:400px;border:none\"><img src=http://maths.bro.free.fr/Files/figure2_profil.png width='400px'></td>\n",
    "        </tr>\n",
    "    </tbody>\n",
    "</table>\n",
    "</div>"
   ]
  },
  {
   "cell_type": "markdown",
   "metadata": {
    "slideshow": {
     "slide_type": "subslide"
    }
   },
   "source": [
    "<b><u>Objectif :</u></b>\n",
    "<div style='background-color:#AAA;padding:10px;border-left: 1rem solid;margin-left: 70px;'>\n",
    "On cherche à déterminer le vecteur $\\overrightarrow{u_1}$ :\n",
    "    <ul>\n",
    "        <li>de norme 1</li>\n",
    "        <li>de coordonnées $\\begin{pmatrix}a_1\\\\\n",
    "b_1\\\\\n",
    "c_1\n",
    "\\end{pmatrix}$</li>\n",
    "        <li>orthogonal à $\\overrightarrow{u_0}$</li>\n",
    "        <li>tel que la variance de la série $(q_i)$ soit maximale </li>\n",
    "    </ul>\n",
    "</div>"
   ]
  },
  {
   "cell_type": "markdown",
   "metadata": {
    "slideshow": {
     "slide_type": "subslide"
    }
   },
   "source": [
    "## <span style=\"font-size:1.3em;font-weight:bold;padding-right: 30px;\"> 1.</span> Expression de $c_1$."
   ]
  },
  {
   "cell_type": "markdown",
   "metadata": {},
   "source": [
    "En traduisant le fait que $\\overrightarrow{u_0}\\,\\begin{pmatrix}a_0\\\\\n",
    "b_0\\\\\n",
    "c_0\n",
    "\\end{pmatrix}$,  $\\overrightarrow{u_1}\\,\\begin{pmatrix}a_1\\\\\n",
    "b_1\\\\\n",
    "c_1\n",
    "\\end{pmatrix}$ sont orthogonaux, démontrer alors\n",
    "$$c_1=-\\dfrac{a_0a_1+b_0b_1}{c_0}$$"
   ]
  },
  {
   "cell_type": "markdown",
   "metadata": {
    "slideshow": {
     "slide_type": "subslide"
    }
   },
   "source": [
    "## <span style=\"font-size:1.3em;font-weight:bold;padding-right: 30px;\"> 2.</span> Recherche de $a_1$, $b_1$ et $c_1$ par simulations aléatoires "
   ]
  },
  {
   "cell_type": "markdown",
   "metadata": {
    "slideshow": {
     "slide_type": "subslide"
    }
   },
   "source": [
    "<span style=\"font-size:2em;font-weight:bold;padding-right: 30px;\"> a.</span> La fonction <b>tirage2</b> a pour paramètre <b>n</b> <em>(un nombre entier non nul)</em>.\n",
    "<div style='background-color:#AAA;padding:10px;border-left: 1rem solid;margin-left: 60px;'>\n",
    "Elle génère <b>n</b> fois de suite :\n",
    "<ul>\n",
    "    <li>2 nombres <code style=\"background-color:#AAA\">a</code>, <code style=\"background-color:#AAA\">b</code> choisis aléatoirement dans $[-1\\,;\\,1]$</li>\n",
    "    <li>calcule la valeur de <code style=\"background-color:#AAA\">c</code> de sorte que le vecteur $\\begin{pmatrix}a\\\\\n",
    "b\\\\\n",
    "c\n",
    "\\end{pmatrix}$ soit orthogonal à $\\overrightarrow{u_0}$ </li>\n",
    "            <li> calcule la norme notée <code style=\"background-color:#AAA\">norm</code> du vecteur obtenu </li>\n",
    "                <li>calcule la variance <code style=\"background-color:#AAA\">v</code> de la série statistique $(q_i)$</li>\n",
    "        </ul>\n",
    "<br> Elle calcule les valeurs de <code style=\"background-color:#AAA\">a</code>, <code style=\"background-color:#AAA\">b</code> et <code style=\"background-color:#AAA\">c</code> qui rendent la variance des $(q_i)$ maximale.\n",
    "    <br>Les valeurs renvoyées sont :\n",
    "    <ul>\n",
    "        <li>$a_1$, $b_1$ et $c_1$ respectivement égales à <code style=\"background-color:#AAA\">a / norm</code>, <code style=\"background-color:#AAA\">b / norm</code>, <code style=\"background-color:#AAA\">c / norm</code></li>\n",
    "        <li> <code style=\"background-color:#AAA\">m</code> la valeur maximale de la variance</li>\n",
    "    </ul>\n",
    "</div>"
   ]
  },
  {
   "cell_type": "markdown",
   "metadata": {
    "slideshow": {
     "slide_type": "subslide"
    }
   },
   "source": [
    "Compléter les intructions en pointillés puis exécuter la cellule :"
   ]
  },
  {
   "cell_type": "code",
   "execution_count": null,
   "metadata": {
    "slideshow": {
     "slide_type": "-"
    }
   },
   "outputs": [],
   "source": [
    "def tirage2(n):\n",
    "    m = 0\n",
    "    for k in range(n):\n",
    "        a = ...\n",
    "        b = ...\n",
    "        c = -(a0 * a + b0 * b) / c0\n",
    "        norm = (... + ... + c **2 ) ** 0.5\n",
    "        v = variance(a, b, c)\n",
    "        if v > m:\n",
    "            m = v\n",
    "            a1, b1, c1 = ..., ..., c / norm\n",
    "    return a1, b1, c1, m"
   ]
  },
  {
   "cell_type": "markdown",
   "metadata": {
    "slideshow": {
     "slide_type": "subslide"
    }
   },
   "source": [
    "<span style=\"font-size:2em;font-weight:bold;padding-right: 30px;\"> b.</span> Exécuter la fonction <b>tirage2</b> pour <code style=\"background-color:white\">n</code>$=10\\,000$"
   ]
  },
  {
   "cell_type": "code",
   "execution_count": null,
   "metadata": {},
   "outputs": [],
   "source": [
    "a1, b1, c1, m = tirage2(...)\n",
    "a1, b1, c1, m"
   ]
  },
  {
   "cell_type": "markdown",
   "metadata": {},
   "source": [
    "<span style=\"font-size:2em;font-weight:bold;padding-right: 30px;\"> c.</span> Après ces simulations, lire les coordonnées obtenues du vecteur $\\overrightarrow{u_1}$."
   ]
  },
  {
   "cell_type": "markdown",
   "metadata": {
    "slideshow": {
     "slide_type": "slide"
    }
   },
   "source": [
    "<b><u>Pour la suite</u></b>\n",
    "<div style='background-color:#AAA;padding:10px;border-left: 1rem solid;margin-left: 60px;'>\n",
    "    <ul>\n",
    "        <li> On  notera $\\mathscr{P}$ le plan ayant pour repère $\\left(O\\,,\\,\\overrightarrow{u_0}\\,,\\,\\overrightarrow{u_1}\\right)$</li>\n",
    "        <li>$M_i$ a pour projeté orthogonal sur $\\mathscr{D_0}$, le point $P_i$ et $$\\overrightarrow{OP_i}=p_i\\overrightarrow{u}_0$$</li>\n",
    "        <li>$M_i$ a pour projeté orthogonal sur $\\mathscr{D_1}$, le point $Q_i$ et $$\\overrightarrow{OQ_i}=q_i\\overrightarrow{u}_1$$</li>\n",
    "    </ul>\n",
    "</div>"
   ]
  },
  {
   "cell_type": "markdown",
   "metadata": {
    "slideshow": {
     "slide_type": "slide"
    }
   },
   "source": [
    "# <span style=\"font-size:1.3em;font-weight:bold;padding-right: 30px;\"> E.</span> projection du nuage sur le plan $\\mathscr{P}$"
   ]
  },
  {
   "cell_type": "markdown",
   "metadata": {
    "slideshow": {
     "slide_type": "subslide"
    }
   },
   "source": [
    "<div style='background-color:#AAA;padding:10px;border-left: 1rem solid;margin-left: 60px;'>\n",
    "    <table>\n",
    "    <tbody>\n",
    "        <tr>\n",
    "            <td style=\"text-align:left;background-color:#AAA;width:400px;border:none;font-size:1.4em;\">\n",
    "                Soit $H_i$ tel que $$\\overrightarrow{OH_i}=p_i\\overrightarrow{u_0}+q_i\\overrightarrow{u_1}$$\n",
    "            </td>\n",
    "            <td style=\"text-align:left;background-color:#AAA;width:600px;border:none\"><img src=http://maths.bro.free.fr/Files/figure3_profil.png width='600px'></td>\n",
    "        </tr>\n",
    "    </tbody>\n",
    "</table>\n",
    "</div>"
   ]
  },
  {
   "cell_type": "markdown",
   "metadata": {
    "slideshow": {
     "slide_type": "subslide"
    }
   },
   "source": [
    "## <span style=\"font-size:1.3em;font-weight:bold;padding-right: 30px;\"> 1.</span> Projeté orthogonal"
   ]
  },
  {
   "cell_type": "markdown",
   "metadata": {},
   "source": [
    "Démontrer que $H_i$ est le projeté orthogonal de $M_i$ sur $\\mathscr{P}$."
   ]
  },
  {
   "cell_type": "markdown",
   "metadata": {
    "slideshow": {
     "slide_type": "subslide"
    }
   },
   "source": [
    "## <span style=\"font-size:1.3em;font-weight:bold;padding-right: 30px;\"> 2.</span> Calcul des $p_i$ et $q_i$"
   ]
  },
  {
   "cell_type": "markdown",
   "metadata": {},
   "source": [
    "<span style=\"font-size:2em;font-weight:bold;padding-right: 30px;\"> a.</span> On rappelle que $p_i=a_0x_i+b_0y_i+c_0z_i$.\n",
    "<br>Pour ajouter à la table <b>T</b> la colonne nommée <b>'pi'</b> contenant les nombres $p_i$ exécuter :"
   ]
  },
  {
   "cell_type": "code",
   "execution_count": null,
   "metadata": {},
   "outputs": [],
   "source": [
    "T['pi'] = a0 * T['x'] + b0 * T['y'] + c0 * T['z']\n",
    "T.head()"
   ]
  },
  {
   "cell_type": "markdown",
   "metadata": {
    "slideshow": {
     "slide_type": "subslide"
    }
   },
   "source": [
    "<span style=\"font-size:2em;font-weight:bold;padding-right: 30px;\"> b.</span> On rappelle que $q_i=a_1x_i+b_1y_i+c_1z_i$.\n",
    "<br>Ajouter à la table <b>T</b> la colonne nommée <b>'qi'</b> contenant les nombres $q_i$."
   ]
  },
  {
   "cell_type": "code",
   "execution_count": null,
   "metadata": {},
   "outputs": [],
   "source": [
    "T['qi'] = ...\n",
    "T.head()"
   ]
  },
  {
   "cell_type": "markdown",
   "metadata": {
    "slideshow": {
     "slide_type": "subslide"
    }
   },
   "source": [
    "## <span style=\"font-size:1.3em;font-weight:bold;padding-right: 30px;\"> 3.</span> Représentation du nuage projeté sur $\\mathscr{P}$"
   ]
  },
  {
   "cell_type": "markdown",
   "metadata": {},
   "source": [
    "<span style=\"font-size:2em;font-weight:bold;padding-right: 30px;\"> a.</span> Exécuter le code suivant pour représenter le nuage projeté sur $\\mathscr{P}$"
   ]
  },
  {
   "cell_type": "code",
   "execution_count": null,
   "metadata": {},
   "outputs": [],
   "source": [
    "pl.axis('equal')\n",
    "pl.scatter(T['pi'], T['qi'], marker = 'o', color = 'brown', s = 0.1)\n",
    "pl.show()"
   ]
  },
  {
   "cell_type": "markdown",
   "metadata": {
    "slideshow": {
     "slide_type": "subslide"
    }
   },
   "source": [
    "<span style=\"font-size:2em;font-weight:bold;padding-right: 30px;\"> b.</span> Représenter le nuage projeté sur $\\mathscr{P}$ avec une meilleure orientation de l'animal <em>(<b>si celui-ci ne pointe pas le bout de son nez de la gauche vers la droite</b>...)</em>"
   ]
  },
  {
   "cell_type": "code",
   "execution_count": null,
   "metadata": {},
   "outputs": [],
   "source": [
    "pl.axis('equal')\n",
    "pl.scatter(..., ... , marker = 'o', color = 'brown', s = 0.1)\n",
    "pl.show()"
   ]
  },
  {
   "cell_type": "markdown",
   "metadata": {
    "slideshow": {
     "slide_type": "subslide"
    }
   },
   "source": [
    "<span style=\"font-size:2em;font-weight:bold;padding-right: 30px;\"> c.</span> Qui est-ce ? "
   ]
  },
  {
   "cell_type": "markdown",
   "metadata": {
    "slideshow": {
     "slide_type": "slide"
    }
   },
   "source": [
    "# <span style=\"font-size:1.3em;font-weight:bold;padding-right: 30px;\"> Bonus :</span> projection du nuage sur le plan $\\mathscr{P}$ dans l'espace"
   ]
  },
  {
   "cell_type": "markdown",
   "metadata": {},
   "source": [
    "<b><u>Rappels :</u></b>\n",
    "<div style='background-color:#AAA;padding:10px;border-left: 1rem solid;margin-left: 60px;'> \n",
    " $\\overrightarrow{OH_i}=p_i\\overrightarrow{u}_0+q_i\\overrightarrow{u}_1$\n",
    " <br>\n",
    " <br>$\\overrightarrow{u_0} \\ \\begin{pmatrix}a_0\\\\\n",
    "b_0\\\\\n",
    "c_0\n",
    "\\end{pmatrix}$ et $\\overrightarrow{u_1} \\ \\begin{pmatrix}a_1\\\\\n",
    "b_1\\\\\n",
    "c_1\n",
    "\\end{pmatrix}$\n",
    "</div>"
   ]
  },
  {
   "cell_type": "markdown",
   "metadata": {
    "slideshow": {
     "slide_type": "subslide"
    }
   },
   "source": [
    "## <span style=\"font-size:1.3em;font-weight:bold;padding-right: 30px;\"> 1.</span> Coordonnées de $H_i$ dans le repère $\\left(O\\,;\\,\\overrightarrow{i}\\,,\\,\\overrightarrow{j}\\,,\\,\\overrightarrow{k}\\right)$ "
   ]
  },
  {
   "cell_type": "markdown",
   "metadata": {},
   "source": [
    "<span style=\"font-size:2em;font-weight:bold;padding-right: 30px;\"> a.</span> Déterminer les coordonnées de $H_i$ $\\begin{pmatrix}a_0p_i+a_1q_i\\\\\n",
    "b_0p_i+b_1q_i\\\\\n",
    "c_0p_i+c_1q_i\n",
    "\\end{pmatrix}$ dans ce repère."
   ]
  },
  {
   "cell_type": "markdown",
   "metadata": {
    "slideshow": {
     "slide_type": "subslide"
    }
   },
   "source": [
    "<span style=\"font-size:2em;font-weight:bold;padding-right: 30px;\"> b.</span> Ajouter l'abscisse de chaque point $H_i$ dans une nouvelle colonne de <b>T</b> nommée <b>x_Hi</b>.\n",
    "<br> Faire de même pour les ordonnées et les côtes dans les colonnes nommées respectivement <b>y_Hi</b> et <b>z_Hi</b>."
   ]
  },
  {
   "cell_type": "code",
   "execution_count": null,
   "metadata": {},
   "outputs": [],
   "source": [
    "T['x_Hi'] = a0 * T['pi'] + ... * T['qi']\n",
    "T['y_Hi'] = ...\n",
    "T['z_Hi'] = ...\n",
    "T.head()"
   ]
  },
  {
   "cell_type": "markdown",
   "metadata": {
    "slideshow": {
     "slide_type": "subslide"
    }
   },
   "source": [
    "## <span style=\"font-size:1.3em;font-weight:bold;padding-right: 30px;\"> 2.</span> Nuage des projetés\n",
    "Pour réprésenter dans l'espace du <span style='color:blue'><b>nuage projeté</b></span> sur $\\mathscr{P}$, exécuter le code suivant :"
   ]
  },
  {
   "cell_type": "code",
   "execution_count": null,
   "metadata": {
    "slideshow": {
     "slide_type": "subslide"
    }
   },
   "outputs": [],
   "source": [
    "import plotly.graph_objects as go\n",
    "import plotly.io as pio\n",
    "pio.renderers.default = 'iframe'\n",
    "\n",
    "nuage_projeté = go.Scatter3d(x = T['x_Hi'], y = T['y_Hi'], z = T['z_Hi'],\n",
    "                             mode = 'markers', name = r'Points H_i',\n",
    "                             marker = {'color' : 'brown', 'size' : 2}\n",
    "                            )\n",
    "fig = go.Figure(data = [nuage_projeté])\n",
    "fig.update_layout(margin = {'l' : 0, 'r' : 0, 'b' : 0, 't' : 0})"
   ]
  },
  {
   "cell_type": "markdown",
   "metadata": {
    "slideshow": {
     "slide_type": "subslide"
    }
   },
   "source": [
    "Instruction permettant d'ajouter en plus du <span style='color:brown'><b>nuage de l'animal</b></span> :"
   ]
  },
  {
   "cell_type": "code",
   "execution_count": null,
   "metadata": {},
   "outputs": [],
   "source": [
    "fig.add_scatter3d(x = T['x'], y = T['y'], z = T['z'], \n",
    "                  mode = 'markers', name = r'Points M_i',\n",
    "                  marker = {'color' : 'blue', 'size' : 2}, opacity = 0.4)\n",
    "fig.update_layout(margin = {'l' : 0, 'r' : 0, 'b' : 0, 't' : 20})"
   ]
  }
 ],
 "metadata": {
  "celltoolbar": "Format de la Cellule Texte Brut",
  "kernelspec": {
   "display_name": "Python 3",
   "language": "python",
   "name": "python3"
  },
  "language_info": {
   "codemirror_mode": {
    "name": "ipython",
    "version": 3
   },
   "file_extension": ".py",
   "mimetype": "text/x-python",
   "name": "python",
   "nbconvert_exporter": "python",
   "pygments_lexer": "ipython3",
   "version": "3.8.6"
  },
  "load_extensions": {
   "livereveal/main": true
  },
  "nbext_hide_incompat": true
 },
 "nbformat": 4,
 "nbformat_minor": 2
}
